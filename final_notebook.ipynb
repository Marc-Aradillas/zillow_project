{
 "cells": [
  {
   "cell_type": "markdown",
   "id": "24cecc0a-1755-4e3c-883e-e5cbc5b29f79",
   "metadata": {},
   "source": [
    "# Project Zillow"
   ]
  },
  {
   "cell_type": "markdown",
   "id": "e0a1d7e8-714b-4259-b1b3-3fcb0ce6fc08",
   "metadata": {},
   "source": [
    "- Predict the tax assessed property value of Zillow Single Family Residential properties with transaction dates in 2017.\n"
   ]
  },
  {
   "cell_type": "markdown",
   "id": "f0fb2cf7-4836-4fe9-ad28-e0eb2573ce69",
   "metadata": {},
   "source": [
    "# Goal"
   ]
  },
  {
   "cell_type": "markdown",
   "id": "f9baa552-c300-4d47-bff3-e87ee6c6b44c",
   "metadata": {},
   "source": [
    "- Identify drivers of property value.\n",
    "- Use drivers to develop a machine learning model to predict Single Family Residential property value."
   ]
  },
  {
   "cell_type": "markdown",
   "id": "44d6b0e9-aa33-416e-ab2e-6834ce1fa1c9",
   "metadata": {},
   "source": [
    "# Imports"
   ]
  },
  {
   "cell_type": "code",
   "execution_count": 1,
   "id": "6200bae8-2fc8-475e-b70e-4f19580b1464",
   "metadata": {},
   "outputs": [],
   "source": [
    "# local imports\n",
    "from wrangle import acquire_zillow, clean_zillow, wrangle_zillow, train_val_test, split_and_scale_data, xy_split\n",
    "from explore import dist_of_data, plot_variable_pairs, plot_categorical_and_continuous_vars, evaluate_correlation, analysis_1, analysis_2, analysis_3, analysis_4, data_visual\n",
    "from evaluate import plot_residuals, regression_errors, baseline_mean_errors, better_than_baseline\n",
    "from model import eval_model, train_model, scale_data, wrangle_zillow_and_train_model, model_1, model_xy, model_2, model_3, final_model\n",
    "from feature_engineer import select_k_features"
   ]
  },
  {
   "cell_type": "markdown",
   "id": "cfde8ce8-3602-442a-be6e-41346fad5fea",
   "metadata": {},
   "source": [
    "# Acquire"
   ]
  },
  {
   "cell_type": "markdown",
   "id": "7ea76931-2e38-45ec-afdc-1f0d33fd054d",
   "metadata": {},
   "source": [
    "- Data acquired from Codeup MySQL DB\n",
    "- Data initially acquired on 7 Sep, 2023.\n",
    "- It contained 52,441 rows and 49 columns before cleaning.\n",
    "- Each row represents a unique parcel for each transaction it had in 2017.\n",
    "- Each column represents an element of the parcel."
   ]
  },
  {
   "cell_type": "markdown",
   "id": "facf86ba-c479-47a8-9250-c5a8be697165",
   "metadata": {},
   "source": [
    "# Prepare"
   ]
  },
  {
   "cell_type": "markdown",
   "id": "74fba5cb-ed89-438d-9234-727f4a2fff75",
   "metadata": {},
   "source": [
    "## Data Preprocessing Steps\n",
    "\n",
    "### **Replacing Null/NaN Values:**\n",
    "   - Replaced null/NaN values with appropriate strategies:\n",
    "     - 0 for most columns\n",
    "     - Mean or median were used as well for certain columns.\n",
    "\n",
    "###  **Column Renaming:**\n",
    "   - Renamed columns to enhance readability.\n",
    "\n",
    "###  **Column Removal:**\n",
    "   - Removed columns that did not contain useful information:\n",
    "     - Columns with too many null values that couldn't be logically imputed.\n",
    "     - Columns related to the target variable (tax assessed property value).\n",
    "\n",
    "### **Row Handling:**\n",
    "   - All rows were retained.\n",
    "   - Filled data was calculated using existing features when necessary.\n",
    "\n",
    "### **Data Type Validation:**\n",
    "   - Checked and ensured that column data types were appropriate.\n",
    "\n",
    "### **Outlier Handling:**\n",
    "   - Kept outliers in the data, as the target value was not feature engineered.\n",
    "\n",
    "### **FIPS Code Mapping:**\n",
    "   - Mapped FIPS code to respective counties.\n",
    "\n",
    "### **Feature Engineering:**\n",
    "   - Created custom features to enrich the dataset.\n",
    "\n",
    "### **Categorical Variable Encoding:**\n",
    "   - Encoded categorical variables, including the creation of dummy variables where necessary.\n",
    "\n",
    "### **Data Splitting:**\n",
    "   - Split the data into three sets for modeling: training, validation, and test, with an approximate split of 70/15/15.\n",
    "\n",
    "### **Data Scaling:**\n",
    "   - Scaled the data using Min-Max Scaling for modeling purposes."
   ]
  },
  {
   "cell_type": "markdown",
   "id": "27a37e4a-a4f1-48e2-bf23-1fc9b42bd74a",
   "metadata": {},
   "source": [
    "  "
   ]
  },
  {
   "cell_type": "markdown",
   "id": "5a813ce4-0ace-44f6-84da-8e3116a4d9f1",
   "metadata": {},
   "source": [
    "  "
   ]
  },
  {
   "cell_type": "markdown",
   "id": "6df5a297-0714-4da6-a421-66662cffb062",
   "metadata": {},
   "source": [
    "  "
   ]
  },
  {
   "cell_type": "markdown",
   "id": "78d6ca84-405e-44d0-a978-1f1ecd482b4a",
   "metadata": {},
   "source": [
    "  "
   ]
  },
  {
   "cell_type": "code",
   "execution_count": 2,
   "id": "2cb4aa3b-39d3-41ac-9cfd-a6d9afafe77f",
   "metadata": {},
   "outputs": [],
   "source": [
    "# acquire, clean, and prepare the data\n",
    "df = wrangle_zillow()\n",
    "\n",
    "# split into train, validate, and test datasets\n",
    "train, val, test = train_val_test(df)"
   ]
  },
  {
   "cell_type": "markdown",
   "id": "1738b60c-eeea-4dd3-89b4-e87eded2ea8f",
   "metadata": {},
   "source": [
    "  "
   ]
  },
  {
   "cell_type": "markdown",
   "id": "b1e58fe3-defa-4691-a67d-e615651f8800",
   "metadata": {},
   "source": [
    "  "
   ]
  },
  {
   "cell_type": "markdown",
   "id": "3f1b0179-85e4-44a8-85ee-c537c299beb1",
   "metadata": {},
   "source": [
    "### Quick view of data,"
   ]
  },
  {
   "cell_type": "code",
   "execution_count": 3,
   "id": "775212ee-d158-4177-a7ec-860cb78784e8",
   "metadata": {
    "scrolled": true
   },
   "outputs": [
    {
     "data": {
      "text/html": [
       "<div>\n",
       "<style scoped>\n",
       "    .dataframe tbody tr th:only-of-type {\n",
       "        vertical-align: middle;\n",
       "    }\n",
       "\n",
       "    .dataframe tbody tr th {\n",
       "        vertical-align: top;\n",
       "    }\n",
       "\n",
       "    .dataframe thead th {\n",
       "        text-align: right;\n",
       "    }\n",
       "</style>\n",
       "<table border=\"1\" class=\"dataframe\">\n",
       "  <thead>\n",
       "    <tr style=\"text-align: right;\">\n",
       "      <th></th>\n",
       "      <th>parcel_id</th>\n",
       "      <th>latitude</th>\n",
       "      <th>longitude</th>\n",
       "      <th>lot_area</th>\n",
       "      <th>region_id_county</th>\n",
       "      <th>region_id_zip</th>\n",
       "      <th>property_county_landuse_code</th>\n",
       "      <th>property_zoning_desc</th>\n",
       "      <th>bathrooms</th>\n",
       "      <th>bedrooms</th>\n",
       "      <th>...</th>\n",
       "      <th>n-ac_ind</th>\n",
       "      <th>n-heat_ind</th>\n",
       "      <th>n-prop_type</th>\n",
       "      <th>state</th>\n",
       "      <th>Los Angeles County</th>\n",
       "      <th>Orange County</th>\n",
       "      <th>Ventura County</th>\n",
       "      <th>Small</th>\n",
       "      <th>Medium</th>\n",
       "      <th>Large</th>\n",
       "    </tr>\n",
       "  </thead>\n",
       "  <tbody>\n",
       "    <tr>\n",
       "      <th>342</th>\n",
       "      <td>12783912</td>\n",
       "      <td>33986872.0</td>\n",
       "      <td>-118028470.0</td>\n",
       "      <td>16224</td>\n",
       "      <td>3101</td>\n",
       "      <td>96169</td>\n",
       "      <td>0100</td>\n",
       "      <td>WHR1*</td>\n",
       "      <td>2.0</td>\n",
       "      <td>4</td>\n",
       "      <td>...</td>\n",
       "      <td>1</td>\n",
       "      <td>1</td>\n",
       "      <td>Home</td>\n",
       "      <td>California</td>\n",
       "      <td>1</td>\n",
       "      <td>0</td>\n",
       "      <td>0</td>\n",
       "      <td>0</td>\n",
       "      <td>0</td>\n",
       "      <td>1</td>\n",
       "    </tr>\n",
       "    <tr>\n",
       "      <th>13632</th>\n",
       "      <td>14022976</td>\n",
       "      <td>33712876.0</td>\n",
       "      <td>-117885959.0</td>\n",
       "      <td>6000</td>\n",
       "      <td>1286</td>\n",
       "      <td>97004</td>\n",
       "      <td>122</td>\n",
       "      <td>LAR1</td>\n",
       "      <td>2.0</td>\n",
       "      <td>3</td>\n",
       "      <td>...</td>\n",
       "      <td>0</td>\n",
       "      <td>0</td>\n",
       "      <td>Home</td>\n",
       "      <td>California</td>\n",
       "      <td>0</td>\n",
       "      <td>1</td>\n",
       "      <td>0</td>\n",
       "      <td>0</td>\n",
       "      <td>1</td>\n",
       "      <td>0</td>\n",
       "    </tr>\n",
       "    <tr>\n",
       "      <th>18849</th>\n",
       "      <td>13072833</td>\n",
       "      <td>34041693.0</td>\n",
       "      <td>-117852600.0</td>\n",
       "      <td>7978</td>\n",
       "      <td>3101</td>\n",
       "      <td>96522</td>\n",
       "      <td>0100</td>\n",
       "      <td>WAC3-RPD28</td>\n",
       "      <td>2.0</td>\n",
       "      <td>3</td>\n",
       "      <td>...</td>\n",
       "      <td>1</td>\n",
       "      <td>1</td>\n",
       "      <td>Home</td>\n",
       "      <td>California</td>\n",
       "      <td>1</td>\n",
       "      <td>0</td>\n",
       "      <td>0</td>\n",
       "      <td>0</td>\n",
       "      <td>1</td>\n",
       "      <td>0</td>\n",
       "    </tr>\n",
       "    <tr>\n",
       "      <th>29015</th>\n",
       "      <td>12189985</td>\n",
       "      <td>33976963.0</td>\n",
       "      <td>-118285365.0</td>\n",
       "      <td>5400</td>\n",
       "      <td>3101</td>\n",
       "      <td>96025</td>\n",
       "      <td>0100</td>\n",
       "      <td>LAR2</td>\n",
       "      <td>1.0</td>\n",
       "      <td>2</td>\n",
       "      <td>...</td>\n",
       "      <td>0</td>\n",
       "      <td>0</td>\n",
       "      <td>Home</td>\n",
       "      <td>California</td>\n",
       "      <td>1</td>\n",
       "      <td>0</td>\n",
       "      <td>0</td>\n",
       "      <td>0</td>\n",
       "      <td>1</td>\n",
       "      <td>0</td>\n",
       "    </tr>\n",
       "    <tr>\n",
       "      <th>25542</th>\n",
       "      <td>14190405</td>\n",
       "      <td>33885799.0</td>\n",
       "      <td>-117808717.0</td>\n",
       "      <td>19267</td>\n",
       "      <td>1286</td>\n",
       "      <td>97078</td>\n",
       "      <td>122</td>\n",
       "      <td>LAR1</td>\n",
       "      <td>3.0</td>\n",
       "      <td>4</td>\n",
       "      <td>...</td>\n",
       "      <td>0</td>\n",
       "      <td>0</td>\n",
       "      <td>Home</td>\n",
       "      <td>California</td>\n",
       "      <td>0</td>\n",
       "      <td>1</td>\n",
       "      <td>0</td>\n",
       "      <td>0</td>\n",
       "      <td>0</td>\n",
       "      <td>1</td>\n",
       "    </tr>\n",
       "  </tbody>\n",
       "</table>\n",
       "<p>5 rows × 67 columns</p>\n",
       "</div>"
      ],
      "text/plain": [
       "       parcel_id    latitude    longitude  lot_area  region_id_county  \\\n",
       "342     12783912  33986872.0 -118028470.0     16224              3101   \n",
       "13632   14022976  33712876.0 -117885959.0      6000              1286   \n",
       "18849   13072833  34041693.0 -117852600.0      7978              3101   \n",
       "29015   12189985  33976963.0 -118285365.0      5400              3101   \n",
       "25542   14190405  33885799.0 -117808717.0     19267              1286   \n",
       "\n",
       "       region_id_zip property_county_landuse_code property_zoning_desc  \\\n",
       "342            96169                         0100                WHR1*   \n",
       "13632          97004                          122                 LAR1   \n",
       "18849          96522                         0100           WAC3-RPD28   \n",
       "29015          96025                         0100                 LAR2   \n",
       "25542          97078                          122                 LAR1   \n",
       "\n",
       "       bathrooms  bedrooms  ...  n-ac_ind  n-heat_ind  n-prop_type  \\\n",
       "342          2.0         4  ...         1           1         Home   \n",
       "13632        2.0         3  ...         0           0         Home   \n",
       "18849        2.0         3  ...         1           1         Home   \n",
       "29015        1.0         2  ...         0           0         Home   \n",
       "25542        3.0         4  ...         0           0         Home   \n",
       "\n",
       "            state  Los Angeles County  Orange County  Ventura County  Small  \\\n",
       "342    California                   1              0               0      0   \n",
       "13632  California                   0              1               0      0   \n",
       "18849  California                   1              0               0      0   \n",
       "29015  California                   1              0               0      0   \n",
       "25542  California                   0              1               0      0   \n",
       "\n",
       "       Medium  Large  \n",
       "342         0      1  \n",
       "13632       1      0  \n",
       "18849       1      0  \n",
       "29015       1      0  \n",
       "25542       0      1  \n",
       "\n",
       "[5 rows x 67 columns]"
      ]
     },
     "execution_count": 3,
     "metadata": {},
     "output_type": "execute_result"
    }
   ],
   "source": [
    "# First 5 rows of data\n",
    "train.head()"
   ]
  },
  {
   "cell_type": "markdown",
   "id": "81b35df6-4f63-4dba-b712-917851cc10fd",
   "metadata": {},
   "source": [
    "  "
   ]
  },
  {
   "cell_type": "markdown",
   "id": "3d0aed94-52b5-4fd0-a908-c9d72b87b364",
   "metadata": {},
   "source": [
    "  "
   ]
  },
  {
   "cell_type": "markdown",
   "id": "27dbac23-dc4c-467f-a0f3-a4a1058fd9ca",
   "metadata": {},
   "source": [
    "  "
   ]
  },
  {
   "cell_type": "markdown",
   "id": "75c8f645-3219-45d6-9fdc-b6fd2b422fd7",
   "metadata": {},
   "source": [
    "### Distribution of Zillow Data"
   ]
  },
  {
   "cell_type": "code",
   "execution_count": 4,
   "id": "1243176a-1aee-4006-99e4-85764fcf2411",
   "metadata": {},
   "outputs": [
    {
     "data": {
      "image/png": "[encoded data removed]",
      "text/plain": [
       "<Figure size 1000x600 with 1 Axes>"
      ]
     },
     "metadata": {},
     "output_type": "display_data"
    }
   ],
   "source": [
    "# function for data distribution based on target\n",
    "dist_of_data(df, 'home_value')"
   ]
  },
  {
   "cell_type": "markdown",
   "id": "f5ddcfdd-da7f-4d8d-ab6e-38c424d868bc",
   "metadata": {},
   "source": [
    "  "
   ]
  },
  {
   "cell_type": "markdown",
   "id": "810a7d46-8b33-4fa1-90f5-67f14b905f4b",
   "metadata": {},
   "source": [
    "  "
   ]
  },
  {
   "cell_type": "markdown",
   "id": "19ba1b22-61e6-42ba-89e3-b01d9d44f3d7",
   "metadata": {},
   "source": [
    "  "
   ]
  },
  {
   "cell_type": "markdown",
   "id": "5f5f8603-f11a-479a-8da1-a6bd93ebbc53",
   "metadata": {},
   "source": [
    "# Explore"
   ]
  },
  {
   "cell_type": "markdown",
   "id": "40d9d748-5463-4b2e-8a13-1c39689fa9b5",
   "metadata": {},
   "source": [
    "* Do bedrooms have a relationship with home value?\n",
    "* Does home value have a correlation with year built?\n",
    "* Does home value have a correlation with area?  \n",
    "* Does home value have a correlation with the property lot area?  "
   ]
  },
  {
   "cell_type": "markdown",
   "id": "40294061-f5d8-482e-a94a-3aa55134ae82",
   "metadata": {},
   "source": [
    "  "
   ]
  },
  {
   "cell_type": "markdown",
   "id": "5df1c7eb-d935-4261-a0df-c4bd5af1a549",
   "metadata": {},
   "source": [
    "  "
   ]
  },
  {
   "cell_type": "markdown",
   "id": "57f6c037-ed19-4c42-9c7a-b2ef2f849e54",
   "metadata": {},
   "source": [
    "## Question 1. - **Do bedrooms have a relationship with home_value?**"
   ]
  },
  {
   "cell_type": "markdown",
   "id": "b3e6a6d7-2318-44e0-95b3-9e76d2cc711e",
   "metadata": {},
   "source": [
    "  "
   ]
  },
  {
   "cell_type": "markdown",
   "id": "6e19e41b-b31c-405c-ae23-fa4aab6257ad",
   "metadata": {},
   "source": [
    "  "
   ]
  },
  {
   "cell_type": "code",
   "execution_count": 5,
   "id": "eedd18c5-b962-4f42-af20-ce62ad7cb866",
   "metadata": {},
   "outputs": [
    {
     "data": {
      "image/png": "[encoded data removed]",
      "text/plain": [
       "<Figure size 1000x600 with 1 Axes>"
      ]
     },
     "metadata": {},
     "output_type": "display_data"
    }
   ],
   "source": [
    "# analysis 1 visualization\n",
    "analysis_1(train)"
   ]
  },
  {
   "cell_type": "markdown",
   "id": "d36bb49e-4df2-4284-9ef7-91d602fef0ac",
   "metadata": {},
   "source": [
    "### **Takeaway:**  \n",
    "### bedrooms clearly have a relationship that appears linear. This will be a good feature to use to predict single family residential properties in the modeling phase."
   ]
  },
  {
   "cell_type": "markdown",
   "id": "5c72c199-320f-4bec-b827-2ee65ea4487e",
   "metadata": {},
   "source": [
    "  "
   ]
  },
  {
   "cell_type": "markdown",
   "id": "ce1a7fd1-158a-42e8-b7a7-a1c40cacaecb",
   "metadata": {},
   "source": [
    "  "
   ]
  },
  {
   "cell_type": "markdown",
   "id": "e0ea5d24-d14d-422f-8cba-244612bd888b",
   "metadata": {},
   "source": [
    "  "
   ]
  },
  {
   "cell_type": "markdown",
   "id": "6c887dce-1f0d-421d-abda-b984279b4637",
   "metadata": {},
   "source": [
    "  "
   ]
  },
  {
   "cell_type": "markdown",
   "id": "7609be2a-f794-40cf-b67a-05ba1f9e1513",
   "metadata": {},
   "source": [
    "  "
   ]
  },
  {
   "cell_type": "markdown",
   "id": "3f4588e4-eed3-4a92-9854-dfbf21219398",
   "metadata": {},
   "source": [
    "## Question 2. - **Does home value have a correlation with year built?**"
   ]
  },
  {
   "cell_type": "markdown",
   "id": "8ac9b638-6bb9-4a1c-a0b4-c1514667b91a",
   "metadata": {},
   "source": [
    "  "
   ]
  },
  {
   "cell_type": "code",
   "execution_count": 6,
   "id": "8ae58225-44f6-48db-9e11-8c927607feb7",
   "metadata": {},
   "outputs": [
    {
     "data": {
      "image/png": "[encoded data removed]",
      "text/plain": [
       "<Figure size 1000x600 with 1 Axes>"
      ]
     },
     "metadata": {},
     "output_type": "display_data"
    }
   ],
   "source": [
    "# analysis 2 visualization\n",
    "analysis_2(train)"
   ]
  },
  {
   "cell_type": "markdown",
   "id": "bfeeaa00-e514-45fb-8c5a-71508f4318f3",
   "metadata": {},
   "source": [
    "### **Takeaway:**  \n",
    "### Home value and year built by decade show a linear relationship. This will be a good feature to use to predict single family residential properties in the modeling phase."
   ]
  },
  {
   "cell_type": "markdown",
   "id": "a4623a9f-2955-4bc0-91bf-90cd74a1df36",
   "metadata": {},
   "source": [
    "  "
   ]
  },
  {
   "cell_type": "markdown",
   "id": "e9e574a6-db17-4cbc-860f-0978210f3d4c",
   "metadata": {},
   "source": [
    "  "
   ]
  },
  {
   "cell_type": "markdown",
   "id": "2a701538-55df-47fd-b7f2-81fdb192eb26",
   "metadata": {},
   "source": [
    "  "
   ]
  },
  {
   "cell_type": "markdown",
   "id": "20096638-4fad-451e-aca6-47be5fae2966",
   "metadata": {},
   "source": [
    "  "
   ]
  },
  {
   "cell_type": "markdown",
   "id": "14a67207-ea5f-4a38-b949-2611329b4c11",
   "metadata": {},
   "source": [
    "  "
   ]
  },
  {
   "cell_type": "markdown",
   "id": "85c0d6e0-849f-4815-9b3e-34e17c33b2d3",
   "metadata": {},
   "source": [
    "# Question 3. - **Does home value have a correlation with area?**  \n",
    "\n",
    "- **Null Hypothesis($H0$):** There is **a significant correlation** between the area of the property and home value.  \n",
    "\n",
    "- **Alternative Hypothesis($Ha$):** There **is no significant correlation** between area of the property and home value."
   ]
  },
  {
   "cell_type": "markdown",
   "id": "260d780b-b06a-4e3e-aa95-b94326c324eb",
   "metadata": {},
   "source": [
    "  "
   ]
  },
  {
   "cell_type": "code",
   "execution_count": 7,
   "id": "b15abf56-c4d4-451f-88ae-012efd5faf5b",
   "metadata": {},
   "outputs": [
    {
     "name": "stdout",
     "output_type": "stream",
     "text": [
      "\n",
      "\n",
      "There is a statistically significant correlation between Area and Home Value.\n",
      "\n",
      "p-value: 0.0\n",
      "\n",
      "\n"
     ]
    },
    {
     "data": {
      "image/png": "[encoded data removed]",
      "text/plain": [
       "<Figure size 900x600 with 1 Axes>"
      ]
     },
     "metadata": {},
     "output_type": "display_data"
    }
   ],
   "source": [
    "# Analysis 3 visualization\n",
    "analysis_3(train)"
   ]
  },
  {
   "cell_type": "markdown",
   "id": "f5648544-f0d9-4b48-9913-b4f4ddc91c03",
   "metadata": {},
   "source": [
    "### **Takeaway:** \n",
    "### The stats test Rejected the Null Hypothesis and we can draw our conclusions that there is a strong linear correlation between property area and home value"
   ]
  },
  {
   "cell_type": "markdown",
   "id": "65a3f12f-05df-44df-9b0d-15eefdd00106",
   "metadata": {},
   "source": [
    "  "
   ]
  },
  {
   "cell_type": "markdown",
   "id": "f4e345c8-359a-4d28-a2c1-c3c2b3c87441",
   "metadata": {},
   "source": [
    "  "
   ]
  },
  {
   "cell_type": "markdown",
   "id": "168342ee-190e-4cf0-943e-74b500fa20b6",
   "metadata": {},
   "source": [
    "  "
   ]
  },
  {
   "cell_type": "markdown",
   "id": "0eb4ed8e-fa49-420d-b79a-960f389a4cab",
   "metadata": {},
   "source": [
    "  "
   ]
  },
  {
   "cell_type": "markdown",
   "id": "44413c86-189a-4366-b07f-abf354511b44",
   "metadata": {},
   "source": [
    "# Question 4 - **Does home_value have a correlation with the property lot area?**\n",
    "\n",
    "- **Null Hypothesis($H0$):** There is **a significant correlation** between the lot area of the property and home value.  \n",
    "\n",
    "- **Alternative Hypothesis($Ha$):** There **is no significant correlation** between lot area of the property and home value."
   ]
  },
  {
   "cell_type": "markdown",
   "id": "0627f062-ae63-4f5d-9dd4-5b83350023e6",
   "metadata": {},
   "source": [
    "  "
   ]
  },
  {
   "cell_type": "markdown",
   "id": "8203556a-b19a-40f0-a711-1b15a9a230e2",
   "metadata": {},
   "source": [
    "  "
   ]
  },
  {
   "cell_type": "code",
   "execution_count": 8,
   "id": "c2f51cf6-40f0-49e8-acbb-e869a17752a7",
   "metadata": {},
   "outputs": [
    {
     "name": "stdout",
     "output_type": "stream",
     "text": [
      "\n",
      "\n",
      "There is no statistically significant correlation between Lot Area and Home Value.\n",
      "\n",
      "Correlation Coefficient: 0.1556\n",
      "\n",
      "p-value: 9.429702768094296e-198\n",
      "\n",
      "\n"
     ]
    },
    {
     "data": {
      "image/png": "[encoded data removed]",
      "text/plain": [
       "<Figure size 900x600 with 1 Axes>"
      ]
     },
     "metadata": {},
     "output_type": "display_data"
    }
   ],
   "source": [
    "# analysis 4 visualization\n",
    "analysis_4(train)"
   ]
  },
  {
   "cell_type": "markdown",
   "id": "58664a6e-7e2f-4d86-a528-0cda8a587312",
   "metadata": {},
   "source": [
    "### **Takeaway:** \n",
    "### The stats test Failed to Rejected the Null Hypothesis and we can draw our conclusions that there is a positive correlation between lot area and home value. it may need to be feature engineered to use as a feature."
   ]
  },
  {
   "cell_type": "markdown",
   "id": "ec27aa2d-1e45-4bb3-9c14-a6bd0ddcf504",
   "metadata": {},
   "source": [
    "  "
   ]
  },
  {
   "cell_type": "markdown",
   "id": "09944371-8420-4b10-8583-6884642dba24",
   "metadata": {},
   "source": [
    "  "
   ]
  },
  {
   "cell_type": "markdown",
   "id": "c4e31c7b-62d4-410e-8d35-46c621477f46",
   "metadata": {},
   "source": [
    "  "
   ]
  },
  {
   "cell_type": "markdown",
   "id": "bca0b509-8d8f-4037-8e55-8e5d6babb083",
   "metadata": {},
   "source": [
    "# Explore Summary"
   ]
  },
  {
   "cell_type": "markdown",
   "id": "2aa74eda-a0ce-4744-9a65-2923e2ee37a7",
   "metadata": {},
   "source": [
    "- The datset consist of alot of LA county homes,\n",
    "- All counties are in the state of california.\n",
    "- There is a right skew to quite a few dsitributions between categorical and continuous data.\n",
    "- home value is on the lower range of the scale when they are all compared.\n",
    "- larger homes exists in ventura county as well as the number of room_cnt and lot_area versus the other counties.\n",
    "- most properties are listed with 0 in la county, i'm not entirely sure why, may be an issue\n",
    "- the data is proportionate with home detail features versus geolocation and outside markers for single residential properties."
   ]
  },
  {
   "cell_type": "markdown",
   "id": "ea64934b-8806-4480-9261-5dd4ccd1f8d0",
   "metadata": {},
   "source": [
    "  "
   ]
  },
  {
   "cell_type": "markdown",
   "id": "f89db106-87d6-40c7-a8c3-cfe0437b9b67",
   "metadata": {},
   "source": [
    "  "
   ]
  },
  {
   "cell_type": "markdown",
   "id": "59c70728-4414-4553-b5da-defbd6f75235",
   "metadata": {},
   "source": [
    "  "
   ]
  },
  {
   "cell_type": "markdown",
   "id": "eacb53ec-7239-42d4-9a19-f89bbe27c6e6",
   "metadata": {},
   "source": [
    "# Features for modeling"
   ]
  },
  {
   "cell_type": "markdown",
   "id": "7edeaf75-7d35-4c3a-8051-c1161a6a92c2",
   "metadata": {},
   "source": [
    "### **Features that will be used:**\n",
    "  * *home_value*(target)  \n",
    " "
   ]
  },
  {
   "cell_type": "markdown",
   "id": "8959b620-66dd-4fbd-9ef6-dd212010e9b1",
   "metadata": {},
   "source": [
    "### **Some features that may be useful:**  \n",
    "    * *parcel_id*\n",
    "    * *bathrooms*\n",
    "    * *bedrooms*\n",
    "    * *area*\n",
    "    * *full_bath_cnt*\n",
    "    * *latitude*\n",
    "    * *longitude*\n",
    "    * *lot_area*\n",
    "    * *region_id_county*\n",
    "    * *regionidzip*\n",
    "    * *room_cnt*\n",
    "    * *year_built*\n",
    "    * *census_tract_and_block*\n",
    "    * *fips*\n",
    "    * *state*\n",
    "    * *county*"
   ]
  },
  {
   "cell_type": "markdown",
   "id": "de5e6295-6152-4560-9a16-fa2c2f3771d7",
   "metadata": {},
   "source": [
    "  "
   ]
  },
  {
   "cell_type": "markdown",
   "id": "952755f3-749b-4b50-b9a6-f0f4dc242d15",
   "metadata": {},
   "source": [
    "  "
   ]
  },
  {
   "cell_type": "markdown",
   "id": "e6116f99-9973-466d-83c0-0c62eaecdf4a",
   "metadata": {},
   "source": [
    "  "
   ]
  },
  {
   "cell_type": "markdown",
   "id": "a14cae46-1b17-429e-8c90-df7a2c39348a",
   "metadata": {},
   "source": [
    "## Modeling: Evaluation and Experimentation\n",
    "\n",
    "### Evaluation Metric\n",
    "- The primary evaluation metrics for the models are:\n",
    "  - Root Mean Squared Error (RMSE)\n",
    "  - Calculated Model Significance\n",
    "\n",
    "### Data Expansion\n",
    "- Given more time, additional data could be gathered to improve model performance.\n",
    "- Experimentation with hyperparameter configurations can lead to better significance and lower RMSE.\n",
    "\n",
    "### Target Feature\n",
    "- The target feature for the models is `home_value`.\n",
    "\n",
    "### Baseline RMSE\n",
    "- The baseline RMSE is approximately $797,000.\n",
    "\n",
    "### Models and Hyperparameters\n",
    "- Two different sets of hyperparameters will be used for model development, each optimized for different features:\n",
    "  1. RandomForestRegressor (default)\n",
    "  2. XGBoostRegressor (early stopping rounds, eval set)\n",
    "  3. LinearRegression (polynomial features)\n",
    "\n",
    "### Model Evaluation\n",
    "- Models will be developed and evaluated on the training and validation datasets.\n",
    "\n",
    "### Final Model Selection\n",
    "- The best-performing model, as determined by RMSE and Model Significance on the validation set, will be selected.\n",
    "\n",
    "### Test Dataset\n",
    "- The selected best model will be evaluated on the test dataset for final performance assessment.ized and easier to understand.\r\n"
   ]
  },
  {
   "cell_type": "markdown",
   "id": "815acb5b-e6f1-4981-ab89-6baac8e5114e",
   "metadata": {},
   "source": [
    "  "
   ]
  },
  {
   "cell_type": "markdown",
   "id": "0a6d1140-2f21-409e-9e1b-1003c0ae455b",
   "metadata": {},
   "source": [
    "  "
   ]
  },
  {
   "cell_type": "markdown",
   "id": "8738e2c5-75ea-4c2a-a3cb-af967e738a58",
   "metadata": {},
   "source": [
    "  "
   ]
  },
  {
   "cell_type": "markdown",
   "id": "158ed667-1620-45e2-ab67-85862b4c9c27",
   "metadata": {},
   "source": [
    "## Baseline Model Root Mean Squared Error"
   ]
  },
  {
   "cell_type": "code",
   "execution_count": 9,
   "id": "4680fcd4-a6fd-4aef-a269-bf890c3efc6e",
   "metadata": {},
   "outputs": [
    {
     "data": {
      "image/png": "[encoded data removed]",
      "text/plain": [
       "<Figure size 1000x600 with 1 Axes>"
      ]
     },
     "metadata": {},
     "output_type": "display_data"
    },
    {
     "name": "stdout",
     "output_type": "stream",
     "text": [
      "\n",
      "-------------------------------------\n",
      "\n",
      "Model RMSE: 573461.85\n",
      "\n",
      "\n",
      "-------------------------------------\n",
      "\n",
      "Baseline RMSE: 796674.90\n",
      "\n",
      "\n",
      "-------------------------------------\n"
     ]
    }
   ],
   "source": [
    "# baseline and model rmse and residual plot visual\n",
    "wrangle_zillow_and_train_model()"
   ]
  },
  {
   "cell_type": "markdown",
   "id": "bf048477-5627-4900-9950-c849ee0b831f",
   "metadata": {},
   "source": [
    "\n"
   ]
  },
  {
   "cell_type": "markdown",
   "id": "3b01ef8e-9295-4842-988d-2d65429900a7",
   "metadata": {},
   "source": [
    "  "
   ]
  },
  {
   "cell_type": "markdown",
   "id": "d370db29-df75-40cc-8d0f-c0a47b3bb228",
   "metadata": {},
   "source": [
    "## Best of 3 model configurations"
   ]
  },
  {
   "cell_type": "markdown",
   "id": "a8cc0ae8-b845-45f7-9f05-5af236805415",
   "metadata": {},
   "source": [
    "###  selectkbest used for feature importance selection"
   ]
  },
  {
   "cell_type": "markdown",
   "id": "cbfa2843-04e5-43be-b80c-06ca50daaabb",
   "metadata": {},
   "source": [
    "  "
   ]
  },
  {
   "cell_type": "code",
   "execution_count": 10,
   "id": "02130619-6e8b-4ead-889e-e98f8cda09d5",
   "metadata": {},
   "outputs": [
    {
     "data": {
      "text/plain": [
       "['area',\n",
       " 'finished_square_feet_12',\n",
       " 'finished_sqft_15',\n",
       " 'finishedsqft50',\n",
       " 'n-total_rooms']"
      ]
     },
     "execution_count": 10,
     "metadata": {},
     "output_type": "execute_result"
    }
   ],
   "source": [
    "selected_features = select_k_features(train)\n",
    "selected_features.to_list()"
   ]
  },
  {
   "cell_type": "markdown",
   "id": "6fddfaca-c806-4910-82a6-1a39c73a73e4",
   "metadata": {},
   "source": [
    "### Used in model Evaluation and they did not offer promising results."
   ]
  },
  {
   "cell_type": "code",
   "execution_count": 11,
   "id": "a9a02551-6f21-4151-966a-b8130f18c789",
   "metadata": {},
   "outputs": [],
   "source": [
    "X_train, y_train, X_val, y_val, X_test, y_test = model_xy()"
   ]
  },
  {
   "cell_type": "markdown",
   "id": "76d86199-00b4-4557-8164-beb1fe4a89c8",
   "metadata": {},
   "source": [
    "## Model 1"
   ]
  },
  {
   "cell_type": "code",
   "execution_count": 12,
   "id": "f57292f4-b397-4a76-a7ab-1583869e6fa2",
   "metadata": {
    "scrolled": true
   },
   "outputs": [
    {
     "name": "stdout",
     "output_type": "stream",
     "text": [
      "\n",
      "-------------------------------------\n",
      "\n",
      "Training RMSE: 193168.51\n",
      "\n",
      "-------------------------------------\n",
      "\n",
      "Validation RMSE: 447621.06\n",
      "\n",
      "-------------------------------------\n",
      "\n",
      "Training R-squared (R2): 0.94\n",
      "\n",
      "-------------------------------------\n",
      "\n",
      "Validation R-squared (R2): 0.54\n"
     ]
    }
   ],
   "source": [
    "### RandomForestRegression Model - The RandomForestRegression model showed signs of overfitting, as it performed well on the training data but had a large margin of error.\n",
    "model1_results = model_1(X_train, y_train, X_val, y_val)"
   ]
  },
  {
   "cell_type": "markdown",
   "id": "cb2a827c-8ce1-469c-9587-4d113c22c12c",
   "metadata": {},
   "source": [
    "  "
   ]
  },
  {
   "cell_type": "markdown",
   "id": "37341a8d-2a26-451f-9697-7b30262c8839",
   "metadata": {},
   "source": [
    "  "
   ]
  },
  {
   "cell_type": "markdown",
   "id": "da00796e-7e73-4229-a1fc-afbe57a9735b",
   "metadata": {},
   "source": [
    "  "
   ]
  },
  {
   "cell_type": "markdown",
   "id": "cc10ee97-561d-4ecd-b443-f45b16fd31f8",
   "metadata": {},
   "source": [
    "## Model 2"
   ]
  },
  {
   "cell_type": "code",
   "execution_count": 13,
   "id": "fb7bfacf-8431-4a60-a03f-cba94d2e334b",
   "metadata": {
    "scrolled": true
   },
   "outputs": [
    {
     "name": "stdout",
     "output_type": "stream",
     "text": [
      "[0]\tvalidation_0-rmse:786378.57411\n",
      "[1]\tvalidation_0-rmse:736355.76576\n",
      "[2]\tvalidation_0-rmse:692831.99850\n",
      "[3]\tvalidation_0-rmse:656751.17766\n",
      "[4]\tvalidation_0-rmse:624698.08910\n",
      "[5]\tvalidation_0-rmse:596160.17239\n",
      "[6]\tvalidation_0-rmse:572578.66409\n",
      "[7]\tvalidation_0-rmse:551821.64488\n",
      "[8]\tvalidation_0-rmse:534563.40739\n",
      "[9]\tvalidation_0-rmse:520529.85018\n",
      "[10]\tvalidation_0-rmse:509141.09608\n",
      "[11]\tvalidation_0-rmse:498975.64707\n",
      "[12]\tvalidation_0-rmse:489600.76401\n",
      "[13]\tvalidation_0-rmse:482103.49332\n",
      "[14]\tvalidation_0-rmse:475785.13656\n",
      "[15]\tvalidation_0-rmse:470026.55689\n",
      "[16]\tvalidation_0-rmse:464991.58432\n",
      "[17]\tvalidation_0-rmse:460796.35801\n",
      "[18]\tvalidation_0-rmse:456274.67081\n",
      "[19]\tvalidation_0-rmse:453163.11796\n",
      "[20]\tvalidation_0-rmse:451613.82736\n",
      "[21]\tvalidation_0-rmse:449150.15248\n",
      "[22]\tvalidation_0-rmse:446678.51723\n",
      "[23]\tvalidation_0-rmse:444132.97637\n",
      "[24]\tvalidation_0-rmse:442993.98864\n",
      "[25]\tvalidation_0-rmse:441647.67850\n",
      "[26]\tvalidation_0-rmse:439888.78180\n",
      "[27]\tvalidation_0-rmse:438253.10623\n",
      "[28]\tvalidation_0-rmse:436683.13658\n",
      "[29]\tvalidation_0-rmse:434931.56542\n",
      "[30]\tvalidation_0-rmse:433009.67297\n",
      "[31]\tvalidation_0-rmse:431601.83836\n",
      "[32]\tvalidation_0-rmse:430108.30713\n",
      "[33]\tvalidation_0-rmse:429476.79820\n",
      "[34]\tvalidation_0-rmse:428942.06010\n",
      "[35]\tvalidation_0-rmse:428175.78635\n",
      "[36]\tvalidation_0-rmse:427798.12000\n",
      "[37]\tvalidation_0-rmse:426919.73766\n",
      "[38]\tvalidation_0-rmse:426030.56045\n",
      "[39]\tvalidation_0-rmse:425422.53526\n",
      "[40]\tvalidation_0-rmse:425013.74915\n",
      "[41]\tvalidation_0-rmse:424267.97017\n",
      "[42]\tvalidation_0-rmse:423126.34925\n",
      "[43]\tvalidation_0-rmse:422631.29682\n",
      "[44]\tvalidation_0-rmse:421572.66862\n",
      "[45]\tvalidation_0-rmse:421411.47935\n",
      "[46]\tvalidation_0-rmse:418879.07330\n",
      "[47]\tvalidation_0-rmse:417424.85153\n",
      "[48]\tvalidation_0-rmse:416858.73238\n",
      "[49]\tvalidation_0-rmse:416709.42797\n",
      "[50]\tvalidation_0-rmse:415895.54764\n",
      "[51]\tvalidation_0-rmse:414287.72472\n",
      "[52]\tvalidation_0-rmse:413573.95796\n",
      "[53]\tvalidation_0-rmse:412875.57097\n",
      "[54]\tvalidation_0-rmse:412018.30465\n",
      "[55]\tvalidation_0-rmse:411302.17624\n",
      "[56]\tvalidation_0-rmse:410924.78778\n",
      "[57]\tvalidation_0-rmse:410143.68079\n",
      "[58]\tvalidation_0-rmse:410202.69800\n",
      "[59]\tvalidation_0-rmse:409664.30211\n",
      "[60]\tvalidation_0-rmse:408250.89904\n",
      "[61]\tvalidation_0-rmse:406199.42949\n",
      "[62]\tvalidation_0-rmse:404985.91745\n",
      "[63]\tvalidation_0-rmse:404108.61611\n",
      "[64]\tvalidation_0-rmse:403827.86432\n",
      "[65]\tvalidation_0-rmse:402434.69152\n",
      "[66]\tvalidation_0-rmse:401591.62513\n",
      "[67]\tvalidation_0-rmse:401368.25899\n",
      "[68]\tvalidation_0-rmse:401132.14694\n",
      "[69]\tvalidation_0-rmse:400529.42539\n",
      "[70]\tvalidation_0-rmse:400094.24803\n",
      "[71]\tvalidation_0-rmse:398419.48691\n",
      "[72]\tvalidation_0-rmse:397799.47301\n",
      "[73]\tvalidation_0-rmse:397301.09669\n",
      "[74]\tvalidation_0-rmse:396466.64370\n",
      "[75]\tvalidation_0-rmse:395474.48144\n",
      "[76]\tvalidation_0-rmse:394770.68371\n",
      "[77]\tvalidation_0-rmse:394341.43763\n",
      "[78]\tvalidation_0-rmse:393855.10011\n",
      "[79]\tvalidation_0-rmse:393724.93867\n",
      "[80]\tvalidation_0-rmse:392882.01638\n",
      "[81]\tvalidation_0-rmse:392749.48325\n",
      "[82]\tvalidation_0-rmse:391891.72787\n",
      "[83]\tvalidation_0-rmse:391765.82464\n",
      "[84]\tvalidation_0-rmse:391281.23986\n",
      "[85]\tvalidation_0-rmse:390733.19577\n",
      "[86]\tvalidation_0-rmse:390206.67509\n",
      "[87]\tvalidation_0-rmse:389785.99445\n",
      "[88]\tvalidation_0-rmse:389148.92682\n",
      "[89]\tvalidation_0-rmse:387494.80333\n",
      "[90]\tvalidation_0-rmse:387099.21458\n",
      "[91]\tvalidation_0-rmse:387060.61030\n",
      "[92]\tvalidation_0-rmse:386597.60105\n",
      "[93]\tvalidation_0-rmse:385801.87571\n",
      "[94]\tvalidation_0-rmse:385527.06407\n",
      "[95]\tvalidation_0-rmse:385264.52190\n",
      "[96]\tvalidation_0-rmse:384773.71247\n",
      "[97]\tvalidation_0-rmse:384715.31160\n",
      "[98]\tvalidation_0-rmse:384373.16929\n",
      "[99]\tvalidation_0-rmse:383867.35970\n",
      "[100]\tvalidation_0-rmse:383012.69865\n",
      "[101]\tvalidation_0-rmse:382795.06629\n",
      "[102]\tvalidation_0-rmse:382158.01150\n",
      "[103]\tvalidation_0-rmse:381575.31385\n",
      "[104]\tvalidation_0-rmse:381194.42406\n",
      "[105]\tvalidation_0-rmse:380770.14264\n",
      "[106]\tvalidation_0-rmse:379739.57362\n",
      "[107]\tvalidation_0-rmse:379611.29951\n",
      "[108]\tvalidation_0-rmse:379260.61103\n",
      "[109]\tvalidation_0-rmse:379005.53304\n",
      "[110]\tvalidation_0-rmse:378836.90719\n",
      "[111]\tvalidation_0-rmse:378180.94418\n",
      "[112]\tvalidation_0-rmse:378041.02610\n",
      "[113]\tvalidation_0-rmse:377867.24033\n",
      "[114]\tvalidation_0-rmse:377461.50849\n",
      "[115]\tvalidation_0-rmse:377546.10017\n",
      "[116]\tvalidation_0-rmse:376902.52502\n",
      "[117]\tvalidation_0-rmse:376590.50724\n",
      "[118]\tvalidation_0-rmse:376572.96097\n",
      "[119]\tvalidation_0-rmse:376250.27821\n",
      "[120]\tvalidation_0-rmse:375837.54333\n",
      "[121]\tvalidation_0-rmse:375085.09722\n",
      "[122]\tvalidation_0-rmse:374796.08567\n",
      "[123]\tvalidation_0-rmse:374551.96202\n",
      "[124]\tvalidation_0-rmse:374315.98164\n",
      "[125]\tvalidation_0-rmse:374351.60335\n",
      "[126]\tvalidation_0-rmse:373758.99520\n",
      "[127]\tvalidation_0-rmse:373377.94739\n",
      "[128]\tvalidation_0-rmse:372834.90822\n",
      "[129]\tvalidation_0-rmse:372639.66476\n",
      "[130]\tvalidation_0-rmse:372559.33977\n",
      "[131]\tvalidation_0-rmse:372426.06599\n",
      "[132]\tvalidation_0-rmse:372346.29299\n",
      "[133]\tvalidation_0-rmse:371971.85877\n",
      "[134]\tvalidation_0-rmse:371673.80332\n",
      "[135]\tvalidation_0-rmse:371413.01849\n",
      "[136]\tvalidation_0-rmse:371145.40188\n",
      "[137]\tvalidation_0-rmse:370734.50785\n",
      "[138]\tvalidation_0-rmse:370122.16515\n",
      "[139]\tvalidation_0-rmse:369980.88572\n",
      "[140]\tvalidation_0-rmse:369532.60692\n",
      "[141]\tvalidation_0-rmse:369151.37760\n",
      "[142]\tvalidation_0-rmse:368596.06714\n",
      "[143]\tvalidation_0-rmse:368589.96062\n",
      "[144]\tvalidation_0-rmse:367880.42678\n",
      "[145]\tvalidation_0-rmse:367481.16749\n",
      "[146]\tvalidation_0-rmse:366914.55407\n",
      "[147]\tvalidation_0-rmse:366511.50166\n",
      "[148]\tvalidation_0-rmse:366381.38751\n",
      "[149]\tvalidation_0-rmse:366144.12490\n",
      "[150]\tvalidation_0-rmse:365994.22872\n",
      "[151]\tvalidation_0-rmse:365753.67749\n",
      "[152]\tvalidation_0-rmse:365733.69965\n",
      "[153]\tvalidation_0-rmse:365529.31142\n",
      "[154]\tvalidation_0-rmse:365134.73157\n",
      "[155]\tvalidation_0-rmse:365095.95972\n",
      "[156]\tvalidation_0-rmse:364906.68175\n",
      "[157]\tvalidation_0-rmse:364620.86354\n",
      "[158]\tvalidation_0-rmse:364490.13936\n",
      "[159]\tvalidation_0-rmse:364441.42944\n",
      "[160]\tvalidation_0-rmse:364145.51276\n",
      "[161]\tvalidation_0-rmse:364021.77203\n",
      "[162]\tvalidation_0-rmse:363665.17332\n",
      "[163]\tvalidation_0-rmse:363448.68962\n",
      "[164]\tvalidation_0-rmse:363089.22635\n",
      "[165]\tvalidation_0-rmse:362935.58931\n",
      "[166]\tvalidation_0-rmse:362938.52636\n",
      "[167]\tvalidation_0-rmse:362770.03344\n",
      "[168]\tvalidation_0-rmse:362629.03439\n",
      "[169]\tvalidation_0-rmse:362497.44040\n",
      "[170]\tvalidation_0-rmse:362288.69382\n",
      "[171]\tvalidation_0-rmse:362131.03242\n",
      "[172]\tvalidation_0-rmse:361336.75828\n",
      "[173]\tvalidation_0-rmse:361268.12332\n",
      "[174]\tvalidation_0-rmse:361163.47484\n",
      "[175]\tvalidation_0-rmse:360496.71327\n",
      "[176]\tvalidation_0-rmse:359438.27350\n",
      "[177]\tvalidation_0-rmse:359089.25497\n",
      "[178]\tvalidation_0-rmse:358998.49228\n",
      "[179]\tvalidation_0-rmse:358916.98963\n",
      "[180]\tvalidation_0-rmse:358897.26680\n",
      "[181]\tvalidation_0-rmse:358645.70760\n",
      "[182]\tvalidation_0-rmse:358522.00211\n",
      "[183]\tvalidation_0-rmse:358285.18837\n",
      "[184]\tvalidation_0-rmse:358251.19215\n",
      "[185]\tvalidation_0-rmse:357928.11279\n",
      "[186]\tvalidation_0-rmse:357594.11415\n",
      "[187]\tvalidation_0-rmse:357096.12305\n",
      "[188]\tvalidation_0-rmse:357079.84607\n",
      "[189]\tvalidation_0-rmse:355845.01663\n",
      "[190]\tvalidation_0-rmse:354779.76208\n",
      "[191]\tvalidation_0-rmse:354540.31262\n",
      "[192]\tvalidation_0-rmse:354479.21858\n",
      "[193]\tvalidation_0-rmse:354243.28582\n",
      "[194]\tvalidation_0-rmse:354202.71839\n",
      "[195]\tvalidation_0-rmse:353837.08707\n",
      "[196]\tvalidation_0-rmse:353503.64696\n",
      "[197]\tvalidation_0-rmse:353288.36698\n",
      "[198]\tvalidation_0-rmse:353140.18275\n",
      "[199]\tvalidation_0-rmse:353151.22169\n",
      "[200]\tvalidation_0-rmse:352961.84098\n",
      "[201]\tvalidation_0-rmse:352954.51524\n",
      "[202]\tvalidation_0-rmse:352313.62194\n",
      "[203]\tvalidation_0-rmse:352099.88068\n",
      "[204]\tvalidation_0-rmse:351921.19461\n",
      "[205]\tvalidation_0-rmse:351599.36151\n",
      "[206]\tvalidation_0-rmse:351281.14178\n",
      "[207]\tvalidation_0-rmse:351248.94029\n",
      "[208]\tvalidation_0-rmse:349755.30673\n",
      "[209]\tvalidation_0-rmse:349321.15840\n",
      "[210]\tvalidation_0-rmse:349045.37730\n",
      "[211]\tvalidation_0-rmse:348988.31182\n",
      "[212]\tvalidation_0-rmse:348935.79346\n",
      "[213]\tvalidation_0-rmse:348750.44235\n",
      "[214]\tvalidation_0-rmse:348546.01108\n",
      "[215]\tvalidation_0-rmse:348532.05703\n",
      "[216]\tvalidation_0-rmse:348465.09932\n",
      "[217]\tvalidation_0-rmse:347689.15937\n",
      "[218]\tvalidation_0-rmse:347546.48291\n",
      "[219]\tvalidation_0-rmse:347354.44242\n",
      "[220]\tvalidation_0-rmse:347015.83995\n",
      "[221]\tvalidation_0-rmse:346836.06319\n",
      "[222]\tvalidation_0-rmse:346488.26385\n",
      "[223]\tvalidation_0-rmse:345664.75478\n",
      "[224]\tvalidation_0-rmse:345487.28759\n",
      "[225]\tvalidation_0-rmse:345466.31603\n",
      "[226]\tvalidation_0-rmse:345400.61133\n",
      "[227]\tvalidation_0-rmse:344938.66757\n",
      "[228]\tvalidation_0-rmse:344711.13988\n",
      "[229]\tvalidation_0-rmse:344183.29523\n",
      "[230]\tvalidation_0-rmse:343655.24599\n",
      "[231]\tvalidation_0-rmse:343428.64728\n",
      "[232]\tvalidation_0-rmse:343081.77200\n",
      "[233]\tvalidation_0-rmse:342847.34852\n",
      "[234]\tvalidation_0-rmse:342143.21925\n",
      "[235]\tvalidation_0-rmse:341763.51672\n",
      "[236]\tvalidation_0-rmse:341663.60895\n",
      "[237]\tvalidation_0-rmse:341498.05910\n",
      "[238]\tvalidation_0-rmse:341455.17360\n",
      "[239]\tvalidation_0-rmse:340075.34334\n",
      "[240]\tvalidation_0-rmse:339969.46507\n",
      "[241]\tvalidation_0-rmse:339678.02629\n",
      "[242]\tvalidation_0-rmse:339633.19868\n",
      "[243]\tvalidation_0-rmse:339439.03954\n",
      "[244]\tvalidation_0-rmse:339006.58757\n",
      "[245]\tvalidation_0-rmse:338604.97998\n",
      "[246]\tvalidation_0-rmse:338413.25324\n",
      "[247]\tvalidation_0-rmse:338175.55662\n",
      "[248]\tvalidation_0-rmse:337886.92043\n",
      "[249]\tvalidation_0-rmse:337673.75793\n",
      "[250]\tvalidation_0-rmse:337541.60276\n",
      "[251]\tvalidation_0-rmse:337530.74104\n",
      "[252]\tvalidation_0-rmse:337272.60363\n",
      "[253]\tvalidation_0-rmse:337117.63360\n",
      "[254]\tvalidation_0-rmse:337035.88194\n",
      "[255]\tvalidation_0-rmse:336977.51420\n",
      "[256]\tvalidation_0-rmse:336793.65184\n",
      "[257]\tvalidation_0-rmse:336026.97849\n",
      "[258]\tvalidation_0-rmse:335935.97250\n",
      "[259]\tvalidation_0-rmse:335788.41111\n",
      "[260]\tvalidation_0-rmse:335687.60856\n",
      "[261]\tvalidation_0-rmse:335641.30446\n",
      "[262]\tvalidation_0-rmse:335360.32170\n",
      "[263]\tvalidation_0-rmse:334433.89971\n",
      "[264]\tvalidation_0-rmse:334086.28727\n",
      "[265]\tvalidation_0-rmse:333948.73981\n",
      "[266]\tvalidation_0-rmse:333848.88031\n",
      "[267]\tvalidation_0-rmse:333638.70945\n",
      "[268]\tvalidation_0-rmse:333295.57977\n",
      "[269]\tvalidation_0-rmse:333121.11766\n",
      "[270]\tvalidation_0-rmse:332723.84994\n",
      "[271]\tvalidation_0-rmse:332566.56712\n",
      "[272]\tvalidation_0-rmse:332452.78648\n",
      "[273]\tvalidation_0-rmse:332214.48106\n",
      "[274]\tvalidation_0-rmse:332207.82139\n",
      "[275]\tvalidation_0-rmse:332156.07093\n",
      "[276]\tvalidation_0-rmse:332143.91993\n",
      "[277]\tvalidation_0-rmse:332121.19355\n",
      "[278]\tvalidation_0-rmse:331912.31111\n",
      "[279]\tvalidation_0-rmse:331878.76774\n",
      "[280]\tvalidation_0-rmse:331647.27729\n",
      "[281]\tvalidation_0-rmse:331096.87486\n",
      "[282]\tvalidation_0-rmse:330302.17330\n",
      "[283]\tvalidation_0-rmse:330259.00052\n",
      "[284]\tvalidation_0-rmse:330084.17452\n",
      "[285]\tvalidation_0-rmse:329990.57591\n",
      "[286]\tvalidation_0-rmse:329844.23979\n",
      "[287]\tvalidation_0-rmse:329713.68625\n",
      "[288]\tvalidation_0-rmse:329190.47687\n",
      "[289]\tvalidation_0-rmse:329025.48952\n",
      "[290]\tvalidation_0-rmse:328910.34241\n",
      "[291]\tvalidation_0-rmse:328841.30008\n",
      "[292]\tvalidation_0-rmse:328547.10212\n",
      "[293]\tvalidation_0-rmse:328347.55272\n",
      "[294]\tvalidation_0-rmse:328307.53363\n",
      "[295]\tvalidation_0-rmse:328295.44366\n",
      "[296]\tvalidation_0-rmse:328238.98303\n",
      "[297]\tvalidation_0-rmse:328027.68441\n",
      "[298]\tvalidation_0-rmse:327960.52890\n",
      "[299]\tvalidation_0-rmse:327949.69878\n",
      "\n",
      "\n",
      "\n",
      "-------------------------------------\n",
      "\n",
      "Validation RMSE: 327949.70\n",
      "\n",
      "-------------------------------------\n",
      "\n",
      "Validation R-squared (R2): 0.75\n",
      "\n",
      "-------------------------------------\n",
      "\n",
      "Best Iteration: 299\n",
      "\n",
      "-------------------------------------\n",
      "\n",
      "Best Score: 327949.6987794341\n"
     ]
    }
   ],
   "source": [
    "### XGBRegressor Model - hyperparameter tuning (combination of early round stopping and eval set)\n",
    "model2_results = model_2(train, 'home_value', X_val, y_val, params=None)"
   ]
  },
  {
   "cell_type": "markdown",
   "id": "823906c4-5738-44e1-8622-5714671d7ddc",
   "metadata": {},
   "source": [
    "  "
   ]
  },
  {
   "cell_type": "markdown",
   "id": "f47e5f26-103e-4f65-90ee-07a0e6720a33",
   "metadata": {},
   "source": [
    "  "
   ]
  },
  {
   "cell_type": "markdown",
   "id": "2a96243d-f6c4-498c-a82a-d610686aa85a",
   "metadata": {},
   "source": [
    "  "
   ]
  },
  {
   "cell_type": "markdown",
   "id": "4b62aa2a-6228-4275-bced-e4f92f9b3070",
   "metadata": {},
   "source": [
    "## Model 3"
   ]
  },
  {
   "cell_type": "code",
   "execution_count": 14,
   "id": "3c507997-ea63-4f48-a182-07dd20b156f5",
   "metadata": {},
   "outputs": [
    {
     "name": "stdout",
     "output_type": "stream",
     "text": [
      "\n",
      "-------------------------------------\n",
      "The train RMSE is 560329.57.\n",
      "\n",
      "\n",
      "-------------------------------------\n",
      "The validation RMSE is 493614.85.\n",
      "\n",
      "\n",
      "\n",
      "-------------------------------------\n",
      "\n",
      "Training R-squared (R2): 0.51\n",
      "\n",
      "-------------------------------------\n",
      "\n",
      "Validation R-squared (R2): 0.44\n"
     ]
    }
   ],
   "source": [
    "### Polynomial Features LinearRegression Model - The Polynomial Features LinearRegression model exhibited better generalization, but it had poor R2 scores.\n",
    "model_3 = model_3()"
   ]
  },
  {
   "cell_type": "markdown",
   "id": "4e08d468-3727-4c16-8718-da4253ff93f4",
   "metadata": {},
   "source": [
    "  "
   ]
  },
  {
   "cell_type": "markdown",
   "id": "572e2eac-e054-49d8-8431-0c6ca2ad0d51",
   "metadata": {},
   "source": [
    "  "
   ]
  },
  {
   "cell_type": "markdown",
   "id": "09c510df-3a3e-4bfc-8965-912a40ab7ed7",
   "metadata": {},
   "source": [
    "  "
   ]
  },
  {
   "cell_type": "markdown",
   "id": "fcb93c20-35ca-4e5b-90b0-e9e2b44f62a3",
   "metadata": {},
   "source": [
    "## Best on Test"
   ]
  },
  {
   "cell_type": "markdown",
   "id": "90aa898d-9ec0-4723-89bb-28950f586ab2",
   "metadata": {},
   "source": [
    "#### XGboost, XGBRegressor algorithm combination of early stopping rounds and eval set."
   ]
  },
  {
   "cell_type": "markdown",
   "id": "4cd8c240-69f8-4e97-b764-a922149b4c90",
   "metadata": {},
   "source": [
    "  "
   ]
  },
  {
   "cell_type": "markdown",
   "id": "756fd40a-805d-4197-bbe8-9b13d9d8c07e",
   "metadata": {},
   "source": [
    "  "
   ]
  },
  {
   "cell_type": "code",
   "execution_count": 15,
   "id": "da5ee03f-d190-4efe-b45c-5685737e6574",
   "metadata": {},
   "outputs": [
    {
     "name": "stdout",
     "output_type": "stream",
     "text": [
      "[0]\tvalidation_0-rmse:860120.07091\n",
      "[1]\tvalidation_0-rmse:808092.98685\n",
      "[2]\tvalidation_0-rmse:762693.93915\n",
      "[3]\tvalidation_0-rmse:723009.86606\n",
      "[4]\tvalidation_0-rmse:688151.60855\n",
      "[5]\tvalidation_0-rmse:657616.34595\n",
      "[6]\tvalidation_0-rmse:631333.02689\n",
      "[7]\tvalidation_0-rmse:607954.71433\n",
      "[8]\tvalidation_0-rmse:586967.84680\n",
      "[9]\tvalidation_0-rmse:570035.50155\n",
      "[10]\tvalidation_0-rmse:554917.75189\n",
      "[11]\tvalidation_0-rmse:542087.14984\n",
      "[12]\tvalidation_0-rmse:530966.44719\n",
      "[13]\tvalidation_0-rmse:521297.18435\n",
      "[14]\tvalidation_0-rmse:512345.87383\n",
      "[15]\tvalidation_0-rmse:504808.45670\n",
      "[16]\tvalidation_0-rmse:497794.52673\n",
      "[17]\tvalidation_0-rmse:491154.22826\n",
      "[18]\tvalidation_0-rmse:485703.12258\n",
      "[19]\tvalidation_0-rmse:481803.94319\n",
      "[20]\tvalidation_0-rmse:478334.08558\n",
      "[21]\tvalidation_0-rmse:474940.97190\n",
      "[22]\tvalidation_0-rmse:471443.61915\n",
      "[23]\tvalidation_0-rmse:467839.12639\n",
      "[24]\tvalidation_0-rmse:465388.84488\n",
      "[25]\tvalidation_0-rmse:462488.23815\n",
      "[26]\tvalidation_0-rmse:459422.22513\n",
      "[27]\tvalidation_0-rmse:456854.62804\n",
      "[28]\tvalidation_0-rmse:454458.18293\n",
      "[29]\tvalidation_0-rmse:452529.71124\n",
      "[30]\tvalidation_0-rmse:449799.82394\n",
      "[31]\tvalidation_0-rmse:447970.42499\n",
      "[32]\tvalidation_0-rmse:445830.24316\n",
      "[33]\tvalidation_0-rmse:444615.04439\n",
      "[34]\tvalidation_0-rmse:443093.54344\n",
      "[35]\tvalidation_0-rmse:442048.96366\n",
      "[36]\tvalidation_0-rmse:440723.35743\n",
      "[37]\tvalidation_0-rmse:439652.22632\n",
      "[38]\tvalidation_0-rmse:438419.58123\n",
      "[39]\tvalidation_0-rmse:437330.00962\n",
      "[40]\tvalidation_0-rmse:436792.61377\n",
      "[41]\tvalidation_0-rmse:435690.76082\n",
      "[42]\tvalidation_0-rmse:433069.47864\n",
      "[43]\tvalidation_0-rmse:432419.52967\n",
      "[44]\tvalidation_0-rmse:431063.91740\n",
      "[45]\tvalidation_0-rmse:430693.31934\n",
      "[46]\tvalidation_0-rmse:428081.16922\n",
      "[47]\tvalidation_0-rmse:426194.26526\n",
      "[48]\tvalidation_0-rmse:425475.77399\n",
      "[49]\tvalidation_0-rmse:424964.10703\n",
      "[50]\tvalidation_0-rmse:423474.36290\n",
      "[51]\tvalidation_0-rmse:422196.76918\n",
      "[52]\tvalidation_0-rmse:421410.61657\n",
      "[53]\tvalidation_0-rmse:420678.69726\n",
      "[54]\tvalidation_0-rmse:419381.48696\n",
      "[55]\tvalidation_0-rmse:418070.52514\n",
      "[56]\tvalidation_0-rmse:417385.84217\n",
      "[57]\tvalidation_0-rmse:416314.85865\n",
      "[58]\tvalidation_0-rmse:415840.43000\n",
      "[59]\tvalidation_0-rmse:414624.48945\n",
      "[60]\tvalidation_0-rmse:413490.92411\n",
      "[61]\tvalidation_0-rmse:410460.00488\n",
      "[62]\tvalidation_0-rmse:409229.87597\n",
      "[63]\tvalidation_0-rmse:408101.37321\n",
      "[64]\tvalidation_0-rmse:407138.99599\n",
      "[65]\tvalidation_0-rmse:405560.56325\n",
      "[66]\tvalidation_0-rmse:404650.36860\n",
      "[67]\tvalidation_0-rmse:403800.48605\n",
      "[68]\tvalidation_0-rmse:403527.13476\n",
      "[69]\tvalidation_0-rmse:402552.31931\n",
      "[70]\tvalidation_0-rmse:401874.97760\n",
      "[71]\tvalidation_0-rmse:399664.44155\n",
      "[72]\tvalidation_0-rmse:398551.65725\n",
      "[73]\tvalidation_0-rmse:398109.23675\n",
      "[74]\tvalidation_0-rmse:397397.63999\n",
      "[75]\tvalidation_0-rmse:395736.29288\n",
      "[76]\tvalidation_0-rmse:395030.92493\n",
      "[77]\tvalidation_0-rmse:394218.14414\n",
      "[78]\tvalidation_0-rmse:393323.44804\n",
      "[79]\tvalidation_0-rmse:392951.18489\n",
      "[80]\tvalidation_0-rmse:391907.15107\n",
      "[81]\tvalidation_0-rmse:391512.52517\n",
      "[82]\tvalidation_0-rmse:390150.31609\n",
      "[83]\tvalidation_0-rmse:389894.48370\n",
      "[84]\tvalidation_0-rmse:389197.72227\n",
      "[85]\tvalidation_0-rmse:388681.29264\n",
      "[86]\tvalidation_0-rmse:387642.00421\n",
      "[87]\tvalidation_0-rmse:387367.69309\n",
      "[88]\tvalidation_0-rmse:386725.92069\n",
      "[89]\tvalidation_0-rmse:385948.78893\n",
      "[90]\tvalidation_0-rmse:385487.68636\n",
      "[91]\tvalidation_0-rmse:385312.18199\n",
      "[92]\tvalidation_0-rmse:384866.14913\n",
      "[93]\tvalidation_0-rmse:384093.46131\n",
      "[94]\tvalidation_0-rmse:383565.05400\n",
      "[95]\tvalidation_0-rmse:383145.51400\n",
      "[96]\tvalidation_0-rmse:382741.09936\n",
      "[97]\tvalidation_0-rmse:382412.23812\n",
      "[98]\tvalidation_0-rmse:381747.34233\n",
      "[99]\tvalidation_0-rmse:381520.15960\n",
      "[100]\tvalidation_0-rmse:380515.61028\n",
      "[101]\tvalidation_0-rmse:380258.76190\n",
      "[102]\tvalidation_0-rmse:379332.81311\n",
      "[103]\tvalidation_0-rmse:378711.62849\n",
      "[104]\tvalidation_0-rmse:377870.41028\n",
      "[105]\tvalidation_0-rmse:377296.32392\n",
      "[106]\tvalidation_0-rmse:376762.80632\n",
      "[107]\tvalidation_0-rmse:376640.20408\n",
      "[108]\tvalidation_0-rmse:376240.28299\n",
      "[109]\tvalidation_0-rmse:376017.01162\n",
      "[110]\tvalidation_0-rmse:375780.60946\n",
      "[111]\tvalidation_0-rmse:375189.30271\n",
      "[112]\tvalidation_0-rmse:374960.67272\n",
      "[113]\tvalidation_0-rmse:374767.51790\n",
      "[114]\tvalidation_0-rmse:373761.76787\n",
      "[115]\tvalidation_0-rmse:373194.40791\n",
      "[116]\tvalidation_0-rmse:372364.87133\n",
      "[117]\tvalidation_0-rmse:372032.89948\n",
      "[118]\tvalidation_0-rmse:371956.36911\n",
      "[119]\tvalidation_0-rmse:371480.62770\n",
      "[120]\tvalidation_0-rmse:370985.29972\n",
      "[121]\tvalidation_0-rmse:370472.22049\n",
      "[122]\tvalidation_0-rmse:370240.58653\n",
      "[123]\tvalidation_0-rmse:369895.57112\n",
      "[124]\tvalidation_0-rmse:369654.76698\n",
      "[125]\tvalidation_0-rmse:369519.14744\n",
      "[126]\tvalidation_0-rmse:369098.57238\n",
      "[127]\tvalidation_0-rmse:368749.31875\n",
      "[128]\tvalidation_0-rmse:368088.43851\n",
      "[129]\tvalidation_0-rmse:367919.09703\n",
      "[130]\tvalidation_0-rmse:367755.96000\n",
      "[131]\tvalidation_0-rmse:367643.10318\n",
      "[132]\tvalidation_0-rmse:367525.23233\n",
      "[133]\tvalidation_0-rmse:367116.61122\n",
      "[134]\tvalidation_0-rmse:366864.19835\n",
      "[135]\tvalidation_0-rmse:366679.18900\n",
      "[136]\tvalidation_0-rmse:366133.73393\n",
      "[137]\tvalidation_0-rmse:365313.17171\n",
      "[138]\tvalidation_0-rmse:364962.77625\n",
      "[139]\tvalidation_0-rmse:364698.04873\n",
      "[140]\tvalidation_0-rmse:364198.58462\n",
      "[141]\tvalidation_0-rmse:363505.54215\n",
      "[142]\tvalidation_0-rmse:362987.02976\n",
      "[143]\tvalidation_0-rmse:362898.57455\n",
      "[144]\tvalidation_0-rmse:362555.21187\n",
      "[145]\tvalidation_0-rmse:362107.68051\n",
      "[146]\tvalidation_0-rmse:361614.83990\n",
      "[147]\tvalidation_0-rmse:361235.67704\n",
      "[148]\tvalidation_0-rmse:361100.65083\n",
      "[149]\tvalidation_0-rmse:360811.86922\n",
      "[150]\tvalidation_0-rmse:360467.70612\n",
      "[151]\tvalidation_0-rmse:360373.64158\n",
      "[152]\tvalidation_0-rmse:360227.67250\n",
      "[153]\tvalidation_0-rmse:359684.34831\n",
      "[154]\tvalidation_0-rmse:359161.44664\n",
      "[155]\tvalidation_0-rmse:359033.96856\n",
      "[156]\tvalidation_0-rmse:358716.63748\n",
      "[157]\tvalidation_0-rmse:358548.23351\n",
      "[158]\tvalidation_0-rmse:358381.07958\n",
      "[159]\tvalidation_0-rmse:358241.33749\n",
      "[160]\tvalidation_0-rmse:358032.63758\n",
      "[161]\tvalidation_0-rmse:357790.85251\n",
      "[162]\tvalidation_0-rmse:357546.64921\n",
      "[163]\tvalidation_0-rmse:357073.00411\n",
      "[164]\tvalidation_0-rmse:356546.18250\n",
      "[165]\tvalidation_0-rmse:356302.26567\n",
      "[166]\tvalidation_0-rmse:356183.17055\n",
      "[167]\tvalidation_0-rmse:356012.08059\n",
      "[168]\tvalidation_0-rmse:355768.75225\n",
      "[169]\tvalidation_0-rmse:355370.27053\n",
      "[170]\tvalidation_0-rmse:354918.28067\n",
      "[171]\tvalidation_0-rmse:354808.38863\n",
      "[172]\tvalidation_0-rmse:354239.94327\n",
      "[173]\tvalidation_0-rmse:354032.31065\n",
      "[174]\tvalidation_0-rmse:353974.45945\n",
      "[175]\tvalidation_0-rmse:353719.61839\n",
      "[176]\tvalidation_0-rmse:353013.05305\n",
      "[177]\tvalidation_0-rmse:352814.25340\n",
      "[178]\tvalidation_0-rmse:352730.28044\n",
      "[179]\tvalidation_0-rmse:352611.01878\n",
      "[180]\tvalidation_0-rmse:352543.01859\n",
      "[181]\tvalidation_0-rmse:352404.35826\n",
      "[182]\tvalidation_0-rmse:352211.37404\n",
      "[183]\tvalidation_0-rmse:351874.80291\n",
      "[184]\tvalidation_0-rmse:351842.35744\n",
      "[185]\tvalidation_0-rmse:351561.34017\n",
      "[186]\tvalidation_0-rmse:351268.08403\n",
      "[187]\tvalidation_0-rmse:351018.76204\n",
      "[188]\tvalidation_0-rmse:350984.34202\n",
      "[189]\tvalidation_0-rmse:350363.91389\n",
      "[190]\tvalidation_0-rmse:348999.72355\n",
      "[191]\tvalidation_0-rmse:348702.35986\n",
      "[192]\tvalidation_0-rmse:348605.66165\n",
      "[193]\tvalidation_0-rmse:348189.53057\n",
      "[194]\tvalidation_0-rmse:348110.39682\n",
      "[195]\tvalidation_0-rmse:347921.05769\n",
      "[196]\tvalidation_0-rmse:347582.88855\n",
      "[197]\tvalidation_0-rmse:347221.87836\n",
      "[198]\tvalidation_0-rmse:346704.58836\n",
      "[199]\tvalidation_0-rmse:346588.24739\n",
      "[200]\tvalidation_0-rmse:346349.24586\n",
      "[201]\tvalidation_0-rmse:346190.94771\n",
      "[202]\tvalidation_0-rmse:345841.41530\n",
      "[203]\tvalidation_0-rmse:345372.73900\n",
      "[204]\tvalidation_0-rmse:345185.40817\n",
      "[205]\tvalidation_0-rmse:344691.67174\n",
      "[206]\tvalidation_0-rmse:344473.51629\n",
      "[207]\tvalidation_0-rmse:344376.99411\n",
      "[208]\tvalidation_0-rmse:343810.81308\n",
      "[209]\tvalidation_0-rmse:343395.32054\n",
      "[210]\tvalidation_0-rmse:343155.96145\n",
      "[211]\tvalidation_0-rmse:343108.49148\n",
      "[212]\tvalidation_0-rmse:343002.59833\n",
      "[213]\tvalidation_0-rmse:342837.04975\n",
      "[214]\tvalidation_0-rmse:342749.52032\n",
      "[215]\tvalidation_0-rmse:342670.74099\n",
      "[216]\tvalidation_0-rmse:342582.30108\n",
      "[217]\tvalidation_0-rmse:342121.16364\n",
      "[218]\tvalidation_0-rmse:341932.83286\n",
      "[219]\tvalidation_0-rmse:341639.15949\n",
      "[220]\tvalidation_0-rmse:341337.44754\n",
      "[221]\tvalidation_0-rmse:341201.86523\n",
      "[222]\tvalidation_0-rmse:340804.43716\n",
      "[223]\tvalidation_0-rmse:340425.82942\n",
      "[224]\tvalidation_0-rmse:339929.91561\n",
      "[225]\tvalidation_0-rmse:339774.19724\n",
      "[226]\tvalidation_0-rmse:339702.47579\n",
      "[227]\tvalidation_0-rmse:339213.17639\n",
      "[228]\tvalidation_0-rmse:339084.77517\n",
      "[229]\tvalidation_0-rmse:338459.61855\n",
      "[230]\tvalidation_0-rmse:338104.42012\n",
      "[231]\tvalidation_0-rmse:337886.48931\n",
      "[232]\tvalidation_0-rmse:337776.12640\n",
      "[233]\tvalidation_0-rmse:337655.45460\n",
      "[234]\tvalidation_0-rmse:337258.18439\n",
      "[235]\tvalidation_0-rmse:336845.30745\n",
      "[236]\tvalidation_0-rmse:336635.37652\n",
      "[237]\tvalidation_0-rmse:336512.71083\n",
      "[238]\tvalidation_0-rmse:336409.63114\n",
      "[239]\tvalidation_0-rmse:335907.04854\n",
      "[240]\tvalidation_0-rmse:335853.88471\n",
      "[241]\tvalidation_0-rmse:335533.93754\n",
      "[242]\tvalidation_0-rmse:335269.18704\n",
      "[243]\tvalidation_0-rmse:335061.43465\n",
      "[244]\tvalidation_0-rmse:334698.88967\n",
      "[245]\tvalidation_0-rmse:334454.40192\n",
      "[246]\tvalidation_0-rmse:334209.11774\n",
      "[247]\tvalidation_0-rmse:334066.79554\n",
      "[248]\tvalidation_0-rmse:333799.36070\n",
      "[249]\tvalidation_0-rmse:333588.04880\n",
      "[250]\tvalidation_0-rmse:333291.62116\n",
      "[251]\tvalidation_0-rmse:333263.15307\n",
      "[252]\tvalidation_0-rmse:333084.75506\n",
      "[253]\tvalidation_0-rmse:332939.84174\n",
      "[254]\tvalidation_0-rmse:332697.30429\n",
      "[255]\tvalidation_0-rmse:332641.77117\n",
      "[256]\tvalidation_0-rmse:332470.56640\n",
      "[257]\tvalidation_0-rmse:332098.34710\n",
      "[258]\tvalidation_0-rmse:331967.30532\n",
      "[259]\tvalidation_0-rmse:331736.50384\n",
      "[260]\tvalidation_0-rmse:331650.73014\n",
      "[261]\tvalidation_0-rmse:331499.57416\n",
      "[262]\tvalidation_0-rmse:331328.68669\n",
      "[263]\tvalidation_0-rmse:330912.49393\n",
      "[264]\tvalidation_0-rmse:330713.93193\n",
      "[265]\tvalidation_0-rmse:330570.62040\n",
      "[266]\tvalidation_0-rmse:330417.41396\n",
      "[267]\tvalidation_0-rmse:330202.05134\n",
      "[268]\tvalidation_0-rmse:329885.20177\n",
      "[269]\tvalidation_0-rmse:329701.54874\n",
      "[270]\tvalidation_0-rmse:329471.53228\n",
      "[271]\tvalidation_0-rmse:329359.28348\n",
      "[272]\tvalidation_0-rmse:329211.49267\n",
      "[273]\tvalidation_0-rmse:329086.77802\n",
      "[274]\tvalidation_0-rmse:329028.26975\n",
      "[275]\tvalidation_0-rmse:328885.60467\n",
      "[276]\tvalidation_0-rmse:328863.25204\n",
      "[277]\tvalidation_0-rmse:328795.45253\n",
      "[278]\tvalidation_0-rmse:328555.17047\n",
      "[279]\tvalidation_0-rmse:328473.11040\n",
      "[280]\tvalidation_0-rmse:328357.04717\n",
      "[281]\tvalidation_0-rmse:328005.52397\n",
      "[282]\tvalidation_0-rmse:327645.56876\n",
      "[283]\tvalidation_0-rmse:327486.78120\n",
      "[284]\tvalidation_0-rmse:327260.42182\n",
      "[285]\tvalidation_0-rmse:327111.25844\n",
      "[286]\tvalidation_0-rmse:326931.03513\n",
      "[287]\tvalidation_0-rmse:326632.29987\n",
      "[288]\tvalidation_0-rmse:326352.08428\n",
      "[289]\tvalidation_0-rmse:326190.94623\n",
      "[290]\tvalidation_0-rmse:326075.76845\n",
      "[291]\tvalidation_0-rmse:326002.71314\n",
      "[292]\tvalidation_0-rmse:325806.96281\n",
      "[293]\tvalidation_0-rmse:325588.60971\n",
      "[294]\tvalidation_0-rmse:325464.10818\n",
      "[295]\tvalidation_0-rmse:325440.04448\n",
      "[296]\tvalidation_0-rmse:325406.88739\n",
      "[297]\tvalidation_0-rmse:324999.66984\n",
      "[298]\tvalidation_0-rmse:324966.11662\n",
      "[299]\tvalidation_0-rmse:324933.15307\n"
     ]
    },
    {
     "data": {
      "image/png": "[encoded data removed]",
      "text/plain": [
       "<Figure size 1000x600 with 1 Axes>"
      ]
     },
     "metadata": {},
     "output_type": "display_data"
    },
    {
     "name": "stdout",
     "output_type": "stream",
     "text": [
      "\n",
      "\n",
      "\n",
      "-------------------------------------\n",
      "\n",
      "Test RMSE: 324933.15\n",
      "\n",
      "-------------------------------------\n",
      "\n",
      "Test R-squared (R2): 0.81\n",
      "\n",
      "-------------------------------------\n",
      "\n",
      "Best Iteration: 299\n",
      "\n",
      "-------------------------------------\n",
      "\n",
      "Best Score: 324933.1530748685\n"
     ]
    }
   ],
   "source": [
    "# final assessment on test data using XGBRegressor model\n",
    "final_results = final_model(train, 'home_value', X_test, y_test, params=None)"
   ]
  },
  {
   "cell_type": "markdown",
   "id": "96345424-666e-4b43-b745-230f45c44fbf",
   "metadata": {},
   "source": [
    "  "
   ]
  },
  {
   "cell_type": "markdown",
   "id": "16bfaac8-0925-43f1-a826-d0d4ab5c4eba",
   "metadata": {},
   "source": [
    "  "
   ]
  },
  {
   "cell_type": "markdown",
   "id": "6972f6ac-885c-4a3f-afef-d6c2dda8d7ca",
   "metadata": {},
   "source": [
    "  "
   ]
  },
  {
   "cell_type": "markdown",
   "id": "15673629-c832-458b-8d53-07224a4fac26",
   "metadata": {},
   "source": [
    "  "
   ]
  },
  {
   "cell_type": "markdown",
   "id": "cd54666a-c3e5-4a82-9e6a-e2f6e129bfa1",
   "metadata": {},
   "source": [
    "# Model Summary\n",
    "\n",
    "### RandomForestRegression Model\n",
    "- The RandomForestRegression model showed signs of overfitting, as it performed well on the training data but had a large margin of error.\n",
    "  \n",
    "### Polynomial Features LinearRegression Model\n",
    "- The Polynomial Features LinearRegression model exhibited better generalization, but it had poor R2 scores.\n",
    "\n",
    "### XGBRegressor Model\n",
    "- The XGBRegressor model, with hyperparameter tuning, performed the best with the following metrics:\n",
    "\n",
    "  - RMSE: $325,000\n",
    "  - R2 Score: 0.81"
   ]
  },
  {
   "cell_type": "markdown",
   "id": "23574ae9-e89a-4720-9852-131f21ccafc5",
   "metadata": {},
   "source": [
    "  "
   ]
  },
  {
   "cell_type": "markdown",
   "id": "c188bc4f-fd91-4aae-8aa0-71a9921129d8",
   "metadata": {},
   "source": [
    "  "
   ]
  },
  {
   "cell_type": "markdown",
   "id": "f0bd7579-00aa-4a32-b3f7-fc8234e6e361",
   "metadata": {},
   "source": [
    "# Conclusion\n",
    "\n",
    "## Takeaways and Key Findings\n",
    "\n",
    "- Home details such as the calculated area of the home, lot area, number of bedrooms, number of bathrooms, and year built are significant drivers of home value.\n",
    "- Calculated area is the most important feature across all factors.\n",
    "- Higher-priced and larger single residential family properties appear to be concentrated in Ventura County, while smaller homes are spread across Orange and Los Angeles counties.\n",
    "- Larger living areas correlate with higher property values.\n",
    "- Location plays a crucial role in property value.\n",
    "\n",
    "\n",
    "## Model Improvement\n",
    "- The model still requires further improvement.\n",
    "\n",
    "# Recommendations and Next Steps\n",
    "\n",
    "- If the data contained detailed of hard appliances attached or amenities homebuyers seek in single family residential properties maybe this could affect property value.\n",
    "\n",
    "- Given more time, the following actions could be considered:\n",
    "  - Gather more data to improve model performance.\n",
    "  - Feature engineer new variables to enhance model understanding.\n",
    "      - trasnaction dates for value over time\n",
    "  - Fine-tune model parameters for better performance."
   ]
  }
 ],
 "metadata": {
  "kernelspec": {
   "display_name": "Python 3 (ipykernel)",
   "language": "python",
   "name": "python3"
  },
  "language_info": {
   "codemirror_mode": {
    "name": "ipython",
    "version": 3
   },
   "file_extension": ".py",
   "mimetype": "text/x-python",
   "name": "python",
   "nbconvert_exporter": "python",
   "pygments_lexer": "ipython3",
   "version": "3.10.12"
  }
 },
 "nbformat": 4,
 "nbformat_minor": 5
}
