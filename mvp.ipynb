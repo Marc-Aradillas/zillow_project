{
 "cells": [
  {
   "cell_type": "markdown",
   "id": "fd12d7b0-98c8-4013-b573-c180c592d200",
   "metadata": {},
   "source": [
    "# Project Zillow"
   ]
  },
  {
   "cell_type": "markdown",
   "id": "1fa6da43-960b-4b56-9ff1-41b462364dd5",
   "metadata": {},
   "source": [
    "- Predict the tax assessed property value of Zillow Single Family Residential properties with transaction dates in 2017.\n"
   ]
  },
  {
   "cell_type": "markdown",
   "id": "b5f73114-761a-4a0d-a10d-ccdc43a5fda2",
   "metadata": {},
   "source": [
    "# Goal"
   ]
  },
  {
   "cell_type": "markdown",
   "id": "ca6ce6d1-9fb0-42c8-8cfd-78672e77f0e8",
   "metadata": {},
   "source": [
    "- Identify drivers of property value.\n",
    "- Use drivers to develop a machine learning model to predict Single Family Residential property value."
   ]
  },
  {
   "cell_type": "markdown",
   "id": "2589da80-c121-4b32-ae4c-c1dd97d668af",
   "metadata": {},
   "source": [
    "# Imports"
   ]
  },
  {
   "cell_type": "code",
   "execution_count": 1,
   "id": "6200bae8-2fc8-475e-b70e-4f19580b1464",
   "metadata": {},
   "outputs": [],
   "source": [
    "import warnings\n",
    "\n",
    "warnings.filterwarnings(\"ignore\")\n",
    "\n",
    "import os\n",
    "import numpy as np\n",
    "import pandas as pd\n",
    "import matplotlib.pyplot as plt\n",
    "import seaborn as sns\n",
    "from scipy import stats\n",
    "from sklearn.model_selection import train_test_split\n",
    "from sklearn.metrics import mean_squared_error, r2_score, explained_variance_score\n",
    "from sklearn.linear_model import LinearRegression, LassoLars, TweedieRegressor\n",
    "from sklearn.ensemble import RandomForestRegressor\n",
    "from xgboost import XGBRegressor\n",
    "from sklearn.feature_selection import SelectKBest, RFE, f_regression, SequentialFeatureSelector\n",
    "from sklearn.preprocessing import MinMaxScaler, StandardScaler, RobustScaler, PolynomialFeatures\n",
    "\n",
    "# local\n",
    "from wrangle import acquire_zillow, clean_zillow, wrangle_zillow, train_val_test, xy_split\n",
    "from explore import dist_of_nums, plot_variable_pairs, plot_categorical_and_continuous_vars, evaluate_correlation\n",
    "from evaluate import plot_residuals, regression_errors, baseline_mean_errors, better_than_baseline\n",
    "from model import eval_model, train_model, train_and_evaluate_model, scale_data\n",
    "from math import sqrt"
   ]
  },
  {
   "cell_type": "markdown",
   "id": "3b88540e-2cfd-4fa4-8a74-7286c2d58748",
   "metadata": {},
   "source": [
    "# Acquire"
   ]
  },
  {
   "cell_type": "markdown",
   "id": "b1a5d4d2-23c4-4a33-aa51-41f4aff38d33",
   "metadata": {},
   "source": [
    "- Data acquired from Codeup MySQL DB\n",
    "- Data initially acquired on 7 Sep, 2023.\n",
    "- It contained 52,441 rows and 15 columns before cleaning.\n",
    "- Each row represents a unique parcel for each transaction it had in 2017.\n",
    "- Each column represents an element of the parcel."
   ]
  },
  {
   "cell_type": "markdown",
   "id": "134ba20e-549f-4ceb-8959-1ef477eac0f5",
   "metadata": {},
   "source": [
    "# Prepare"
   ]
  },
  {
   "cell_type": "markdown",
   "id": "cb0040ca-8c4f-4abc-a20c-7cd6c6d80314",
   "metadata": {},
   "source": [
    "**Prepare Actions:**\n",
    " - list actions taken"
   ]
  },
  {
   "cell_type": "code",
   "execution_count": 2,
   "id": "2cb4aa3b-39d3-41ac-9cfd-a6d9afafe77f",
   "metadata": {},
   "outputs": [],
   "source": [
    "# function (wrangle) and split maybe\n",
    "df = wrangle_zillow()"
   ]
  },
  {
   "cell_type": "code",
   "execution_count": 3,
   "id": "eaa1f08a-bece-4bdd-8068-0ea73e859338",
   "metadata": {},
   "outputs": [],
   "source": [
    "train, val, test = train_val_test(df)"
   ]
  },
  {
   "cell_type": "markdown",
   "id": "dc1d8ada-2522-4a03-a1f7-0218fb5dd667",
   "metadata": {},
   "source": [
    "### Quick view of data,"
   ]
  },
  {
   "cell_type": "code",
   "execution_count": 4,
   "id": "775212ee-d158-4177-a7ec-860cb78784e8",
   "metadata": {},
   "outputs": [
    {
     "data": {
      "text/html": [
       "<div>\n",
       "<style scoped>\n",
       "    .dataframe tbody tr th:only-of-type {\n",
       "        vertical-align: middle;\n",
       "    }\n",
       "\n",
       "    .dataframe tbody tr th {\n",
       "        vertical-align: top;\n",
       "    }\n",
       "\n",
       "    .dataframe thead th {\n",
       "        text-align: right;\n",
       "    }\n",
       "</style>\n",
       "<table border=\"1\" class=\"dataframe\">\n",
       "  <thead>\n",
       "    <tr style=\"text-align: right;\">\n",
       "      <th></th>\n",
       "      <th>parcel_id</th>\n",
       "      <th>latitude</th>\n",
       "      <th>longitude</th>\n",
       "      <th>lot_area</th>\n",
       "      <th>region_id_county</th>\n",
       "      <th>region_id_zip</th>\n",
       "      <th>property_county_landuse_code</th>\n",
       "      <th>property_zoning_desc</th>\n",
       "      <th>bathrooms</th>\n",
       "      <th>bedrooms</th>\n",
       "      <th>...</th>\n",
       "      <th>n-location-2round</th>\n",
       "      <th>n-latitude-round</th>\n",
       "      <th>n-longitude-round</th>\n",
       "      <th>n-zip_count</th>\n",
       "      <th>n-county_count</th>\n",
       "      <th>n-ac_ind</th>\n",
       "      <th>n-heat_ind</th>\n",
       "      <th>n-prop_type</th>\n",
       "      <th>state</th>\n",
       "      <th>county</th>\n",
       "    </tr>\n",
       "  </thead>\n",
       "  <tbody>\n",
       "    <tr>\n",
       "      <th>342</th>\n",
       "      <td>12783912</td>\n",
       "      <td>33986872.0</td>\n",
       "      <td>-118028470.0</td>\n",
       "      <td>16224</td>\n",
       "      <td>3101</td>\n",
       "      <td>96169</td>\n",
       "      <td>0100</td>\n",
       "      <td>WHR1*</td>\n",
       "      <td>2.0</td>\n",
       "      <td>4</td>\n",
       "      <td>...</td>\n",
       "      <td>-4.011419e+15</td>\n",
       "      <td>33990000.0</td>\n",
       "      <td>-118030000.0</td>\n",
       "      <td>128</td>\n",
       "      <td>33910</td>\n",
       "      <td>1</td>\n",
       "      <td>1</td>\n",
       "      <td>Home</td>\n",
       "      <td>California</td>\n",
       "      <td>Los Angeles County</td>\n",
       "    </tr>\n",
       "    <tr>\n",
       "      <th>13632</th>\n",
       "      <td>14022976</td>\n",
       "      <td>33712876.0</td>\n",
       "      <td>-117885959.0</td>\n",
       "      <td>6000</td>\n",
       "      <td>1286</td>\n",
       "      <td>97004</td>\n",
       "      <td>122</td>\n",
       "      <td>LAR1</td>\n",
       "      <td>2.0</td>\n",
       "      <td>3</td>\n",
       "      <td>...</td>\n",
       "      <td>-3.974275e+15</td>\n",
       "      <td>33710000.0</td>\n",
       "      <td>-117890000.0</td>\n",
       "      <td>156</td>\n",
       "      <td>14136</td>\n",
       "      <td>0</td>\n",
       "      <td>0</td>\n",
       "      <td>Home</td>\n",
       "      <td>California</td>\n",
       "      <td>Orange County</td>\n",
       "    </tr>\n",
       "    <tr>\n",
       "      <th>18849</th>\n",
       "      <td>13072833</td>\n",
       "      <td>34041693.0</td>\n",
       "      <td>-117852600.0</td>\n",
       "      <td>7978</td>\n",
       "      <td>3101</td>\n",
       "      <td>96522</td>\n",
       "      <td>0100</td>\n",
       "      <td>WAC3-RPD28</td>\n",
       "      <td>2.0</td>\n",
       "      <td>3</td>\n",
       "      <td>...</td>\n",
       "      <td>-4.011902e+15</td>\n",
       "      <td>34040000.0</td>\n",
       "      <td>-117850000.0</td>\n",
       "      <td>243</td>\n",
       "      <td>33910</td>\n",
       "      <td>1</td>\n",
       "      <td>1</td>\n",
       "      <td>Home</td>\n",
       "      <td>California</td>\n",
       "      <td>Los Angeles County</td>\n",
       "    </tr>\n",
       "    <tr>\n",
       "      <th>29015</th>\n",
       "      <td>12189985</td>\n",
       "      <td>33976963.0</td>\n",
       "      <td>-118285365.0</td>\n",
       "      <td>5400</td>\n",
       "      <td>3101</td>\n",
       "      <td>96025</td>\n",
       "      <td>0100</td>\n",
       "      <td>LAR2</td>\n",
       "      <td>1.0</td>\n",
       "      <td>2</td>\n",
       "      <td>...</td>\n",
       "      <td>-4.018977e+15</td>\n",
       "      <td>33980000.0</td>\n",
       "      <td>-118290000.0</td>\n",
       "      <td>189</td>\n",
       "      <td>33910</td>\n",
       "      <td>0</td>\n",
       "      <td>0</td>\n",
       "      <td>Home</td>\n",
       "      <td>California</td>\n",
       "      <td>Los Angeles County</td>\n",
       "    </tr>\n",
       "    <tr>\n",
       "      <th>25542</th>\n",
       "      <td>14190405</td>\n",
       "      <td>33885799.0</td>\n",
       "      <td>-117808717.0</td>\n",
       "      <td>19267</td>\n",
       "      <td>1286</td>\n",
       "      <td>97078</td>\n",
       "      <td>122</td>\n",
       "      <td>LAR1</td>\n",
       "      <td>3.0</td>\n",
       "      <td>4</td>\n",
       "      <td>...</td>\n",
       "      <td>-3.992043e+15</td>\n",
       "      <td>33890000.0</td>\n",
       "      <td>-117810000.0</td>\n",
       "      <td>391</td>\n",
       "      <td>14136</td>\n",
       "      <td>0</td>\n",
       "      <td>0</td>\n",
       "      <td>Home</td>\n",
       "      <td>California</td>\n",
       "      <td>Orange County</td>\n",
       "    </tr>\n",
       "  </tbody>\n",
       "</table>\n",
       "<p>5 rows × 62 columns</p>\n",
       "</div>"
      ],
      "text/plain": [
       "       parcel_id    latitude    longitude  lot_area  region_id_county  \\\n",
       "342     12783912  33986872.0 -118028470.0     16224              3101   \n",
       "13632   14022976  33712876.0 -117885959.0      6000              1286   \n",
       "18849   13072833  34041693.0 -117852600.0      7978              3101   \n",
       "29015   12189985  33976963.0 -118285365.0      5400              3101   \n",
       "25542   14190405  33885799.0 -117808717.0     19267              1286   \n",
       "\n",
       "       region_id_zip property_county_landuse_code property_zoning_desc  \\\n",
       "342            96169                         0100                WHR1*   \n",
       "13632          97004                          122                 LAR1   \n",
       "18849          96522                         0100           WAC3-RPD28   \n",
       "29015          96025                         0100                 LAR2   \n",
       "25542          97078                          122                 LAR1   \n",
       "\n",
       "       bathrooms  bedrooms  ...  n-location-2round  n-latitude-round  \\\n",
       "342          2.0         4  ...      -4.011419e+15        33990000.0   \n",
       "13632        2.0         3  ...      -3.974275e+15        33710000.0   \n",
       "18849        2.0         3  ...      -4.011902e+15        34040000.0   \n",
       "29015        1.0         2  ...      -4.018977e+15        33980000.0   \n",
       "25542        3.0         4  ...      -3.992043e+15        33890000.0   \n",
       "\n",
       "       n-longitude-round  n-zip_count  n-county_count  n-ac_ind  n-heat_ind  \\\n",
       "342         -118030000.0          128           33910         1           1   \n",
       "13632       -117890000.0          156           14136         0           0   \n",
       "18849       -117850000.0          243           33910         1           1   \n",
       "29015       -118290000.0          189           33910         0           0   \n",
       "25542       -117810000.0          391           14136         0           0   \n",
       "\n",
       "       n-prop_type       state              county  \n",
       "342           Home  California  Los Angeles County  \n",
       "13632         Home  California       Orange County  \n",
       "18849         Home  California  Los Angeles County  \n",
       "29015         Home  California  Los Angeles County  \n",
       "25542         Home  California       Orange County  \n",
       "\n",
       "[5 rows x 62 columns]"
      ]
     },
     "execution_count": 4,
     "metadata": {},
     "output_type": "execute_result"
    }
   ],
   "source": [
    "# displaying first five rows of zillow dataframe.\n",
    "train.head()"
   ]
  },
  {
   "cell_type": "markdown",
   "id": "09152927-60b2-498b-bf01-ac13a1aa19f0",
   "metadata": {},
   "source": [
    "# Explore"
   ]
  },
  {
   "cell_type": "code",
   "execution_count": 5,
   "id": "b779827d-8fa3-4a25-bbb3-83908876006c",
   "metadata": {},
   "outputs": [],
   "source": [
    "## improve functions for these quesiton visuals"
   ]
  },
  {
   "cell_type": "markdown",
   "id": "686a80a9-009e-49c4-aa51-2e2c69acc3a8",
   "metadata": {},
   "source": [
    "## Question 1\n",
    "\n",
    "* Does bedrooms have a relationship with home_value?\n",
    "  \n",
    "<!--bedrooms is categorical and home_value is continous-->"
   ]
  },
  {
   "cell_type": "code",
   "execution_count": 6,
   "id": "be3aa98e-4c42-4cf5-8cbb-ffe836db388f",
   "metadata": {},
   "outputs": [
    {
     "data": {
      "text/plain": [
       "3     16285\n",
       "4     10676\n",
       "2      5866\n",
       "5      2802\n",
       "6       445\n",
       "1       426\n",
       "0        93\n",
       "7        87\n",
       "8        19\n",
       "9         5\n",
       "10        2\n",
       "14        1\n",
       "12        1\n",
       "Name: bedrooms, dtype: int64"
      ]
     },
     "execution_count": 6,
     "metadata": {},
     "output_type": "execute_result"
    }
   ],
   "source": [
    "train.bedrooms.value_counts()"
   ]
  },
  {
   "cell_type": "code",
   "execution_count": 7,
   "id": "31a3d7cb-7be8-4da2-a784-3025d848187c",
   "metadata": {},
   "outputs": [
    {
     "data": {
      "image/png": "[encoded data removed]",
      "text/plain": [
       "<Figure size 640x480 with 1 Axes>"
      ]
     },
     "metadata": {},
     "output_type": "display_data"
    }
   ],
   "source": [
    "sns.barplot(data = train, x='bedrooms', y='home_value', color='orange').set(title='Bedrooms Drive Home Value')\n",
    "plt.show()"
   ]
  },
  {
   "cell_type": "markdown",
   "id": "4274a43e-8f0a-41c5-be1f-c38103c1d8cd",
   "metadata": {},
   "source": [
    "**Takeaway:**  \n",
    "bedrooms clearly have a relationship that appears linear. This will be a good feature to use to predict single family residential properties in the modeling phase."
   ]
  },
  {
   "cell_type": "markdown",
   "id": "6329c6d3-8fe5-454b-bd65-5adb0ed31d1b",
   "metadata": {},
   "source": [
    "  "
   ]
  },
  {
   "cell_type": "markdown",
   "id": "a27f61bb-b0da-48dc-929a-fd0e3ccd53e3",
   "metadata": {},
   "source": [
    "  "
   ]
  },
  {
   "cell_type": "markdown",
   "id": "a6e66d2f-71f8-4922-ad09-5ad579500901",
   "metadata": {},
   "source": [
    "  "
   ]
  },
  {
   "cell_type": "markdown",
   "id": "91288efc-87aa-4786-822d-0a5ddbe2dfd2",
   "metadata": {},
   "source": [
    "  "
   ]
  },
  {
   "cell_type": "markdown",
   "id": "2ccaf498-9c36-4125-b71e-e19c38efd73b",
   "metadata": {},
   "source": [
    "  "
   ]
  },
  {
   "cell_type": "markdown",
   "id": "6d397ffb-5327-4bde-89ea-b7b936f11b41",
   "metadata": {},
   "source": [
    "## Question 2\n",
    "\n",
    "* Does home_value have a correlation with year built?\n",
    "\n",
    "home_value is continous and year_built is categorical"
   ]
  },
  {
   "cell_type": "code",
   "execution_count": 8,
   "id": "8ae58225-44f6-48db-9e11-8c927607feb7",
   "metadata": {},
   "outputs": [
    {
     "data": {
      "image/png": "[encoded data removed]",
      "text/plain": [
       "<Figure size 640x480 with 1 Axes>"
      ]
     },
     "metadata": {},
     "output_type": "display_data"
    }
   ],
   "source": [
    "# Create a new column 'decade' by binning 'year_built' values into decades\n",
    "train['decade'] = (train['year_built'] // 10) * 10\n",
    "\n",
    "# Create a bar plot to visualize the relationship between 'decade' and 'tax_amount'\n",
    "plt.figure()\n",
    "sns.barplot(data=train, x='decade', y='home_value', color='orange')\n",
    "plt.xlabel('Decade')\n",
    "plt.ylabel('Home Value')\n",
    "plt.title('Home Value by Decade Built')\n",
    "plt.xticks(rotation=45)\n",
    "plt.show()"
   ]
  },
  {
   "cell_type": "markdown",
   "id": "351eccb2-7c91-44ee-accf-146183b55e19",
   "metadata": {},
   "source": [
    "  "
   ]
  },
  {
   "cell_type": "markdown",
   "id": "60cf5e9a-bb3a-417d-9e48-d650c67778f7",
   "metadata": {},
   "source": [
    "  "
   ]
  },
  {
   "cell_type": "markdown",
   "id": "f4500811-8dfc-49c5-9f49-6cb48939d0b5",
   "metadata": {},
   "source": [
    "  "
   ]
  },
  {
   "cell_type": "markdown",
   "id": "c962f167-545d-4176-b45c-71bbb7cfa1d3",
   "metadata": {},
   "source": [
    "  "
   ]
  },
  {
   "cell_type": "markdown",
   "id": "452dcb11-1916-412b-b154-38b5d4afef20",
   "metadata": {},
   "source": [
    "  "
   ]
  },
  {
   "cell_type": "markdown",
   "id": "ded99aab-189c-4c28-bfca-1879f6286a3f",
   "metadata": {},
   "source": [
    "# Question 3  \n",
    "\n",
    "- Does home_value have a correlation with area?  \n",
    "<!--homw_value and area is continous.-->\n",
    "\n",
    "**Null Hypothesis($H0$):** There is **a significant correlation** between the area of the property and home value.  \n",
    "\n",
    "**Alternative Hypothesis($Ha$):** There **is no significant correlation** between area of the property and home value."
   ]
  },
  {
   "cell_type": "code",
   "execution_count": 9,
   "id": "2953fca2-e6ce-464e-b07e-91c9d87ee1e0",
   "metadata": {},
   "outputs": [
    {
     "data": {
      "image/png": "[encoded data removed]",
      "text/plain": [
       "<Figure size 500x500 with 1 Axes>"
      ]
     },
     "metadata": {},
     "output_type": "display_data"
    }
   ],
   "source": [
    "sns.lmplot(data=train, x='home_value', y='area', scatter_kws={'color': 'orange'}, line_kws={'color': 'red'}).set(title='Property Area Drives Home Value')\n",
    "plt.ylabel('Area',rotation=0)\n",
    "plt.tight_layout()\n",
    "plt.show()"
   ]
  },
  {
   "cell_type": "code",
   "execution_count": 10,
   "id": "efc88269-8ddd-4a79-9795-9265ddb5e0c1",
   "metadata": {
    "scrolled": true
   },
   "outputs": [
    {
     "name": "stdout",
     "output_type": "stream",
     "text": [
      "Reject the null hypothesis.\n",
      "\n",
      "There is a significant linear correlation between area and home_value.\n",
      "\n",
      "p-value: 0.0\n"
     ]
    }
   ],
   "source": [
    "correlation_coefficient, p_value, conclusion = evaluate_correlation(train.area, train.home_value, method=\"Pearson\")\n",
    "print(f'{conclusion}\\n\\np-value: {p_value}')"
   ]
  },
  {
   "cell_type": "markdown",
   "id": "a47e94a0-1d17-48f9-a40d-fa54edcda815",
   "metadata": {},
   "source": [
    "  "
   ]
  },
  {
   "cell_type": "markdown",
   "id": "96dc78a7-2fbd-4341-947b-1d8f079e95be",
   "metadata": {},
   "source": [
    "  "
   ]
  },
  {
   "cell_type": "markdown",
   "id": "dc599c5d-c248-4c63-9a94-e7368118eb04",
   "metadata": {},
   "source": [
    "  "
   ]
  },
  {
   "cell_type": "markdown",
   "id": "81a7f4aa-3545-41c9-830f-71918947ab79",
   "metadata": {},
   "source": [
    "  "
   ]
  },
  {
   "cell_type": "markdown",
   "id": "e9a919a6-1470-413a-83b1-f4e67a773970",
   "metadata": {},
   "source": [
    "  "
   ]
  },
  {
   "cell_type": "markdown",
   "id": "fd49f72e-769d-42f6-b42e-bb0a0eadac0e",
   "metadata": {},
   "source": [
    "# Question 4\n",
    "\n",
    "- Does home_value have a correlation with the property lot area?  \n",
    "<!--homw_value and area is continous.-->\n",
    "\n",
    "**Null Hypothesis($H0$):** There is **a significant correlation** between the lot area of the property and home value.  \n",
    "\n",
    "**Alternative Hypothesis($Ha$):** There **is no significant correlation** between lot area of the property and home value."
   ]
  },
  {
   "cell_type": "code",
   "execution_count": 11,
   "id": "4bb877a5-f04e-4b0e-af97-83dd49fe93d0",
   "metadata": {},
   "outputs": [
    {
     "data": {
      "image/png": "[encoded data removed]",
      "text/plain": [
       "<Figure size 500x500 with 1 Axes>"
      ]
     },
     "metadata": {},
     "output_type": "display_data"
    }
   ],
   "source": [
    "sns.lmplot(data=train, x='home_value', y='lot_area', scatter_kws={'color': 'orange'}, line_kws={'color': 'red'}).set(title='Property Lot_Area Drives Home Value')\n",
    "plt.ylabel('Lot Area')\n",
    "plt.tight_layout()\n",
    "plt.show()"
   ]
  },
  {
   "cell_type": "code",
   "execution_count": 12,
   "id": "b4d938ce-70e2-4303-b8d3-2c366969dd3b",
   "metadata": {},
   "outputs": [
    {
     "name": "stdout",
     "output_type": "stream",
     "text": [
      "Reject the null hypothesis.\n",
      "\n",
      "There is a significant linear correlation between lot_area and home_value.\n",
      "\n",
      "Correlation Coefficient: 0.1556\n",
      "\n",
      "p-value: 9.429702768094296e-198\n"
     ]
    }
   ],
   "source": [
    "correlation_coefficient, p_value, conclusion = evaluate_correlation(train.lot_area, train.home_value, method=\"Spearman\")\n",
    "print(f'{conclusion}\\n\\nCorrelation Coefficient: {correlation_coefficient:.4f}\\n\\np-value: {p_value}')"
   ]
  },
  {
   "cell_type": "code",
   "execution_count": 13,
   "id": "d46ef741-f79c-4c82-8088-55c9394d7fb7",
   "metadata": {},
   "outputs": [],
   "source": [
    "# answer takeaway"
   ]
  },
  {
   "cell_type": "markdown",
   "id": "cfd1568a-bb32-4dee-942a-317469626855",
   "metadata": {},
   "source": [
    "# Explore Summary"
   ]
  },
  {
   "cell_type": "markdown",
   "id": "62c98df9-b2d9-486c-bc41-3fd53e89f93f",
   "metadata": {},
   "source": [
    "- The datset consist of alot of LA county homes,\n",
    "- All counties are in the state of california.\n",
    "- There is a right skew to quite a few dsitributions between categorical and continuous data.\n",
    "- home value is on the lower range of the scale when they are all compared.\n",
    "- larger homes exists in ventura county as well as the number of room_cnt and lot_area versus the other counties.\n",
    "- most properties are listed with 0 in la county, i'm not entirely sure why, may be an issue\n",
    "- the data is proportionate with home detail features versus geolocation and outside markers for single residential properties."
   ]
  },
  {
   "cell_type": "markdown",
   "id": "d3490546-5be6-409f-927e-04d828fd728c",
   "metadata": {},
   "source": [
    "# Features for modeling"
   ]
  },
  {
   "cell_type": "markdown",
   "id": "600bb5e1-71e3-46cc-9dc2-3fb0bc8bd2fe",
   "metadata": {},
   "source": [
    "* **Features that will be used:**\n",
    "  * *home_value*(target)  \n",
    " "
   ]
  },
  {
   "cell_type": "markdown",
   "id": "b2ed2c2c-95ec-4c32-bac4-c5b574d9e671",
   "metadata": {},
   "source": [
    "* **Some features that may be useful:**  \n",
    "    * *parcel_id*\n",
    "    * *bathrooms*\n",
    "    * *bedrooms*\n",
    "    * *area*\n",
    "    * *full_bath_cnt*\n",
    "    * *latitude*\n",
    "    * *longitude*\n",
    "    * *lot_area*\n",
    "    * *region_id_county*\n",
    "    * *regionidzip*\n",
    "    * *room_cnt*\n",
    "    * *year_built*\n",
    "    * *census_tract_and_block*\n",
    "    * *fips*\n",
    "    * *state*\n",
    "    * *county*"
   ]
  },
  {
   "cell_type": "markdown",
   "id": "74c3259a-0f1f-418f-9112-fa4308df1edc",
   "metadata": {},
   "source": [
    "# Modeling"
   ]
  },
  {
   "cell_type": "markdown",
   "id": "6f14f58e-dd8a-41dd-9b33-5c9ba72d3759",
   "metadata": {},
   "source": [
    "Root Mean Squared Error Calculated Model Significance will be the evaluation metric\n",
    "\n",
    "Given more time I could gather more data and experiment with the hyperparameter configurations providing possibly a better significance and lower RMSE.\n",
    "\n",
    "Target feature is home_value\n",
    "\n",
    "Baseline RMSE is apprximately $716,000\n",
    "\n",
    "Models will be developed and evaluated using 2 model different hyperparameter set for different features used.\n",
    "\n",
    "RandomForestRegresssor\n",
    "XGBoostRegressor\n",
    "\n",
    "Models will be evaluated on train and validate datasets\n",
    "Best performing model will be the only one evaluated on the test dataset."
   ]
  },
  {
   "cell_type": "markdown",
   "id": "ca5fe613-7b7a-435b-8209-bb9d3692ce3d",
   "metadata": {},
   "source": [
    "## Best of 3 model configuration"
   ]
  },
  {
   "cell_type": "code",
   "execution_count": 14,
   "id": "4680fcd4-a6fd-4aef-a269-bf890c3efc6e",
   "metadata": {},
   "outputs": [],
   "source": [
    "# create a function to return baseline"
   ]
  },
  {
   "cell_type": "code",
   "execution_count": 15,
   "id": "23050ce7-62ff-4426-a3d9-e9a5e7eb3436",
   "metadata": {},
   "outputs": [
    {
     "data": {
      "text/plain": [
       "((36708, 60), (7866, 60), (7867, 60))"
      ]
     },
     "execution_count": 15,
     "metadata": {},
     "output_type": "execute_result"
    }
   ],
   "source": [
    "#re-reading data to get train subset out of sampled change\n",
    "df = wrangle_zillow()\n",
    "\n",
    "#have to drop categorical features becasue regression model only uses numerical features.\n",
    "df = df.drop(columns=['county', 'state'])\n",
    "\n",
    "train, val, test = train_val_test(df)\n",
    "\n",
    "# checking shape of subset dfs\n",
    "train.shape, val.shape, test.shape"
   ]
  },
  {
   "cell_type": "code",
   "execution_count": 16,
   "id": "980cf8f1-d108-450a-a742-26d32f8235bc",
   "metadata": {},
   "outputs": [],
   "source": [
    "# need to have the same shape before x, y split\n",
    "train['decade'] = (train['year_built'] // 10) * 10\n",
    "val['decade'] = (val['year_built'] // 10) * 10\n",
    "test['decade'] = (test['year_built'] // 10) * 10"
   ]
  },
  {
   "cell_type": "code",
   "execution_count": 17,
   "id": "c14891c6-1f00-4bbf-8a37-ca85f9b01457",
   "metadata": {},
   "outputs": [],
   "source": [
    "# additional manipulation\n",
    "train = train[(train['home_value'] < 3_000_000)]"
   ]
  },
  {
   "cell_type": "code",
   "execution_count": 18,
   "id": "1dbaf1f0-28ca-4425-833b-4b2c5e6da9e9",
   "metadata": {},
   "outputs": [
    {
     "data": {
      "text/plain": [
       "((36290, 61), (7866, 61), (7867, 61))"
      ]
     },
     "execution_count": 18,
     "metadata": {},
     "output_type": "execute_result"
    }
   ],
   "source": [
    "# checking shape of subset df\n",
    "train.shape, val.shape, test.shape"
   ]
  },
  {
   "cell_type": "code",
   "execution_count": 19,
   "id": "5f4f850d-e2dd-49c5-8515-f9c2e23d75ad",
   "metadata": {},
   "outputs": [],
   "source": [
    "#splitted subsets into x and y only for train and val, not doing test just yet\n",
    "X_train, y_train = xy_split(train, 'home_value')\n",
    "X_val, y_val = xy_split(val, 'home_value')"
   ]
  },
  {
   "cell_type": "code",
   "execution_count": 20,
   "id": "5b053ee6-770c-4fc5-b02e-4fa519dda8f5",
   "metadata": {},
   "outputs": [
    {
     "data": {
      "text/plain": [
       "478585.15885918983"
      ]
     },
     "execution_count": 20,
     "metadata": {},
     "output_type": "execute_result"
    }
   ],
   "source": [
    "# checking mean to see if it is good for baseline, doesn't seem like it so far.\n",
    "y_train.mean()"
   ]
  },
  {
   "cell_type": "code",
   "execution_count": 21,
   "id": "2241b8b1-bf3c-4bfa-af66-703d53459afd",
   "metadata": {},
   "outputs": [
    {
     "data": {
      "text/plain": [
       "370950.0"
      ]
     },
     "execution_count": 21,
     "metadata": {},
     "output_type": "execute_result"
    }
   ],
   "source": [
    "# The baseline will be median, assigned bl as y_train median value\n",
    "bl = y_train.median()\n",
    "bl"
   ]
  },
  {
   "cell_type": "code",
   "execution_count": 22,
   "id": "812499b4-8118-490e-bbf8-2707ced30fbb",
   "metadata": {},
   "outputs": [
    {
     "data": {
      "text/html": [
       "<div>\n",
       "<style scoped>\n",
       "    .dataframe tbody tr th:only-of-type {\n",
       "        vertical-align: middle;\n",
       "    }\n",
       "\n",
       "    .dataframe tbody tr th {\n",
       "        vertical-align: top;\n",
       "    }\n",
       "\n",
       "    .dataframe thead th {\n",
       "        text-align: right;\n",
       "    }\n",
       "</style>\n",
       "<table border=\"1\" class=\"dataframe\">\n",
       "  <thead>\n",
       "    <tr style=\"text-align: right;\">\n",
       "      <th></th>\n",
       "      <th>y_actual</th>\n",
       "      <th>y_baseline</th>\n",
       "    </tr>\n",
       "  </thead>\n",
       "  <tbody>\n",
       "    <tr>\n",
       "      <th>342</th>\n",
       "      <td>749463</td>\n",
       "      <td>370950.0</td>\n",
       "    </tr>\n",
       "    <tr>\n",
       "      <th>13632</th>\n",
       "      <td>525532</td>\n",
       "      <td>370950.0</td>\n",
       "    </tr>\n",
       "    <tr>\n",
       "      <th>18849</th>\n",
       "      <td>290863</td>\n",
       "      <td>370950.0</td>\n",
       "    </tr>\n",
       "    <tr>\n",
       "      <th>29015</th>\n",
       "      <td>167680</td>\n",
       "      <td>370950.0</td>\n",
       "    </tr>\n",
       "    <tr>\n",
       "      <th>25542</th>\n",
       "      <td>1114000</td>\n",
       "      <td>370950.0</td>\n",
       "    </tr>\n",
       "  </tbody>\n",
       "</table>\n",
       "</div>"
      ],
      "text/plain": [
       "       y_actual  y_baseline\n",
       "342      749463    370950.0\n",
       "13632    525532    370950.0\n",
       "18849    290863    370950.0\n",
       "29015    167680    370950.0\n",
       "25542   1114000    370950.0"
      ]
     },
     "execution_count": 22,
     "metadata": {},
     "output_type": "execute_result"
    }
   ],
   "source": [
    "# created a DF to work with\n",
    "preds = pd.DataFrame({'y_actual' : y_train,\n",
    "              'y_baseline': y_train.median()})\n",
    "\n",
    "preds.head()"
   ]
  },
  {
   "cell_type": "code",
   "execution_count": 23,
   "id": "9106c7a6-cb69-459f-ade4-6e248574c733",
   "metadata": {},
   "outputs": [
    {
     "data": {
      "text/html": [
       "<div>\n",
       "<style scoped>\n",
       "    .dataframe tbody tr th:only-of-type {\n",
       "        vertical-align: middle;\n",
       "    }\n",
       "\n",
       "    .dataframe tbody tr th {\n",
       "        vertical-align: top;\n",
       "    }\n",
       "\n",
       "    .dataframe thead th {\n",
       "        text-align: right;\n",
       "    }\n",
       "</style>\n",
       "<table border=\"1\" class=\"dataframe\">\n",
       "  <thead>\n",
       "    <tr style=\"text-align: right;\">\n",
       "      <th></th>\n",
       "      <th>y_actual</th>\n",
       "      <th>y_baseline</th>\n",
       "      <th>y_baseline_residuals</th>\n",
       "    </tr>\n",
       "  </thead>\n",
       "  <tbody>\n",
       "    <tr>\n",
       "      <th>342</th>\n",
       "      <td>749463</td>\n",
       "      <td>370950.0</td>\n",
       "      <td>-378513.0</td>\n",
       "    </tr>\n",
       "    <tr>\n",
       "      <th>13632</th>\n",
       "      <td>525532</td>\n",
       "      <td>370950.0</td>\n",
       "      <td>-154582.0</td>\n",
       "    </tr>\n",
       "    <tr>\n",
       "      <th>18849</th>\n",
       "      <td>290863</td>\n",
       "      <td>370950.0</td>\n",
       "      <td>80087.0</td>\n",
       "    </tr>\n",
       "    <tr>\n",
       "      <th>29015</th>\n",
       "      <td>167680</td>\n",
       "      <td>370950.0</td>\n",
       "      <td>203270.0</td>\n",
       "    </tr>\n",
       "    <tr>\n",
       "      <th>25542</th>\n",
       "      <td>1114000</td>\n",
       "      <td>370950.0</td>\n",
       "      <td>-743050.0</td>\n",
       "    </tr>\n",
       "  </tbody>\n",
       "</table>\n",
       "</div>"
      ],
      "text/plain": [
       "       y_actual  y_baseline  y_baseline_residuals\n",
       "342      749463    370950.0             -378513.0\n",
       "13632    525532    370950.0             -154582.0\n",
       "18849    290863    370950.0               80087.0\n",
       "29015    167680    370950.0              203270.0\n",
       "25542   1114000    370950.0             -743050.0"
      ]
     },
     "execution_count": 23,
     "metadata": {},
     "output_type": "execute_result"
    }
   ],
   "source": [
    "preds['y_baseline_residuals'] = preds['y_baseline'] - preds['y_actual']\n",
    "preds.head()"
   ]
  },
  {
   "cell_type": "code",
   "execution_count": 24,
   "id": "eea14b35-af8e-42b4-91ef-b0c064af0517",
   "metadata": {},
   "outputs": [
    {
     "name": "stdout",
     "output_type": "stream",
     "text": [
      "<class 'pandas.core.frame.DataFrame'>\n",
      "Int64Index: 36290 entries, 342 to 15795\n",
      "Data columns (total 61 columns):\n",
      " #   Column                        Non-Null Count  Dtype  \n",
      "---  ------                        --------------  -----  \n",
      " 0   parcel_id                     36290 non-null  int64  \n",
      " 1   latitude                      36290 non-null  float64\n",
      " 2   longitude                     36290 non-null  float64\n",
      " 3   lot_area                      36290 non-null  int64  \n",
      " 4   region_id_county              36290 non-null  int64  \n",
      " 5   region_id_zip                 36290 non-null  int64  \n",
      " 6   property_county_landuse_code  36290 non-null  object \n",
      " 7   property_zoning_desc          36290 non-null  object \n",
      " 8   bathrooms                     36290 non-null  float64\n",
      " 9   bedrooms                      36290 non-null  int64  \n",
      " 10  calc_bath_count               36290 non-null  float64\n",
      " 11  area                          36290 non-null  int64  \n",
      " 12  basement_sqft                 36290 non-null  float64\n",
      " 13  finished_square_feet_12       36290 non-null  float64\n",
      " 14  finished_sqft_15              36290 non-null  float64\n",
      " 15  finishedsqft50                36290 non-null  float64\n",
      " 16  fips                          36290 non-null  int64  \n",
      " 17  rooms                         36290 non-null  int64  \n",
      " 18  num_stories                   36290 non-null  float64\n",
      " 19  year_built                    36290 non-null  int64  \n",
      " 20  property_landuse_type_id      36290 non-null  int64  \n",
      " 21  ac_type_id                    36290 non-null  float64\n",
      " 22  building_quality_type_id      36290 non-null  float64\n",
      " 23  heating_or_system_type_id     36290 non-null  float64\n",
      " 24  deck_type_id                  36290 non-null  float64\n",
      " 25  unit_cnt                      36290 non-null  float64\n",
      " 26  garage_car_cnt                36290 non-null  float64\n",
      " 27  garage_total_sqft             36290 non-null  float64\n",
      " 28  pool_cnt                      36290 non-null  float64\n",
      " 29  pool_size_sum                 36290 non-null  float64\n",
      " 30  pool_type_id_2                36290 non-null  float64\n",
      " 31  pool_type_id_7                36290 non-null  float64\n",
      " 32  fire_place_cnt                36290 non-null  float64\n",
      " 33  fire_place_flag               36290 non-null  int64  \n",
      " 34  has_hot_tub_or_spa            36290 non-null  float64\n",
      " 35  patio_sqft                    36290 non-null  float64\n",
      " 36  storage_sqft                  36290 non-null  float64\n",
      " 37  home_value                    36290 non-null  int64  \n",
      " 38  tax_delinquency_flag          36290 non-null  int64  \n",
      " 39  raw_census_tract_and_block    36290 non-null  float64\n",
      " 40  n-life                        36290 non-null  float64\n",
      " 41  n-living_area_error           36290 non-null  float64\n",
      " 42  n-living_area_prop            36290 non-null  float64\n",
      " 43  n-living_area_prop2           36290 non-null  float64\n",
      " 44  n-extra_space                 36290 non-null  float64\n",
      " 45  n-extra_space-2               36290 non-null  float64\n",
      " 46  n-total_rooms                 36290 non-null  float64\n",
      " 47  n-av_room_size                36290 non-null  float64\n",
      " 48  n-extra_rooms                 36290 non-null  float64\n",
      " 49  n-gar_pool_ac                 36290 non-null  int64  \n",
      " 50  n-location                    36290 non-null  float64\n",
      " 51  n-location-2                  36290 non-null  float64\n",
      " 52  n-location-2round             36290 non-null  float64\n",
      " 53  n-latitude-round              36290 non-null  float64\n",
      " 54  n-longitude-round             36290 non-null  float64\n",
      " 55  n-zip_count                   36290 non-null  int64  \n",
      " 56  n-county_count                36290 non-null  int64  \n",
      " 57  n-ac_ind                      36290 non-null  int64  \n",
      " 58  n-heat_ind                    36290 non-null  int64  \n",
      " 59  n-prop_type                   36290 non-null  object \n",
      " 60  decade                        36290 non-null  int64  \n",
      "dtypes: float64(39), int64(19), object(3)\n",
      "memory usage: 17.2+ MB\n"
     ]
    }
   ],
   "source": [
    "train.info()"
   ]
  },
  {
   "cell_type": "code",
   "execution_count": 25,
   "id": "8840a76f-532a-4b17-835d-4753a2ba1c30",
   "metadata": {},
   "outputs": [
    {
     "ename": "ValueError",
     "evalue": "could not convert string to float: '010G'",
     "output_type": "error",
     "traceback": [
      "\u001b[0;31m---------------------------------------------------------------------------\u001b[0m",
      "\u001b[0;31mValueError\u001b[0m                                Traceback (most recent call last)",
      "\u001b[0;32m/var/folders/hz/r10rvhgs41x5bxdmg79hksdw0000gn/T/ipykernel_47346/4138400302.py\u001b[0m in \u001b[0;36m?\u001b[0;34m()\u001b[0m\n\u001b[1;32m      1\u001b[0m \u001b[0mlm\u001b[0m \u001b[0;34m=\u001b[0m \u001b[0mLinearRegression\u001b[0m\u001b[0;34m(\u001b[0m\u001b[0;34m)\u001b[0m\u001b[0;34m\u001b[0m\u001b[0;34m\u001b[0m\u001b[0m\n\u001b[1;32m      2\u001b[0m \u001b[0;34m\u001b[0m\u001b[0m\n\u001b[0;32m----> 3\u001b[0;31m \u001b[0mlm\u001b[0m\u001b[0;34m.\u001b[0m\u001b[0mfit\u001b[0m\u001b[0;34m(\u001b[0m\u001b[0mX_train\u001b[0m\u001b[0;34m,\u001b[0m \u001b[0my_train\u001b[0m\u001b[0;34m)\u001b[0m\u001b[0;34m\u001b[0m\u001b[0;34m\u001b[0m\u001b[0m\n\u001b[0m\u001b[1;32m      4\u001b[0m \u001b[0;34m\u001b[0m\u001b[0m\n\u001b[1;32m      5\u001b[0m \u001b[0mpreds\u001b[0m\u001b[0;34m[\u001b[0m\u001b[0;34m'y_hat'\u001b[0m\u001b[0;34m]\u001b[0m \u001b[0;34m=\u001b[0m \u001b[0mlm\u001b[0m\u001b[0;34m.\u001b[0m\u001b[0mpredict\u001b[0m\u001b[0;34m(\u001b[0m\u001b[0mX_train\u001b[0m\u001b[0;34m)\u001b[0m\u001b[0;34m\u001b[0m\u001b[0;34m\u001b[0m\u001b[0m\n",
      "\u001b[0;32m/opt/homebrew/anaconda3/lib/python3.10/site-packages/sklearn/linear_model/_base.py\u001b[0m in \u001b[0;36m?\u001b[0;34m(self, X, y, sample_weight)\u001b[0m\n\u001b[1;32m    644\u001b[0m         \u001b[0mn_jobs_\u001b[0m \u001b[0;34m=\u001b[0m \u001b[0mself\u001b[0m\u001b[0;34m.\u001b[0m\u001b[0mn_jobs\u001b[0m\u001b[0;34m\u001b[0m\u001b[0;34m\u001b[0m\u001b[0m\n\u001b[1;32m    645\u001b[0m \u001b[0;34m\u001b[0m\u001b[0m\n\u001b[1;32m    646\u001b[0m         \u001b[0maccept_sparse\u001b[0m \u001b[0;34m=\u001b[0m \u001b[0;32mFalse\u001b[0m \u001b[0;32mif\u001b[0m \u001b[0mself\u001b[0m\u001b[0;34m.\u001b[0m\u001b[0mpositive\u001b[0m \u001b[0;32melse\u001b[0m \u001b[0;34m[\u001b[0m\u001b[0;34m\"csr\"\u001b[0m\u001b[0;34m,\u001b[0m \u001b[0;34m\"csc\"\u001b[0m\u001b[0;34m,\u001b[0m \u001b[0;34m\"coo\"\u001b[0m\u001b[0;34m]\u001b[0m\u001b[0;34m\u001b[0m\u001b[0;34m\u001b[0m\u001b[0m\n\u001b[1;32m    647\u001b[0m \u001b[0;34m\u001b[0m\u001b[0m\n\u001b[0;32m--> 648\u001b[0;31m         X, y = self._validate_data(\n\u001b[0m\u001b[1;32m    649\u001b[0m             \u001b[0mX\u001b[0m\u001b[0;34m,\u001b[0m \u001b[0my\u001b[0m\u001b[0;34m,\u001b[0m \u001b[0maccept_sparse\u001b[0m\u001b[0;34m=\u001b[0m\u001b[0maccept_sparse\u001b[0m\u001b[0;34m,\u001b[0m \u001b[0my_numeric\u001b[0m\u001b[0;34m=\u001b[0m\u001b[0;32mTrue\u001b[0m\u001b[0;34m,\u001b[0m \u001b[0mmulti_output\u001b[0m\u001b[0;34m=\u001b[0m\u001b[0;32mTrue\u001b[0m\u001b[0;34m\u001b[0m\u001b[0;34m\u001b[0m\u001b[0m\n\u001b[1;32m    650\u001b[0m         )\n\u001b[1;32m    651\u001b[0m \u001b[0;34m\u001b[0m\u001b[0m\n",
      "\u001b[0;32m/opt/homebrew/anaconda3/lib/python3.10/site-packages/sklearn/base.py\u001b[0m in \u001b[0;36m?\u001b[0;34m(self, X, y, reset, validate_separately, **check_params)\u001b[0m\n\u001b[1;32m    561\u001b[0m                 \u001b[0;32mif\u001b[0m \u001b[0;34m\"estimator\"\u001b[0m \u001b[0;32mnot\u001b[0m \u001b[0;32min\u001b[0m \u001b[0mcheck_y_params\u001b[0m\u001b[0;34m:\u001b[0m\u001b[0;34m\u001b[0m\u001b[0;34m\u001b[0m\u001b[0m\n\u001b[1;32m    562\u001b[0m                     \u001b[0mcheck_y_params\u001b[0m \u001b[0;34m=\u001b[0m \u001b[0;34m{\u001b[0m\u001b[0;34m**\u001b[0m\u001b[0mdefault_check_params\u001b[0m\u001b[0;34m,\u001b[0m \u001b[0;34m**\u001b[0m\u001b[0mcheck_y_params\u001b[0m\u001b[0;34m}\u001b[0m\u001b[0;34m\u001b[0m\u001b[0;34m\u001b[0m\u001b[0m\n\u001b[1;32m    563\u001b[0m                 \u001b[0my\u001b[0m \u001b[0;34m=\u001b[0m \u001b[0mcheck_array\u001b[0m\u001b[0;34m(\u001b[0m\u001b[0my\u001b[0m\u001b[0;34m,\u001b[0m \u001b[0minput_name\u001b[0m\u001b[0;34m=\u001b[0m\u001b[0;34m\"y\"\u001b[0m\u001b[0;34m,\u001b[0m \u001b[0;34m**\u001b[0m\u001b[0mcheck_y_params\u001b[0m\u001b[0;34m)\u001b[0m\u001b[0;34m\u001b[0m\u001b[0;34m\u001b[0m\u001b[0m\n\u001b[1;32m    564\u001b[0m             \u001b[0;32melse\u001b[0m\u001b[0;34m:\u001b[0m\u001b[0;34m\u001b[0m\u001b[0;34m\u001b[0m\u001b[0m\n\u001b[0;32m--> 565\u001b[0;31m                 \u001b[0mX\u001b[0m\u001b[0;34m,\u001b[0m \u001b[0my\u001b[0m \u001b[0;34m=\u001b[0m \u001b[0mcheck_X_y\u001b[0m\u001b[0;34m(\u001b[0m\u001b[0mX\u001b[0m\u001b[0;34m,\u001b[0m \u001b[0my\u001b[0m\u001b[0;34m,\u001b[0m \u001b[0;34m**\u001b[0m\u001b[0mcheck_params\u001b[0m\u001b[0;34m)\u001b[0m\u001b[0;34m\u001b[0m\u001b[0;34m\u001b[0m\u001b[0m\n\u001b[0m\u001b[1;32m    566\u001b[0m             \u001b[0mout\u001b[0m \u001b[0;34m=\u001b[0m \u001b[0mX\u001b[0m\u001b[0;34m,\u001b[0m \u001b[0my\u001b[0m\u001b[0;34m\u001b[0m\u001b[0;34m\u001b[0m\u001b[0m\n\u001b[1;32m    567\u001b[0m \u001b[0;34m\u001b[0m\u001b[0m\n\u001b[1;32m    568\u001b[0m         \u001b[0;32mif\u001b[0m \u001b[0;32mnot\u001b[0m \u001b[0mno_val_X\u001b[0m \u001b[0;32mand\u001b[0m \u001b[0mcheck_params\u001b[0m\u001b[0;34m.\u001b[0m\u001b[0mget\u001b[0m\u001b[0;34m(\u001b[0m\u001b[0;34m\"ensure_2d\"\u001b[0m\u001b[0;34m,\u001b[0m \u001b[0;32mTrue\u001b[0m\u001b[0;34m)\u001b[0m\u001b[0;34m:\u001b[0m\u001b[0;34m\u001b[0m\u001b[0;34m\u001b[0m\u001b[0m\n",
      "\u001b[0;32m/opt/homebrew/anaconda3/lib/python3.10/site-packages/sklearn/utils/validation.py\u001b[0m in \u001b[0;36m?\u001b[0;34m(X, y, accept_sparse, accept_large_sparse, dtype, order, copy, force_all_finite, ensure_2d, allow_nd, multi_output, ensure_min_samples, ensure_min_features, y_numeric, estimator)\u001b[0m\n\u001b[1;32m   1102\u001b[0m         raise ValueError(\n\u001b[1;32m   1103\u001b[0m             \u001b[0;34mf\"{estimator_name} requires y to be passed, but the target y is None\"\u001b[0m\u001b[0;34m\u001b[0m\u001b[0;34m\u001b[0m\u001b[0m\n\u001b[1;32m   1104\u001b[0m         )\n\u001b[1;32m   1105\u001b[0m \u001b[0;34m\u001b[0m\u001b[0m\n\u001b[0;32m-> 1106\u001b[0;31m     X = check_array(\n\u001b[0m\u001b[1;32m   1107\u001b[0m         \u001b[0mX\u001b[0m\u001b[0;34m,\u001b[0m\u001b[0;34m\u001b[0m\u001b[0;34m\u001b[0m\u001b[0m\n\u001b[1;32m   1108\u001b[0m         \u001b[0maccept_sparse\u001b[0m\u001b[0;34m=\u001b[0m\u001b[0maccept_sparse\u001b[0m\u001b[0;34m,\u001b[0m\u001b[0;34m\u001b[0m\u001b[0;34m\u001b[0m\u001b[0m\n\u001b[1;32m   1109\u001b[0m         \u001b[0maccept_large_sparse\u001b[0m\u001b[0;34m=\u001b[0m\u001b[0maccept_large_sparse\u001b[0m\u001b[0;34m,\u001b[0m\u001b[0;34m\u001b[0m\u001b[0;34m\u001b[0m\u001b[0m\n",
      "\u001b[0;32m/opt/homebrew/anaconda3/lib/python3.10/site-packages/sklearn/utils/validation.py\u001b[0m in \u001b[0;36m?\u001b[0;34m(array, accept_sparse, accept_large_sparse, dtype, order, copy, force_all_finite, ensure_2d, allow_nd, ensure_min_samples, ensure_min_features, estimator, input_name)\u001b[0m\n\u001b[1;32m    876\u001b[0m                         )\n\u001b[1;32m    877\u001b[0m                     \u001b[0marray\u001b[0m \u001b[0;34m=\u001b[0m \u001b[0mxp\u001b[0m\u001b[0;34m.\u001b[0m\u001b[0mastype\u001b[0m\u001b[0;34m(\u001b[0m\u001b[0marray\u001b[0m\u001b[0;34m,\u001b[0m \u001b[0mdtype\u001b[0m\u001b[0;34m,\u001b[0m \u001b[0mcopy\u001b[0m\u001b[0;34m=\u001b[0m\u001b[0;32mFalse\u001b[0m\u001b[0;34m)\u001b[0m\u001b[0;34m\u001b[0m\u001b[0;34m\u001b[0m\u001b[0m\n\u001b[1;32m    878\u001b[0m                 \u001b[0;32melse\u001b[0m\u001b[0;34m:\u001b[0m\u001b[0;34m\u001b[0m\u001b[0;34m\u001b[0m\u001b[0m\n\u001b[1;32m    879\u001b[0m                     \u001b[0marray\u001b[0m \u001b[0;34m=\u001b[0m \u001b[0m_asarray_with_order\u001b[0m\u001b[0;34m(\u001b[0m\u001b[0marray\u001b[0m\u001b[0;34m,\u001b[0m \u001b[0morder\u001b[0m\u001b[0;34m=\u001b[0m\u001b[0morder\u001b[0m\u001b[0;34m,\u001b[0m \u001b[0mdtype\u001b[0m\u001b[0;34m=\u001b[0m\u001b[0mdtype\u001b[0m\u001b[0;34m,\u001b[0m \u001b[0mxp\u001b[0m\u001b[0;34m=\u001b[0m\u001b[0mxp\u001b[0m\u001b[0;34m)\u001b[0m\u001b[0;34m\u001b[0m\u001b[0;34m\u001b[0m\u001b[0m\n\u001b[0;32m--> 880\u001b[0;31m             \u001b[0;32mexcept\u001b[0m \u001b[0mComplexWarning\u001b[0m \u001b[0;32mas\u001b[0m \u001b[0mcomplex_warning\u001b[0m\u001b[0;34m:\u001b[0m\u001b[0;34m\u001b[0m\u001b[0;34m\u001b[0m\u001b[0m\n\u001b[0m\u001b[1;32m    881\u001b[0m                 raise ValueError(\n\u001b[1;32m    882\u001b[0m                     \u001b[0;34m\"Complex data not supported\\n{}\\n\"\u001b[0m\u001b[0;34m.\u001b[0m\u001b[0mformat\u001b[0m\u001b[0;34m(\u001b[0m\u001b[0marray\u001b[0m\u001b[0;34m)\u001b[0m\u001b[0;34m\u001b[0m\u001b[0;34m\u001b[0m\u001b[0m\n\u001b[1;32m    883\u001b[0m                 ) from complex_warning\n",
      "\u001b[0;32m/opt/homebrew/anaconda3/lib/python3.10/site-packages/sklearn/utils/_array_api.py\u001b[0m in \u001b[0;36m?\u001b[0;34m(array, dtype, order, copy, xp)\u001b[0m\n\u001b[1;32m    181\u001b[0m     \u001b[0;32mif\u001b[0m \u001b[0mxp\u001b[0m \u001b[0;32mis\u001b[0m \u001b[0;32mNone\u001b[0m\u001b[0;34m:\u001b[0m\u001b[0;34m\u001b[0m\u001b[0;34m\u001b[0m\u001b[0m\n\u001b[1;32m    182\u001b[0m         \u001b[0mxp\u001b[0m\u001b[0;34m,\u001b[0m \u001b[0m_\u001b[0m \u001b[0;34m=\u001b[0m \u001b[0mget_namespace\u001b[0m\u001b[0;34m(\u001b[0m\u001b[0marray\u001b[0m\u001b[0;34m)\u001b[0m\u001b[0;34m\u001b[0m\u001b[0;34m\u001b[0m\u001b[0m\n\u001b[1;32m    183\u001b[0m     \u001b[0;32mif\u001b[0m \u001b[0mxp\u001b[0m\u001b[0;34m.\u001b[0m\u001b[0m__name__\u001b[0m \u001b[0;32min\u001b[0m \u001b[0;34m{\u001b[0m\u001b[0;34m\"numpy\"\u001b[0m\u001b[0;34m,\u001b[0m \u001b[0;34m\"numpy.array_api\"\u001b[0m\u001b[0;34m}\u001b[0m\u001b[0;34m:\u001b[0m\u001b[0;34m\u001b[0m\u001b[0;34m\u001b[0m\u001b[0m\n\u001b[1;32m    184\u001b[0m         \u001b[0;31m# Use NumPy API to support order\u001b[0m\u001b[0;34m\u001b[0m\u001b[0;34m\u001b[0m\u001b[0m\n\u001b[0;32m--> 185\u001b[0;31m         \u001b[0marray\u001b[0m \u001b[0;34m=\u001b[0m \u001b[0mnumpy\u001b[0m\u001b[0;34m.\u001b[0m\u001b[0masarray\u001b[0m\u001b[0;34m(\u001b[0m\u001b[0marray\u001b[0m\u001b[0;34m,\u001b[0m \u001b[0morder\u001b[0m\u001b[0;34m=\u001b[0m\u001b[0morder\u001b[0m\u001b[0;34m,\u001b[0m \u001b[0mdtype\u001b[0m\u001b[0;34m=\u001b[0m\u001b[0mdtype\u001b[0m\u001b[0;34m)\u001b[0m\u001b[0;34m\u001b[0m\u001b[0;34m\u001b[0m\u001b[0m\n\u001b[0m\u001b[1;32m    186\u001b[0m         \u001b[0;32mreturn\u001b[0m \u001b[0mxp\u001b[0m\u001b[0;34m.\u001b[0m\u001b[0masarray\u001b[0m\u001b[0;34m(\u001b[0m\u001b[0marray\u001b[0m\u001b[0;34m,\u001b[0m \u001b[0mcopy\u001b[0m\u001b[0;34m=\u001b[0m\u001b[0mcopy\u001b[0m\u001b[0;34m)\u001b[0m\u001b[0;34m\u001b[0m\u001b[0;34m\u001b[0m\u001b[0m\n\u001b[1;32m    187\u001b[0m     \u001b[0;32melse\u001b[0m\u001b[0;34m:\u001b[0m\u001b[0;34m\u001b[0m\u001b[0;34m\u001b[0m\u001b[0m\n\u001b[1;32m    188\u001b[0m         \u001b[0;32mreturn\u001b[0m \u001b[0mxp\u001b[0m\u001b[0;34m.\u001b[0m\u001b[0masarray\u001b[0m\u001b[0;34m(\u001b[0m\u001b[0marray\u001b[0m\u001b[0;34m,\u001b[0m \u001b[0mdtype\u001b[0m\u001b[0;34m=\u001b[0m\u001b[0mdtype\u001b[0m\u001b[0;34m,\u001b[0m \u001b[0mcopy\u001b[0m\u001b[0;34m=\u001b[0m\u001b[0mcopy\u001b[0m\u001b[0;34m)\u001b[0m\u001b[0;34m\u001b[0m\u001b[0;34m\u001b[0m\u001b[0m\n",
      "\u001b[0;32m/opt/homebrew/anaconda3/lib/python3.10/site-packages/pandas/core/generic.py\u001b[0m in \u001b[0;36m?\u001b[0;34m(self, dtype)\u001b[0m\n\u001b[1;32m   2069\u001b[0m     \u001b[0;32mdef\u001b[0m \u001b[0m__array__\u001b[0m\u001b[0;34m(\u001b[0m\u001b[0mself\u001b[0m\u001b[0;34m,\u001b[0m \u001b[0mdtype\u001b[0m\u001b[0;34m:\u001b[0m \u001b[0mnpt\u001b[0m\u001b[0;34m.\u001b[0m\u001b[0mDTypeLike\u001b[0m \u001b[0;34m|\u001b[0m \u001b[0;32mNone\u001b[0m \u001b[0;34m=\u001b[0m \u001b[0;32mNone\u001b[0m\u001b[0;34m)\u001b[0m \u001b[0;34m->\u001b[0m \u001b[0mnp\u001b[0m\u001b[0;34m.\u001b[0m\u001b[0mndarray\u001b[0m\u001b[0;34m:\u001b[0m\u001b[0;34m\u001b[0m\u001b[0;34m\u001b[0m\u001b[0m\n\u001b[0;32m-> 2070\u001b[0;31m         \u001b[0;32mreturn\u001b[0m \u001b[0mnp\u001b[0m\u001b[0;34m.\u001b[0m\u001b[0masarray\u001b[0m\u001b[0;34m(\u001b[0m\u001b[0mself\u001b[0m\u001b[0;34m.\u001b[0m\u001b[0m_values\u001b[0m\u001b[0;34m,\u001b[0m \u001b[0mdtype\u001b[0m\u001b[0;34m=\u001b[0m\u001b[0mdtype\u001b[0m\u001b[0;34m)\u001b[0m\u001b[0;34m\u001b[0m\u001b[0;34m\u001b[0m\u001b[0m\n\u001b[0m",
      "\u001b[0;31mValueError\u001b[0m: could not convert string to float: '010G'"
     ]
    }
   ],
   "source": [
    "lm = LinearRegression()\n",
    "\n",
    "lm.fit(X_train, y_train)\n",
    "\n",
    "preds['y_hat'] = lm.predict(X_train)"
   ]
  },
  {
   "cell_type": "code",
   "execution_count": null,
   "id": "09b766aa-dc4b-4abf-8f67-b884eee04c33",
   "metadata": {},
   "outputs": [],
   "source": [
    "lm"
   ]
  },
  {
   "cell_type": "code",
   "execution_count": null,
   "id": "c4e2db81-c797-4518-b774-9519b558476c",
   "metadata": {},
   "outputs": [],
   "source": [
    "# y-hat resids calc\n",
    "preds['y_hat_residuals'] = preds['y_hat'] - preds['y_actual']\n",
    "preds.head()"
   ]
  },
  {
   "cell_type": "code",
   "execution_count": null,
   "id": "63e131ec-b8cd-456d-a735-067171e2e5c0",
   "metadata": {},
   "outputs": [],
   "source": [
    "plot_residuals(preds.y_actual, preds.y_hat)\n",
    "\n",
    "print(f\"\\n-------------------------------------\")\n",
    "\n",
    "\n",
    "SSE, ESS, TSS, MSE, RMSE = regression_errors(preds.y_actual, preds.y_hat)\n",
    "\n",
    "print(f\"\\nModel SSE: {SSE:.2f}\\n\")\n",
    "\n",
    "print(f\"Model ESS: {ESS:.2f}\\n\")\n",
    "\n",
    "print(f\"Model TSS: {TSS:.2f}\\n\")\n",
    "\n",
    "print(f\"Model MSE: {MSE:.2f}\\n\")\n",
    "\n",
    "print(f\"Model RMSE: {RMSE:.2f}\\n\")\n",
    "\n",
    "print(f\"\\n-------------------------------------\")\n",
    "\n",
    "SSE_baseline, MSE_baseline, RMSE_baseline = baseline_mean_errors(preds.y_actual)\n",
    "\n",
    "print(f\"Baseline SSE: {SSE_baseline:.2f}\\n\")\n",
    "\n",
    "print(f\"Baseline MSE: {MSE_baseline:.2f}\\n\")\n",
    "\n",
    "print(f\"Baseline RMSE: {RMSE_baseline:.2f}\\n\")\n",
    "\n",
    "print(f\"\\n-------------------------------------\")\n",
    "\n",
    "print(f\"\\nIs the model better than the baseline? {better_than_baseline(preds.y_actual, preds.y_hat)}\")"
   ]
  },
  {
   "cell_type": "markdown",
   "id": "2eea8f9c-4b39-475e-b89c-7ba01878bce2",
   "metadata": {},
   "source": [
    "  "
   ]
  },
  {
   "cell_type": "markdown",
   "id": "2b7e9fb6-c364-4715-a354-6e901f415141",
   "metadata": {},
   "source": [
    "  "
   ]
  },
  {
   "cell_type": "markdown",
   "id": "2e08435a-cbe6-4673-8764-c5238d6e657f",
   "metadata": {},
   "source": [
    "  "
   ]
  },
  {
   "cell_type": "code",
   "execution_count": null,
   "id": "4808eeb7-97b7-4856-bc44-420df70c8a5f",
   "metadata": {},
   "outputs": [],
   "source": [
    "to_scale = ['parcel_id', 'bathrooms', 'bedrooms', 'area', 'full_bath_cnt', 'latitude', 'longitude', 'lot_area',\t'region_id_county', 'regionidzip', 'room_cnt', 'year_built', 'census_tract_and_block', 'fips']\n",
    "train, val, test = scale_data(train, val, test, to_scale)\n",
    "train.head()"
   ]
  },
  {
   "cell_type": "code",
   "execution_count": null,
   "id": "3adc94c5-1de8-42e1-9501-d1a5becd3cf1",
   "metadata": {},
   "outputs": [],
   "source": [
    "#splitted subsets into x and y only for train and val, not doing test just yet\n",
    "X_train, y_train = xy_split(train, 'home_value')\n",
    "X_val, y_val = xy_split(val, 'home_value')"
   ]
  },
  {
   "cell_type": "code",
   "execution_count": null,
   "id": "539aa343-eb54-4143-88d9-bf40a7119940",
   "metadata": {},
   "outputs": [],
   "source": [
    "y_train.mean(), y_train.median()\n",
    "bl = pd.DataFrame({\"y_actual\" : y_train,\n",
    "                   \"y_mean\" : y_train.mean(),\n",
    "                   \"y_median\" : y_train.median()})\n",
    "bl.head()"
   ]
  },
  {
   "cell_type": "markdown",
   "id": "c53d1dd0-ec9c-4354-81fd-6891633cd39a",
   "metadata": {},
   "source": [
    "## Model 1"
   ]
  },
  {
   "cell_type": "code",
   "execution_count": null,
   "id": "f57292f4-b397-4a76-a7ab-1583869e6fa2",
   "metadata": {},
   "outputs": [],
   "source": [
    "rfr = RandomForestRegressor()\n",
    "trained_model, train_rmse, val_rmse = train_and_evaluate_model(rfr, X_train, y_train, X_val, y_val)"
   ]
  },
  {
   "cell_type": "code",
   "execution_count": null,
   "id": "e3539dc0-5bc1-4c30-8c85-d8944b7d8b26",
   "metadata": {},
   "outputs": [],
   "source": [
    "from sklearn.ensemble import RandomForestRegressor\n",
    "\n",
    "# Assuming you have trained your Random Forest Regression model (rf_model) using your train_and_evaluate_model function\n",
    "\n",
    "feature_names = X_train.columns.to_list()\n",
    "\n",
    "# Feature Importance Plot\n",
    "feature_importance = trained_model.feature_importances_\n",
    "plt.figure(figsize=(10, 6))\n",
    "sns.barplot(x=feature_importance, y=feature_names)\n",
    "plt.xlabel(\"Feature Importance\")\n",
    "plt.ylabel(\"Feature Names\")\n",
    "plt.title(\"Random Forest Feature Importance\")\n",
    "plt.show()\n",
    "\n",
    "# Scatterplot of Actual vs. Predicted Values\n",
    "predicted_val_rf = trained_model.predict(X_val)\n",
    "plt.figure(figsize=(8, 6))\n",
    "plt.scatter(y_val, predicted_val_rf, alpha=0.5)\n",
    "plt.xlabel(\"Actual Values (y_val)\")\n",
    "plt.ylabel(\"Predicted Values (Random Forest)\")\n",
    "plt.title(\"Scatterplot of Actual vs. Predicted Values (Random Forest)\")\n",
    "plt.plot([min(y_val), max(y_val)], [min(y_val), max(y_val)], linestyle='--', color='red', lw=2)\n",
    "plt.show()\n",
    "\n",
    "# Residual Plot\n",
    "residuals_rf = y_val - predicted_val_rf\n",
    "plt.figure(figsize=(8, 6))\n",
    "plt.scatter(predicted_val_rf, residuals_rf, alpha=0.5)\n",
    "plt.xlabel(\"Predicted Values (Random Forest)\")\n",
    "plt.ylabel(\"Residuals\")\n",
    "plt.title(\"Residual Plot (Random Forest)\")\n",
    "plt.axhline(y=0, color='red', linestyle='--', lw=2)\n",
    "plt.show()\n",
    "\n",
    "# Distribution of Residuals (Random Forest)\n",
    "plt.figure(figsize=(8, 6))\n",
    "sns.histplot(residuals_rf, kde=True)\n",
    "plt.xlabel(\"Residuals (Random Forest)\")\n",
    "plt.ylabel(\"Frequency\")\n",
    "plt.title(\"Distribution of Residuals (Random Forest)\")\n",
    "plt.show()\n"
   ]
  },
  {
   "cell_type": "markdown",
   "id": "adf51d7e-c04e-41e6-9ac2-bd5b41d64656",
   "metadata": {},
   "source": [
    "## Model 2"
   ]
  },
  {
   "cell_type": "code",
   "execution_count": null,
   "id": "78920251-fd10-40d0-be45-dc677545dba5",
   "metadata": {},
   "outputs": [],
   "source": [
    "xgboost = XGBRegressor()\n",
    "trained_model, train_rmse, val_rmse = train_and_evaluate_model(xgboost, X_train, y_train, X_val, y_val)"
   ]
  },
  {
   "cell_type": "code",
   "execution_count": null,
   "id": "24c3cbc9-5c72-49d5-9e54-d50ea71bd4fe",
   "metadata": {},
   "outputs": [],
   "source": [
    "import xgboost as xgb\n",
    "\n",
    "# Assuming you have trained your XGBoost Regression model (xgb_model) using your train_and_evaluate_model function\n",
    "\n",
    "# Feature Importance Plot (XGBoost)\n",
    "plt.figure(figsize=(10, 6))\n",
    "xgb.plot_importance(trained_model, height=0.5)\n",
    "plt.title(\"XGBoost Feature Importance\")\n",
    "plt.show()\n",
    "\n",
    "# Scatterplot of Actual vs. Predicted Values (XGBoost)\n",
    "predicted_val_xgb = trained_model.predict(X_val)\n",
    "plt.figure(figsize=(8, 6))\n",
    "plt.scatter(y_val, predicted_val_xgb, alpha=0.5)\n",
    "plt.xlabel(\"Actual Values (y_val)\")\n",
    "plt.ylabel(\"Predicted Values (XGBoost)\")\n",
    "plt.title(\"Scatterplot of Actual vs. Predicted Values (XGBoost)\")\n",
    "plt.plot([min(y_val), max(y_val)], [min(y_val), max(y_val)], linestyle='--', color='red', lw=2)\n",
    "plt.show()\n",
    "\n",
    "# Residual Plot (XGBoost)\n",
    "residuals_xgb = y_val - predicted_val_xgb\n",
    "plt.figure(figsize=(8, 6))\n",
    "plt.scatter(predicted_val_xgb, residuals_xgb, alpha=0.5)\n",
    "plt.xlabel(\"Predicted Values (XGBoost)\")\n",
    "plt.ylabel(\"Residuals (XGBoost)\")\n",
    "plt.title(\"Residual Plot (XGBoost)\")\n",
    "plt.axhline(y=0, color='red', linestyle='--', lw=2)\n",
    "plt.show()\n",
    "\n",
    "# Distribution of Residuals (XGBoost)\n",
    "plt.figure(figsize=(8, 6))\n",
    "sns.histplot(residuals_xgb, kde=True)\n",
    "plt.xlabel(\"Residuals (XGBoost)\")\n",
    "plt.ylabel(\"Frequency\")\n",
    "plt.title(\"Distribution of Residuals (XGBoost)\")\n",
    "plt.show()\n"
   ]
  },
  {
   "cell_type": "code",
   "execution_count": null,
   "id": "7665ab86-472c-420c-88a0-64817f797b9a",
   "metadata": {},
   "outputs": [],
   "source": [
    "import xgboost as xgb\n",
    "\n",
    "# Assuming you have trained your XGBoost Regression model (xgb_model) using your train_and_evaluate_model function\n",
    "\n",
    "# Feature Importance Plot (XGBoost)\n",
    "plt.figure(figsize=(10, 6))\n",
    "xgb.plot_importance(trained_model, height=0.5)\n",
    "plt.title(\"XGBoost Feature Importance\")\n",
    "plt.show()\n",
    "\n",
    "# Scatterplot of Actual vs. Predicted Values (XGBoost)\n",
    "predicted_val_xgb = trained_model.predict(X_val)\n",
    "plt.figure(figsize=(8, 6))\n",
    "plt.scatter(y_val, predicted_val_xgb, alpha=0.5)\n",
    "plt.xlabel(\"Actual Values (y_val)\")\n",
    "plt.ylabel(\"Predicted Values (XGBoost)\")\n",
    "plt.title(\"Scatterplot of Actual vs. Predicted Values (XGBoost)\")\n",
    "plt.plot([min(y_val), max(y_val)], [min(y_val), max(y_val)], linestyle='--', color='red', lw=2)\n",
    "plt.show()\n",
    "\n",
    "# Residual Plot (XGBoost)\n",
    "residuals_xgb = y_val - predicted_val_xgb\n",
    "plt.figure(figsize=(8, 6))\n",
    "plt.scatter(predicted_val_xgb, residuals_xgb, alpha=0.5)\n",
    "plt.xlabel(\"Predicted Values (XGBoost)\")\n",
    "plt.ylabel(\"Residuals (XGBoost)\")\n",
    "plt.title(\"Residual Plot (XGBoost)\")\n",
    "plt.axhline(y=0, color='red', linestyle='--', lw=2)\n",
    "plt.show()\n",
    "\n",
    "# Distribution of Residuals (XGBoost)\n",
    "plt.figure(figsize=(8, 6))\n",
    "sns.histplot(residuals_xgb, kde=True)\n",
    "plt.xlabel(\"Residuals (XGBoost)\")\n",
    "plt.ylabel(\"Frequency\")\n",
    "plt.title(\"Distribution of Residuals (XGBoost)\")\n",
    "plt.show()\n"
   ]
  },
  {
   "cell_type": "markdown",
   "id": "4a3e53e3-e9d4-423d-b352-6499ce31b80d",
   "metadata": {},
   "source": [
    "## Model 3"
   ]
  },
  {
   "cell_type": "code",
   "execution_count": null,
   "id": "3746616e-d1d1-4cfd-8d93-f551b79e1482",
   "metadata": {},
   "outputs": [],
   "source": [
    "lm = LinearRegression()\n",
    "trained_model, train_rmse, val_rmse = train_and_evaluate_model(lm, X_train, y_train, X_val, y_val)"
   ]
  },
  {
   "cell_type": "markdown",
   "id": "ca85eca1-340c-4c44-a918-1516bc24f0b6",
   "metadata": {},
   "source": [
    "## Best on Test"
   ]
  },
  {
   "cell_type": "markdown",
   "id": "956c863b-5690-461f-8f5d-ee8b6a06d9d0",
   "metadata": {},
   "source": [
    "- RandomForest maybe"
   ]
  },
  {
   "cell_type": "markdown",
   "id": "3197b62c-6847-44b8-a070-6186e6b1e50a",
   "metadata": {},
   "source": [
    "## Model Results visualization"
   ]
  },
  {
   "cell_type": "code",
   "execution_count": null,
   "id": "fc3b5984-67ad-46c4-8335-b140e296c643",
   "metadata": {},
   "outputs": [],
   "source": [
    "# display visual call function"
   ]
  },
  {
   "cell_type": "code",
   "execution_count": null,
   "id": "a9c9dc67-7aeb-45fd-a353-2a743ced9032",
   "metadata": {},
   "outputs": [],
   "source": [
    "import matplotlib.pyplot as plt\n",
    "import seaborn as sns\n",
    "import numpy as np\n",
    "\n",
    "# Assuming you have trained your linear regression model (lm) using your train_and_evaluate_model function\n",
    "\n",
    "# Scatterplot of Actual vs. Predicted Values\n",
    "predicted_val = trained_model.predict(X_val)\n",
    "plt.figure(figsize=(8, 6))\n",
    "plt.scatter(y_val, predicted_val, alpha=0.5)\n",
    "plt.xlabel(\"Actual Values (y_val)\")\n",
    "plt.ylabel(\"Predicted Values\")\n",
    "plt.title(\"Scatterplot of Actual vs. Predicted Values\")\n",
    "plt.plot([min(y_val), max(y_val)], [min(y_val), max(y_val)], linestyle='--', color='red', lw=2)\n",
    "plt.show()\n",
    "\n",
    "# Residual Plot\n",
    "residuals = y_val - predicted_val\n",
    "plt.figure(figsize=(8, 6))\n",
    "plt.scatter(predicted_val, residuals, alpha=0.5)\n",
    "plt.xlabel(\"Predicted Values\")\n",
    "plt.ylabel(\"Residuals\")\n",
    "plt.title(\"Residual Plot\")\n",
    "plt.axhline(y=0, color='red', linestyle='--', lw=2)\n",
    "plt.show()\n",
    "\n",
    "# Distribution of Residuals\n",
    "plt.figure(figsize=(8, 6))\n",
    "sns.histplot(residuals, kde=True)\n",
    "plt.xlabel(\"Residuals\")\n",
    "plt.ylabel(\"Frequency\")\n",
    "plt.title(\"Distribution of Residuals\")\n",
    "plt.show()\n",
    "\n",
    "# Coefficient Plot\n",
    "coefficients = trained_model.coef_\n",
    "feature_names = X_train.columns\n",
    "plt.figure(figsize=(10, 6))\n",
    "sns.barplot(x=coefficients, y=feature_names)\n",
    "plt.xlabel(\"Coefficient Value\")\n",
    "plt.ylabel(\"Feature Names\")\n",
    "plt.title(\"Coefficient Plot\")\n",
    "plt.show()\n",
    "\n",
    "# Learning Curve (if you have this data)\n",
    "train_rmse_values = []  # Store training RMSE values for different sample sizes or iterations\n",
    "val_rmse_values = []    # Store validation RMSE values for different sample sizes or iterations\n",
    "\n",
    "# Loop through different sample sizes or iterations and record RMSE values\n",
    "for i in range(1, len(X_train) + 1):\n",
    "    lm.fit(X_train[:i], y_train[:i])  # Train on a subset of the data\n",
    "    train_rmse_values.append(np.sqrt(np.mean((y_train[:i] - lm.predict(X_train[:i]))**2)))\n",
    "    val_rmse_values.append(np.sqrt(np.mean((y_val - lm.predict(X_val))**2)))\n",
    "\n",
    "# Create learning curve plot\n",
    "plt.figure(figsize=(8, 6))\n",
    "plt.plot(range(1, len(X_train) + 1), train_rmse_values, label='Training RMSE')\n",
    "plt.plot(range(1, len(X_train) + 1), val_rmse_values, label='Validation RMSE')\n",
    "plt.xlabel(\"Sample Size or Iterations\")\n",
    "plt.ylabel(\"RMSE\")\n",
    "plt.title(\"Learning Curve\")\n",
    "plt.legend()\n",
    "plt.show()\n"
   ]
  },
  {
   "cell_type": "markdown",
   "id": "a23c8e04-c7ab-47a1-8d81-632e556a1676",
   "metadata": {},
   "source": [
    "## Model Summary"
   ]
  },
  {
   "cell_type": "markdown",
   "id": "dbe917f6-bdb8-42ff-88f5-7498f57c2033",
   "metadata": {},
   "source": [
    "- RandomForestRegression and XGBoostRegression had between 100,000 - 200,000 difference between train and validate.  \n",
    "- Best overall with the test done on RandomForestRegression with a  RMSE Calculated Significance Value of $459,000.\n",
    "  \n",
    "- RMSE Calculated Significance Value of $459,000$ dollars does better than the baseline with $716,000$ dollars.  "
   ]
  },
  {
   "cell_type": "markdown",
   "id": "ac2ff4c8-5a36-4e2f-99db-3dc88a16cc14",
   "metadata": {},
   "source": [
    "# Conclusion"
   ]
  },
  {
   "cell_type": "markdown",
   "id": "52d90635-55a2-4587-9da5-f8f9b92c1809",
   "metadata": {},
   "source": [
    "## Takeaways and Key findings"
   ]
  },
  {
   "cell_type": "markdown",
   "id": "4fe4f50d-44d6-43c5-90b6-c942a4198970",
   "metadata": {},
   "source": [
    "- Home details like the calculated area of home, lot area, bedrooms, bathrooms, full bathrooms, year built drive home value.\n",
    "- Calculated area is the most important feature across all features.\n",
    "- There higher priced adn larger single redidential family properties seems to be concentrated in ventura county and less larger  homes are spread on ornage and los angeles county"
   ]
  },
  {
   "cell_type": "markdown",
   "id": "59ebe422-ba49-4839-9966-8ea1b9020120",
   "metadata": {},
   "source": [
    "## Recommendations"
   ]
  },
  {
   "cell_type": "markdown",
   "id": "e7f8ccd6-4761-44a4-96d2-059559907276",
   "metadata": {},
   "source": [
    "- Gathering data on built years and lot sizes may improve price prediction for single residential family home values.\n",
    "- I would recommend confirming pool on a property as it may help determine true value for properties with this information."
   ]
  },
  {
   "cell_type": "markdown",
   "id": "2904735b-8bad-4069-8620-21a7ac0d21c4",
   "metadata": {},
   "source": [
    "## Next Steps"
   ]
  },
  {
   "cell_type": "markdown",
   "id": "971b0ac9-4c4c-4978-9a8b-094338723bf8",
   "metadata": {},
   "source": [
    "- If i had more time I would want to gatehr more data and maybe fill null values with imputations that closely resemble data and also feature engineer data to include new features and possibily fine tune parameter for these models.m"
   ]
  }
 ],
 "metadata": {
  "kernelspec": {
   "display_name": "Python 3 (ipykernel)",
   "language": "python",
   "name": "python3"
  },
  "language_info": {
   "codemirror_mode": {
    "name": "ipython",
    "version": 3
   },
   "file_extension": ".py",
   "mimetype": "text/x-python",
   "name": "python",
   "nbconvert_exporter": "python",
   "pygments_lexer": "ipython3",
   "version": "3.10.9"
  }
 },
 "nbformat": 4,
 "nbformat_minor": 5
}
