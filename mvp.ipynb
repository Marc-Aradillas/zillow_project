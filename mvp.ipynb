{
 "cells": [
  {
   "cell_type": "markdown",
   "id": "fd12d7b0-98c8-4013-b573-c180c592d200",
   "metadata": {},
   "source": [
    "# Project Zillow"
   ]
  },
  {
   "cell_type": "markdown",
   "id": "1fa6da43-960b-4b56-9ff1-41b462364dd5",
   "metadata": {},
   "source": [
    "- Predict the tax assessed property value of Zillow Single Family Residential properties with transaction dates in 2017.\n"
   ]
  },
  {
   "cell_type": "markdown",
   "id": "b5f73114-761a-4a0d-a10d-ccdc43a5fda2",
   "metadata": {},
   "source": [
    "# Goal"
   ]
  },
  {
   "cell_type": "code",
   "execution_count": null,
   "id": "0dc7e1af-03a1-46c5-8fb5-47a974fbec41",
   "metadata": {},
   "outputs": [],
   "source": [
    "- Identify drivers of property value.\n",
    "- Use drivers to develop a machine learning model to predict Single Family Residential property value."
   ]
  },
  {
   "cell_type": "markdown",
   "id": "2589da80-c121-4b32-ae4c-c1dd97d668af",
   "metadata": {},
   "source": [
    "# Imports"
   ]
  },
  {
   "cell_type": "code",
   "execution_count": null,
   "id": "6200bae8-2fc8-475e-b70e-4f19580b1464",
   "metadata": {},
   "outputs": [],
   "source": [
    "import numpy as np\n",
    "import pandas as pd\n",
    "import matplotlib.pyplot as plt\n",
    "import seaborn as sns\n",
    "from scipy import stats\n",
    "from sklearn.model_selection import train_test_split\n",
    "from sklearn.metrics import mean_squared_error, r2_score\n",
    "from sklearn.linear_model import LinearRegression, LassoLars, TweedieRegressor\n",
    "from sklearn.feature_selection import SelectKBest, RFE, f_regression, SequentialFeatureSelector\n",
    "from sklearn.preprocessing import MinMaxScaler, StandardScaler, RobustScaler, PolynomialFeatures\n",
    "# local\n",
    "import wrangle as w\n",
    "import explore as e\n",
    "import modeling as m"
   ]
  },
  {
   "cell_type": "markdown",
   "id": "3b88540e-2cfd-4fa4-8a74-7286c2d58748",
   "metadata": {},
   "source": [
    "# Acquire"
   ]
  },
  {
   "cell_type": "markdown",
   "id": "b1a5d4d2-23c4-4a33-aa51-41f4aff38d33",
   "metadata": {},
   "source": [
    "- Data acquired from Codeup MySQL DB\n",
    "- Data initially acquired on 7 May 2023\n",
    "- It contained 52,441 rows and 62 columns before cleaning\n",
    "- Each row represents a unique parcel for each transaction it had in 2017\n",
    "- Each column represents an element of the parcel"
   ]
  },
  {
   "cell_type": "markdown",
   "id": "134ba20e-549f-4ceb-8959-1ef477eac0f5",
   "metadata": {},
   "source": [
    "# Prepare"
   ]
  },
  {
   "cell_type": "markdown",
   "id": "cb0040ca-8c4f-4abc-a20c-7cd6c6d80314",
   "metadata": {},
   "source": [
    "**Prepare Actions:**\n",
    "\n",
    "Replaced null values with appropriate values if logical\n",
    "0 for most columns\n",
    "\n",
    "lotsize = area if lotsize value is missing\n",
    "\n",
    "Split transaction date to month and day since all are 2017\n",
    "\n",
    "Renamed columns to promote readability\n",
    "\n",
    "Removed columns that did not contain useful information\n",
    "\n",
    "too many null values that couldn't be logically imputed\n",
    "\n",
    "related to target (property value)\n",
    "\n",
    "duplicated information\n",
    "\n",
    "Removed rows\n",
    "\n",
    "nulls that couldn't logically be imputed\n",
    "\n",
    "duplicate parcels, kept most recent transaction date\n",
    "\n",
    "Checked that column data types were appropriate\n",
    "\n",
    "Handled outliers\n",
    "\n",
    "property value < 98th quantile\n",
    "\n",
    "area < 6000\n",
    "\n",
    "Mapped FIPS code to county\n",
    "\n",
    "Encoded categorical variables\n",
    "\n",
    "created dummy variables for categorical variables\n",
    "\n",
    "Split data into train, validate and test (approx. 60/20/20)\n",
    "\n",
    "Scaled using Standard Scaler for modeling"
   ]
  },
  {
   "cell_type": "markdown",
   "id": "7d6237e9-0e0e-4641-88f5-a8ebc74f4603",
   "metadata": {},
   "source": []
  }
 ],
 "metadata": {
  "kernelspec": {
   "display_name": "Python 3 (ipykernel)",
   "language": "python",
   "name": "python3"
  },
  "language_info": {
   "codemirror_mode": {
    "name": "ipython",
    "version": 3
   },
   "file_extension": ".py",
   "mimetype": "text/x-python",
   "name": "python",
   "nbconvert_exporter": "python",
   "pygments_lexer": "ipython3",
   "version": "3.10.9"
  }
 },
 "nbformat": 4,
 "nbformat_minor": 5
}
