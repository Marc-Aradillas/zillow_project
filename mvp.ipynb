{
 "cells": [
  {
   "cell_type": "markdown",
   "id": "fd12d7b0-98c8-4013-b573-c180c592d200",
   "metadata": {},
   "source": [
    "# Project Zillow"
   ]
  },
  {
   "cell_type": "markdown",
   "id": "1fa6da43-960b-4b56-9ff1-41b462364dd5",
   "metadata": {},
   "source": [
    "- Predict the tax assessed property value of Zillow Single Family Residential properties with transaction dates in 2017.\n"
   ]
  },
  {
   "cell_type": "markdown",
   "id": "b5f73114-761a-4a0d-a10d-ccdc43a5fda2",
   "metadata": {},
   "source": [
    "# Goal"
   ]
  },
  {
   "cell_type": "markdown",
   "id": "ca6ce6d1-9fb0-42c8-8cfd-78672e77f0e8",
   "metadata": {},
   "source": [
    "- Identify drivers of property value.\n",
    "- Use drivers to develop a machine learning model to predict Single Family Residential property value."
   ]
  },
  {
   "cell_type": "markdown",
   "id": "2589da80-c121-4b32-ae4c-c1dd97d668af",
   "metadata": {},
   "source": [
    "# Imports"
   ]
  },
  {
   "cell_type": "code",
   "execution_count": 1,
   "id": "6200bae8-2fc8-475e-b70e-4f19580b1464",
   "metadata": {},
   "outputs": [],
   "source": [
    "import numpy as np\n",
    "import pandas as pd\n",
    "import matplotlib.pyplot as plt\n",
    "import seaborn as sns\n",
    "from scipy import stats\n",
    "from sklearn.model_selection import train_test_split\n",
    "from sklearn.metrics import mean_squared_error, r2_score\n",
    "from sklearn.linear_model import LinearRegression, LassoLars, TweedieRegressor\n",
    "from sklearn.feature_selection import SelectKBest, RFE, f_regression, SequentialFeatureSelector\n",
    "from sklearn.preprocessing import MinMaxScaler, StandardScaler, RobustScaler, PolynomialFeatures\n",
    "# local\n",
    "from wrangle import acquire_zillow, clean_zillow, wrangle_zillow, train_val_test, xy_split, scale_data\n",
    "from explore import plot_variable_pairs, plot_categorical_and_continuous_vars, evaluate_correlation\n",
    "from model import eval_model, train_model, train_and_evaluate_model"
   ]
  },
  {
   "cell_type": "markdown",
   "id": "3b88540e-2cfd-4fa4-8a74-7286c2d58748",
   "metadata": {},
   "source": [
    "# Acquire"
   ]
  },
  {
   "cell_type": "markdown",
   "id": "b1a5d4d2-23c4-4a33-aa51-41f4aff38d33",
   "metadata": {},
   "source": [
    "## - Data acquired from Codeup MySQL DB\n",
    "- Data initially acquired on 7 Sep, 2023.\n",
    "- It contained 52,441 rows and 15 columns before cleaning.\n",
    "- Each row represents a unique parcel for each transaction it had in 2017.\n",
    "- Each column represents an element of the parcel."
   ]
  },
  {
   "cell_type": "markdown",
   "id": "134ba20e-549f-4ceb-8959-1ef477eac0f5",
   "metadata": {},
   "source": [
    "# Prepare"
   ]
  },
  {
   "cell_type": "markdown",
   "id": "cb0040ca-8c4f-4abc-a20c-7cd6c6d80314",
   "metadata": {},
   "source": [
    "**Prepare Actions:**\n",
    " - list actions taken"
   ]
  },
  {
   "cell_type": "code",
   "execution_count": 2,
   "id": "2cb4aa3b-39d3-41ac-9cfd-a6d9afafe77f",
   "metadata": {},
   "outputs": [],
   "source": [
    "# function (wrangle) and split maybe\n",
    "df = wrangle_zillow()"
   ]
  },
  {
   "cell_type": "code",
   "execution_count": 3,
   "id": "eaa1f08a-bece-4bdd-8068-0ea73e859338",
   "metadata": {},
   "outputs": [],
   "source": [
    "train, val, test = train_val_test(df)"
   ]
  },
  {
   "cell_type": "markdown",
   "id": "dc1d8ada-2522-4a03-a1f7-0218fb5dd667",
   "metadata": {},
   "source": [
    "### Quick view of data,"
   ]
  },
  {
   "cell_type": "code",
   "execution_count": 4,
   "id": "775212ee-d158-4177-a7ec-860cb78784e8",
   "metadata": {},
   "outputs": [
    {
     "data": {
      "text/html": [
       "<div>\n",
       "<style scoped>\n",
       "    .dataframe tbody tr th:only-of-type {\n",
       "        vertical-align: middle;\n",
       "    }\n",
       "\n",
       "    .dataframe tbody tr th {\n",
       "        vertical-align: top;\n",
       "    }\n",
       "\n",
       "    .dataframe thead th {\n",
       "        text-align: right;\n",
       "    }\n",
       "</style>\n",
       "<table border=\"1\" class=\"dataframe\">\n",
       "  <thead>\n",
       "    <tr style=\"text-align: right;\">\n",
       "      <th></th>\n",
       "      <th>parcelid</th>\n",
       "      <th>bathrooms</th>\n",
       "      <th>bedrooms</th>\n",
       "      <th>area</th>\n",
       "      <th>full_bath_cnt</th>\n",
       "      <th>latitude</th>\n",
       "      <th>longitude</th>\n",
       "      <th>lot_area</th>\n",
       "      <th>region_id_county</th>\n",
       "      <th>regionidzip</th>\n",
       "      <th>room_cnt</th>\n",
       "      <th>year_built</th>\n",
       "      <th>home_value</th>\n",
       "      <th>census_tract_and_block</th>\n",
       "      <th>fips</th>\n",
       "      <th>state</th>\n",
       "      <th>county</th>\n",
       "    </tr>\n",
       "  </thead>\n",
       "  <tbody>\n",
       "    <tr>\n",
       "      <th>39762</th>\n",
       "      <td>12115385</td>\n",
       "      <td>2.0</td>\n",
       "      <td>3</td>\n",
       "      <td>1218</td>\n",
       "      <td>2</td>\n",
       "      <td>34164673.0</td>\n",
       "      <td>-118126949.0</td>\n",
       "      <td>9251</td>\n",
       "      <td>3101</td>\n",
       "      <td>96292</td>\n",
       "      <td>0</td>\n",
       "      <td>1921</td>\n",
       "      <td>432527</td>\n",
       "      <td>6.037462e+13</td>\n",
       "      <td>6037</td>\n",
       "      <td>California</td>\n",
       "      <td>Los Angeles County</td>\n",
       "    </tr>\n",
       "    <tr>\n",
       "      <th>48844</th>\n",
       "      <td>12825439</td>\n",
       "      <td>2.0</td>\n",
       "      <td>3</td>\n",
       "      <td>1662</td>\n",
       "      <td>2</td>\n",
       "      <td>33931418.0</td>\n",
       "      <td>-118001601.0</td>\n",
       "      <td>6455</td>\n",
       "      <td>3101</td>\n",
       "      <td>96172</td>\n",
       "      <td>0</td>\n",
       "      <td>1954</td>\n",
       "      <td>169135</td>\n",
       "      <td>6.037504e+13</td>\n",
       "      <td>6037</td>\n",
       "      <td>California</td>\n",
       "      <td>Los Angeles County</td>\n",
       "    </tr>\n",
       "    <tr>\n",
       "      <th>24439</th>\n",
       "      <td>12668213</td>\n",
       "      <td>1.0</td>\n",
       "      <td>3</td>\n",
       "      <td>1580</td>\n",
       "      <td>1</td>\n",
       "      <td>33821835.0</td>\n",
       "      <td>-118387104.0</td>\n",
       "      <td>7509</td>\n",
       "      <td>3101</td>\n",
       "      <td>96123</td>\n",
       "      <td>0</td>\n",
       "      <td>1948</td>\n",
       "      <td>163387</td>\n",
       "      <td>6.037621e+13</td>\n",
       "      <td>6037</td>\n",
       "      <td>California</td>\n",
       "      <td>Los Angeles County</td>\n",
       "    </tr>\n",
       "    <tr>\n",
       "      <th>48581</th>\n",
       "      <td>12266229</td>\n",
       "      <td>1.0</td>\n",
       "      <td>3</td>\n",
       "      <td>1079</td>\n",
       "      <td>1</td>\n",
       "      <td>33906624.0</td>\n",
       "      <td>-118240829.0</td>\n",
       "      <td>6249</td>\n",
       "      <td>3101</td>\n",
       "      <td>96092</td>\n",
       "      <td>0</td>\n",
       "      <td>1954</td>\n",
       "      <td>163308</td>\n",
       "      <td>6.037541e+13</td>\n",
       "      <td>6037</td>\n",
       "      <td>California</td>\n",
       "      <td>Los Angeles County</td>\n",
       "    </tr>\n",
       "    <tr>\n",
       "      <th>5570</th>\n",
       "      <td>14379497</td>\n",
       "      <td>3.0</td>\n",
       "      <td>4</td>\n",
       "      <td>1986</td>\n",
       "      <td>3</td>\n",
       "      <td>33611735.0</td>\n",
       "      <td>-117688925.0</td>\n",
       "      <td>7560</td>\n",
       "      <td>1286</td>\n",
       "      <td>96995</td>\n",
       "      <td>8</td>\n",
       "      <td>1968</td>\n",
       "      <td>461551</td>\n",
       "      <td>6.059032e+13</td>\n",
       "      <td>6059</td>\n",
       "      <td>California</td>\n",
       "      <td>Orange County</td>\n",
       "    </tr>\n",
       "  </tbody>\n",
       "</table>\n",
       "</div>"
      ],
      "text/plain": [
       "       parcelid  bathrooms  bedrooms  area  full_bath_cnt    latitude  \\\n",
       "39762  12115385        2.0         3  1218              2  34164673.0   \n",
       "48844  12825439        2.0         3  1662              2  33931418.0   \n",
       "24439  12668213        1.0         3  1580              1  33821835.0   \n",
       "48581  12266229        1.0         3  1079              1  33906624.0   \n",
       "5570   14379497        3.0         4  1986              3  33611735.0   \n",
       "\n",
       "         longitude  lot_area  region_id_county  regionidzip  room_cnt  \\\n",
       "39762 -118126949.0      9251              3101        96292         0   \n",
       "48844 -118001601.0      6455              3101        96172         0   \n",
       "24439 -118387104.0      7509              3101        96123         0   \n",
       "48581 -118240829.0      6249              3101        96092         0   \n",
       "5570  -117688925.0      7560              1286        96995         8   \n",
       "\n",
       "       year_built  home_value  census_tract_and_block  fips       state  \\\n",
       "39762        1921      432527            6.037462e+13  6037  California   \n",
       "48844        1954      169135            6.037504e+13  6037  California   \n",
       "24439        1948      163387            6.037621e+13  6037  California   \n",
       "48581        1954      163308            6.037541e+13  6037  California   \n",
       "5570         1968      461551            6.059032e+13  6059  California   \n",
       "\n",
       "                   county  \n",
       "39762  Los Angeles County  \n",
       "48844  Los Angeles County  \n",
       "24439  Los Angeles County  \n",
       "48581  Los Angeles County  \n",
       "5570        Orange County  "
      ]
     },
     "execution_count": 4,
     "metadata": {},
     "output_type": "execute_result"
    }
   ],
   "source": [
    "# displaying first five rows of zillow dataframe.\n",
    "train.head()"
   ]
  },
  {
   "cell_type": "markdown",
   "id": "09152927-60b2-498b-bf01-ac13a1aa19f0",
   "metadata": {},
   "source": [
    "# Explore"
   ]
  },
  {
   "cell_type": "markdown",
   "id": "615d4cf3-695d-4ba8-aff0-048e5569b0de",
   "metadata": {},
   "source": [
    "- questions (Should be 4)"
   ]
  },
  {
   "cell_type": "markdown",
   "id": "c253b1fd-74c6-42ea-af6f-a375969ddb1d",
   "metadata": {},
   "source": [
    "## Question 1"
   ]
  },
  {
   "cell_type": "code",
   "execution_count": null,
   "id": "7b5d06cd-9f83-4b3c-a014-1d7223e332af",
   "metadata": {},
   "outputs": [],
   "source": []
  },
  {
   "cell_type": "markdown",
   "id": "0aa035c5-f1be-4161-a4e0-5f24bc173b9f",
   "metadata": {},
   "source": [
    "## Question 2"
   ]
  },
  {
   "cell_type": "code",
   "execution_count": null,
   "id": "91738fe9-046c-4ba1-b523-e6f7a5402e20",
   "metadata": {},
   "outputs": [],
   "source": []
  },
  {
   "cell_type": "markdown",
   "id": "4d97fcb6-d888-4876-a770-0397f2f6ecc1",
   "metadata": {},
   "source": [
    "## Question 3"
   ]
  },
  {
   "cell_type": "code",
   "execution_count": null,
   "id": "db87ba6a-1726-4b61-ab04-2d13fc13330c",
   "metadata": {},
   "outputs": [],
   "source": []
  },
  {
   "cell_type": "markdown",
   "id": "db1667ed-e441-40e6-8f8b-f13f82c551a9",
   "metadata": {},
   "source": [
    "## Question 4"
   ]
  },
  {
   "cell_type": "code",
   "execution_count": null,
   "id": "9c827578-a262-463f-8cf1-1be80dece9ec",
   "metadata": {},
   "outputs": [],
   "source": []
  },
  {
   "cell_type": "markdown",
   "id": "cfd1568a-bb32-4dee-942a-317469626855",
   "metadata": {},
   "source": [
    "## Explore Summary"
   ]
  },
  {
   "cell_type": "markdown",
   "id": "62c98df9-b2d9-486c-bc41-3fd53e89f93f",
   "metadata": {},
   "source": [
    "- summarize exploration"
   ]
  },
  {
   "cell_type": "markdown",
   "id": "d3490546-5be6-409f-927e-04d828fd728c",
   "metadata": {},
   "source": [
    "#### features for modeling"
   ]
  },
  {
   "cell_type": "markdown",
   "id": "b886d4a8-2a2a-433f-96aa-e38ed5692af0",
   "metadata": {},
   "source": [
    "- inpute features selected"
   ]
  },
  {
   "cell_type": "markdown",
   "id": "74c3259a-0f1f-418f-9112-fa4308df1edc",
   "metadata": {},
   "source": [
    "# Modeling"
   ]
  },
  {
   "cell_type": "markdown",
   "id": "6f14f58e-dd8a-41dd-9b33-5c9ba72d3759",
   "metadata": {},
   "source": [
    "- modeling input"
   ]
  },
  {
   "cell_type": "markdown",
   "id": "ca5fe613-7b7a-435b-8209-bb9d3692ce3d",
   "metadata": {},
   "source": [
    "## Best of 3 model configuration"
   ]
  },
  {
   "cell_type": "markdown",
   "id": "c53d1dd0-ec9c-4354-81fd-6891633cd39a",
   "metadata": {},
   "source": [
    "## Model 1"
   ]
  },
  {
   "cell_type": "code",
   "execution_count": null,
   "id": "f57292f4-b397-4a76-a7ab-1583869e6fa2",
   "metadata": {},
   "outputs": [],
   "source": []
  },
  {
   "cell_type": "markdown",
   "id": "adf51d7e-c04e-41e6-9ac2-bd5b41d64656",
   "metadata": {},
   "source": [
    "## Model 2"
   ]
  },
  {
   "cell_type": "code",
   "execution_count": null,
   "id": "78920251-fd10-40d0-be45-dc677545dba5",
   "metadata": {},
   "outputs": [],
   "source": []
  },
  {
   "cell_type": "markdown",
   "id": "4a3e53e3-e9d4-423d-b352-6499ce31b80d",
   "metadata": {},
   "source": [
    "## Model 3"
   ]
  },
  {
   "cell_type": "code",
   "execution_count": null,
   "id": "3746616e-d1d1-4cfd-8d93-f551b79e1482",
   "metadata": {},
   "outputs": [],
   "source": []
  },
  {
   "cell_type": "markdown",
   "id": "ca85eca1-340c-4c44-a918-1516bc24f0b6",
   "metadata": {},
   "source": [
    "## Best on Test"
   ]
  },
  {
   "cell_type": "markdown",
   "id": "956c863b-5690-461f-8f5d-ee8b6a06d9d0",
   "metadata": {},
   "source": [
    "- list model and call a function"
   ]
  },
  {
   "cell_type": "markdown",
   "id": "3197b62c-6847-44b8-a070-6186e6b1e50a",
   "metadata": {},
   "source": [
    "## Model Results visualization"
   ]
  },
  {
   "cell_type": "code",
   "execution_count": 5,
   "id": "fc3b5984-67ad-46c4-8335-b140e296c643",
   "metadata": {},
   "outputs": [],
   "source": [
    "# display visual call function"
   ]
  },
  {
   "cell_type": "markdown",
   "id": "a23c8e04-c7ab-47a1-8d81-632e556a1676",
   "metadata": {},
   "source": [
    "## Model Summary"
   ]
  },
  {
   "cell_type": "markdown",
   "id": "dbe917f6-bdb8-42ff-88f5-7498f57c2033",
   "metadata": {},
   "source": [
    "- input model summary"
   ]
  },
  {
   "cell_type": "markdown",
   "id": "ac2ff4c8-5a36-4e2f-99db-3dc88a16cc14",
   "metadata": {},
   "source": [
    "# Conclusion"
   ]
  },
  {
   "cell_type": "markdown",
   "id": "52d90635-55a2-4587-9da5-f8f9b92c1809",
   "metadata": {},
   "source": [
    "## Takeaways and Key findings"
   ]
  },
  {
   "cell_type": "markdown",
   "id": "59ebe422-ba49-4839-9966-8ea1b9020120",
   "metadata": {},
   "source": [
    "## Recommendations"
   ]
  },
  {
   "cell_type": "markdown",
   "id": "2904735b-8bad-4069-8620-21a7ac0d21c4",
   "metadata": {},
   "source": [
    "## Next Steps"
   ]
  }
 ],
 "metadata": {
  "kernelspec": {
   "display_name": "Python 3 (ipykernel)",
   "language": "python",
   "name": "python3"
  },
  "language_info": {
   "codemirror_mode": {
    "name": "ipython",
    "version": 3
   },
   "file_extension": ".py",
   "mimetype": "text/x-python",
   "name": "python",
   "nbconvert_exporter": "python",
   "pygments_lexer": "ipython3",
   "version": "3.10.9"
  }
 },
 "nbformat": 4,
 "nbformat_minor": 5
}
