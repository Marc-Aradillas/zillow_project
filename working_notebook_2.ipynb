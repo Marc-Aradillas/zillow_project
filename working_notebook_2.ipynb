{
 "cells": [
  {
   "cell_type": "markdown",
   "id": "a7c6cfb5-2f6c-475a-a9be-a69d20694660",
   "metadata": {},
   "source": [
    "# Workbook 2"
   ]
  },
  {
   "cell_type": "markdown",
   "id": "8d22c134-6793-4d34-9dd9-92de0ffe0165",
   "metadata": {},
   "source": [
    "## This second workbook is to revisit the dataframe in whole and re-evaluate features to better feature enginner the and or clean them to improve model performance."
   ]
  },
  {
   "cell_type": "code",
   "execution_count": 1,
   "id": "d7cfb392-2b86-477e-9afc-db7a417d92e6",
   "metadata": {},
   "outputs": [],
   "source": [
    "# imports\n",
    "import warnings\n",
    "\n",
    "warnings.filterwarnings(\"ignore\")\n",
    "\n",
    "import os\n",
    "import numpy as np\n",
    "import pandas as pd\n",
    "import matplotlib.pyplot as plt\n",
    "import seaborn as sns\n",
    "from scipy import stats\n",
    "from sklearn.model_selection import train_test_split\n",
    "from sklearn.metrics import mean_squared_error, r2_score, explained_variance_score\n",
    "from sklearn.linear_model import LinearRegression, LassoLars, TweedieRegressor\n",
    "from sklearn.ensemble import RandomForestRegressor\n",
    "from xgboost import XGBRegressor\n",
    "from sklearn.feature_selection import SelectKBest, RFE, f_regression, SequentialFeatureSelector\n",
    "from sklearn.preprocessing import MinMaxScaler, StandardScaler, RobustScaler, PolynomialFeatures\n",
    "from env import get_connection\n",
    "\n",
    "# local\n",
    "from wrangle import acquire_zillow, clean_zillow, wrangle_zillow, train_val_test, xy_split\n",
    "from explore import dist_of_nums, plot_variable_pairs, plot_categorical_and_continuous_vars, evaluate_correlation\n",
    "from evaluate import plot_residuals, regression_errors, baseline_mean_errors, better_than_baseline\n",
    "from model import eval_model, train_model, train_and_evaluate_model, scale_data\n",
    "from math import sqrt"
   ]
  },
  {
   "cell_type": "code",
   "execution_count": 2,
   "id": "b7191035-7775-435e-83a3-e32384122950",
   "metadata": {},
   "outputs": [],
   "source": [
    "# Constants\n",
    "filename = 'zillow_data2.csv'\n",
    "\n",
    "# Acquire data.\n",
    "# ----------------------ACQUIRE FUNCTION---------------------------------\n",
    "def acquire_zillow():\n",
    "\n",
    "    if os.path.isfile(filename):\n",
    "        \n",
    "        return pd.read_csv(filename)\n",
    "        \n",
    "    else: \n",
    "\n",
    "        query = '''\n",
    "                SELECT p17.parcelid, latitude, longitude, lotsizesquarefeet, regionidcounty, regionidcity, regionidzip, propertycountylandusecode, propertyzoningdesc, -- parcel information\n",
    "                bathroomcnt, bedroomcnt, calculatedbathnbr, fullbathcnt, calculatedfinishedsquarefeet, basementsqft, finishedsquarefeet12, finishedsquarefeet15, finishedsquarefeet50, fips, roomcnt, numberofstories, yearbuilt, -- property characteristics\n",
    "                plu.propertylandusetypeid, airconditioningtypeid, buildingqualitytypeid, heatingorsystemtypeid, architecturalstyletypeid, buildingclasstypeid, decktypeid, typeconstructiontypeid, unitcnt, -- building information\n",
    "                garagecarcnt, garagetotalsqft, poolcnt, poolsizesum, pooltypeid10, pooltypeid2, pooltypeid7, fireplacecnt, fireplaceflag, hashottuborspa, yardbuildingsqft17, yardbuildingsqft26, threequarterbathnbr, -- additional property features\n",
    "                taxvaluedollarcnt, taxdelinquencyflag, taxdelinquencyyear, -- allowed tax info\n",
    "                rawcensustractandblock, censustractandblock -- census information\n",
    "                \n",
    "                FROM properties_2017 AS p17\n",
    "                \n",
    "                LEFT JOIN predictions_2017 AS pr17 ON p17.parcelid = pr17.parcelid\n",
    "                \n",
    "                LEFT JOIN propertylandusetype AS plu ON p17.propertylandusetypeid = plu.propertylandusetypeid\n",
    "                \n",
    "                WHERE plu.propertylandusetypeid = 261 AND YEAR(pr17.transactiondate) = 2017; -- 'Single Family Residential' and transactions in 2017017; -- 'Single Family Residential' and transactions in 2017\n",
    "                '''\n",
    "\n",
    "        url = get_connection('zillow')\n",
    "                \n",
    "        df = pd.read_sql(query, url)\n",
    "\n",
    "        # # save to csv\n",
    "        # df.to_csv(filename,index=False)\n",
    "\n",
    "        return df "
   ]
  },
  {
   "cell_type": "code",
   "execution_count": 3,
   "id": "f5f36509-a590-4438-a1e9-ebb4e93beb15",
   "metadata": {},
   "outputs": [
    {
     "data": {
      "text/html": [
       "<div>\n",
       "<style scoped>\n",
       "    .dataframe tbody tr th:only-of-type {\n",
       "        vertical-align: middle;\n",
       "    }\n",
       "\n",
       "    .dataframe tbody tr th {\n",
       "        vertical-align: top;\n",
       "    }\n",
       "\n",
       "    .dataframe thead th {\n",
       "        text-align: right;\n",
       "    }\n",
       "</style>\n",
       "<table border=\"1\" class=\"dataframe\">\n",
       "  <thead>\n",
       "    <tr style=\"text-align: right;\">\n",
       "      <th></th>\n",
       "      <th>parcelid</th>\n",
       "      <th>latitude</th>\n",
       "      <th>longitude</th>\n",
       "      <th>lotsizesquarefeet</th>\n",
       "      <th>regionidcounty</th>\n",
       "      <th>regionidcity</th>\n",
       "      <th>regionidzip</th>\n",
       "      <th>propertycountylandusecode</th>\n",
       "      <th>propertyzoningdesc</th>\n",
       "      <th>bathroomcnt</th>\n",
       "      <th>...</th>\n",
       "      <th>fireplaceflag</th>\n",
       "      <th>hashottuborspa</th>\n",
       "      <th>yardbuildingsqft17</th>\n",
       "      <th>yardbuildingsqft26</th>\n",
       "      <th>threequarterbathnbr</th>\n",
       "      <th>taxvaluedollarcnt</th>\n",
       "      <th>taxdelinquencyflag</th>\n",
       "      <th>taxdelinquencyyear</th>\n",
       "      <th>rawcensustractandblock</th>\n",
       "      <th>censustractandblock</th>\n",
       "    </tr>\n",
       "  </thead>\n",
       "  <tbody>\n",
       "    <tr>\n",
       "      <th>0</th>\n",
       "      <td>14297519</td>\n",
       "      <td>33634931.0</td>\n",
       "      <td>-117869207.0</td>\n",
       "      <td>4506.0</td>\n",
       "      <td>1286.0</td>\n",
       "      <td>53571.0</td>\n",
       "      <td>96978.0</td>\n",
       "      <td>122</td>\n",
       "      <td>None</td>\n",
       "      <td>3.5</td>\n",
       "      <td>...</td>\n",
       "      <td>NaN</td>\n",
       "      <td>NaN</td>\n",
       "      <td>NaN</td>\n",
       "      <td>NaN</td>\n",
       "      <td>1.0</td>\n",
       "      <td>1023282.0</td>\n",
       "      <td>None</td>\n",
       "      <td>NaN</td>\n",
       "      <td>6.059063e+07</td>\n",
       "      <td>6.059063e+13</td>\n",
       "    </tr>\n",
       "    <tr>\n",
       "      <th>1</th>\n",
       "      <td>17052889</td>\n",
       "      <td>34449266.0</td>\n",
       "      <td>-119281531.0</td>\n",
       "      <td>12647.0</td>\n",
       "      <td>2061.0</td>\n",
       "      <td>13091.0</td>\n",
       "      <td>97099.0</td>\n",
       "      <td>1110</td>\n",
       "      <td>None</td>\n",
       "      <td>1.0</td>\n",
       "      <td>...</td>\n",
       "      <td>NaN</td>\n",
       "      <td>NaN</td>\n",
       "      <td>NaN</td>\n",
       "      <td>NaN</td>\n",
       "      <td>NaN</td>\n",
       "      <td>464000.0</td>\n",
       "      <td>None</td>\n",
       "      <td>NaN</td>\n",
       "      <td>6.111001e+07</td>\n",
       "      <td>6.111001e+13</td>\n",
       "    </tr>\n",
       "    <tr>\n",
       "      <th>2</th>\n",
       "      <td>14186244</td>\n",
       "      <td>33886168.0</td>\n",
       "      <td>-117823170.0</td>\n",
       "      <td>8432.0</td>\n",
       "      <td>1286.0</td>\n",
       "      <td>21412.0</td>\n",
       "      <td>97078.0</td>\n",
       "      <td>122</td>\n",
       "      <td>None</td>\n",
       "      <td>2.0</td>\n",
       "      <td>...</td>\n",
       "      <td>NaN</td>\n",
       "      <td>NaN</td>\n",
       "      <td>NaN</td>\n",
       "      <td>NaN</td>\n",
       "      <td>NaN</td>\n",
       "      <td>564778.0</td>\n",
       "      <td>None</td>\n",
       "      <td>NaN</td>\n",
       "      <td>6.059022e+07</td>\n",
       "      <td>6.059022e+13</td>\n",
       "    </tr>\n",
       "    <tr>\n",
       "      <th>3</th>\n",
       "      <td>12177905</td>\n",
       "      <td>34245180.0</td>\n",
       "      <td>-118240722.0</td>\n",
       "      <td>13038.0</td>\n",
       "      <td>3101.0</td>\n",
       "      <td>396551.0</td>\n",
       "      <td>96330.0</td>\n",
       "      <td>0101</td>\n",
       "      <td>LCR110000*</td>\n",
       "      <td>3.0</td>\n",
       "      <td>...</td>\n",
       "      <td>NaN</td>\n",
       "      <td>NaN</td>\n",
       "      <td>NaN</td>\n",
       "      <td>NaN</td>\n",
       "      <td>NaN</td>\n",
       "      <td>145143.0</td>\n",
       "      <td>None</td>\n",
       "      <td>NaN</td>\n",
       "      <td>6.037300e+07</td>\n",
       "      <td>6.037300e+13</td>\n",
       "    </tr>\n",
       "    <tr>\n",
       "      <th>4</th>\n",
       "      <td>12095076</td>\n",
       "      <td>34145202.0</td>\n",
       "      <td>-118179824.0</td>\n",
       "      <td>63000.0</td>\n",
       "      <td>3101.0</td>\n",
       "      <td>47019.0</td>\n",
       "      <td>96293.0</td>\n",
       "      <td>0101</td>\n",
       "      <td>PSR2</td>\n",
       "      <td>3.0</td>\n",
       "      <td>...</td>\n",
       "      <td>NaN</td>\n",
       "      <td>NaN</td>\n",
       "      <td>NaN</td>\n",
       "      <td>NaN</td>\n",
       "      <td>NaN</td>\n",
       "      <td>773303.0</td>\n",
       "      <td>None</td>\n",
       "      <td>NaN</td>\n",
       "      <td>6.037461e+07</td>\n",
       "      <td>6.037461e+13</td>\n",
       "    </tr>\n",
       "  </tbody>\n",
       "</table>\n",
       "<p>5 rows × 49 columns</p>\n",
       "</div>"
      ],
      "text/plain": [
       "   parcelid    latitude    longitude  lotsizesquarefeet  regionidcounty  \\\n",
       "0  14297519  33634931.0 -117869207.0             4506.0          1286.0   \n",
       "1  17052889  34449266.0 -119281531.0            12647.0          2061.0   \n",
       "2  14186244  33886168.0 -117823170.0             8432.0          1286.0   \n",
       "3  12177905  34245180.0 -118240722.0            13038.0          3101.0   \n",
       "4  12095076  34145202.0 -118179824.0            63000.0          3101.0   \n",
       "\n",
       "   regionidcity  regionidzip propertycountylandusecode propertyzoningdesc  \\\n",
       "0       53571.0      96978.0                       122               None   \n",
       "1       13091.0      97099.0                      1110               None   \n",
       "2       21412.0      97078.0                       122               None   \n",
       "3      396551.0      96330.0                      0101         LCR110000*   \n",
       "4       47019.0      96293.0                      0101               PSR2   \n",
       "\n",
       "   bathroomcnt  ...  fireplaceflag  hashottuborspa  yardbuildingsqft17  \\\n",
       "0          3.5  ...            NaN             NaN                 NaN   \n",
       "1          1.0  ...            NaN             NaN                 NaN   \n",
       "2          2.0  ...            NaN             NaN                 NaN   \n",
       "3          3.0  ...            NaN             NaN                 NaN   \n",
       "4          3.0  ...            NaN             NaN                 NaN   \n",
       "\n",
       "   yardbuildingsqft26  threequarterbathnbr  taxvaluedollarcnt  \\\n",
       "0                 NaN                  1.0          1023282.0   \n",
       "1                 NaN                  NaN           464000.0   \n",
       "2                 NaN                  NaN           564778.0   \n",
       "3                 NaN                  NaN           145143.0   \n",
       "4                 NaN                  NaN           773303.0   \n",
       "\n",
       "  taxdelinquencyflag  taxdelinquencyyear  rawcensustractandblock  \\\n",
       "0               None                 NaN            6.059063e+07   \n",
       "1               None                 NaN            6.111001e+07   \n",
       "2               None                 NaN            6.059022e+07   \n",
       "3               None                 NaN            6.037300e+07   \n",
       "4               None                 NaN            6.037461e+07   \n",
       "\n",
       "   censustractandblock  \n",
       "0         6.059063e+13  \n",
       "1         6.111001e+13  \n",
       "2         6.059022e+13  \n",
       "3         6.037300e+13  \n",
       "4         6.037461e+13  \n",
       "\n",
       "[5 rows x 49 columns]"
      ]
     },
     "execution_count": 3,
     "metadata": {},
     "output_type": "execute_result"
    }
   ],
   "source": [
    "df = acquire_zillow()\n",
    "df.head()"
   ]
  },
  {
   "cell_type": "code",
   "execution_count": 4,
   "id": "8b1b940b-fd10-41df-b29d-2c012ec8b9ab",
   "metadata": {},
   "outputs": [
    {
     "data": {
      "text/plain": [
       "parcelid                            0\n",
       "latitude                            0\n",
       "longitude                           0\n",
       "lotsizesquarefeet                 369\n",
       "regionidcounty                      0\n",
       "regionidcity                     1037\n",
       "regionidzip                        26\n",
       "propertycountylandusecode           0\n",
       "propertyzoningdesc              18593\n",
       "bathroomcnt                         0\n",
       "bedroomcnt                          0\n",
       "calculatedbathnbr                 137\n",
       "fullbathcnt                       137\n",
       "calculatedfinishedsquarefeet       82\n",
       "basementsqft                    52394\n",
       "finishedsquarefeet12              247\n",
       "finishedsquarefeet15            52441\n",
       "finishedsquarefeet50            48060\n",
       "fips                                0\n",
       "roomcnt                             0\n",
       "numberofstories                 37880\n",
       "yearbuilt                         116\n",
       "propertylandusetypeid               0\n",
       "airconditioningtypeid           38803\n",
       "buildingqualitytypeid           18701\n",
       "heatingorsystemtypeid           18506\n",
       "architecturalstyletypeid        52371\n",
       "buildingclasstypeid             52441\n",
       "decktypeid                      52052\n",
       "typeconstructiontypeid          52365\n",
       "unitcnt                         18594\n",
       "garagecarcnt                    34426\n",
       "garagetotalsqft                 34426\n",
       "poolcnt                         41345\n",
       "poolsizesum                     51574\n",
       "pooltypeid10                    51997\n",
       "pooltypeid2                     51370\n",
       "pooltypeid7                     42432\n",
       "fireplacecnt                    45198\n",
       "fireplaceflag                   52360\n",
       "hashottuborspa                  50926\n",
       "yardbuildingsqft17              50504\n",
       "yardbuildingsqft26              52378\n",
       "threequarterbathnbr             45717\n",
       "taxvaluedollarcnt                   1\n",
       "taxdelinquencyflag              50362\n",
       "taxdelinquencyyear              50362\n",
       "rawcensustractandblock              0\n",
       "censustractandblock               123\n",
       "dtype: int64"
      ]
     },
     "execution_count": 4,
     "metadata": {},
     "output_type": "execute_result"
    }
   ],
   "source": [
    "# checking all nulls in df\n",
    "df.isna().sum()"
   ]
  },
  {
   "cell_type": "code",
   "execution_count": 5,
   "id": "1073dea2-d088-43ba-80b7-2b056f248d73",
   "metadata": {},
   "outputs": [
    {
     "data": {
      "image/png": "[encoded data removed]",
      "text/plain": [
       "<Figure size 1200x2000 with 1 Axes>"
      ]
     },
     "metadata": {},
     "output_type": "display_data"
    }
   ],
   "source": [
    "# displaying feature percentages\n",
    "plt.figure(figsize=(12,20))\n",
    "df.drop('parcelid',axis=1).notnull().mean().sort_values(ascending = True).plot(kind = 'barh')\n",
    "plt.title('Percentage of Present Information by Feature')\n",
    "plt.show()"
   ]
  },
  {
   "cell_type": "code",
   "execution_count": 6,
   "id": "7e64333c-6236-40bc-a697-3e81efa1f72e",
   "metadata": {},
   "outputs": [
    {
     "data": {
      "text/plain": [
       "latitude                        1.000000\n",
       "fips                            1.000000\n",
       "rawcensustractandblock          1.000000\n",
       "regionidcounty                  1.000000\n",
       "propertycountylandusecode       1.000000\n",
       "longitude                       1.000000\n",
       "bathroomcnt                     1.000000\n",
       "bedroomcnt                      1.000000\n",
       "propertylandusetypeid           1.000000\n",
       "roomcnt                         1.000000\n",
       "taxvaluedollarcnt               0.999981\n",
       "regionidzip                     0.999504\n",
       "calculatedfinishedsquarefeet    0.998436\n",
       "yearbuilt                       0.997788\n",
       "censustractandblock             0.997655\n",
       "fullbathcnt                     0.997388\n",
       "calculatedbathnbr               0.997388\n",
       "finishedsquarefeet12            0.995290\n",
       "lotsizesquarefeet               0.992964\n",
       "regionidcity                    0.980225\n",
       "heatingorsystemtypeid           0.647108\n",
       "propertyzoningdesc              0.645449\n",
       "unitcnt                         0.645430\n",
       "buildingqualitytypeid           0.643390\n",
       "garagecarcnt                    0.343529\n",
       "garagetotalsqft                 0.343529\n",
       "numberofstories                 0.277664\n",
       "airconditioningtypeid           0.260064\n",
       "poolcnt                         0.211590\n",
       "pooltypeid7                     0.190862\n",
       "fireplacecnt                    0.138117\n",
       "threequarterbathnbr             0.128220\n",
       "finishedsquarefeet50            0.083542\n",
       "taxdelinquencyflag              0.039645\n",
       "taxdelinquencyyear              0.039645\n",
       "yardbuildingsqft17              0.036937\n",
       "hashottuborspa                  0.028890\n",
       "pooltypeid2                     0.020423\n",
       "poolsizesum                     0.016533\n",
       "pooltypeid10                    0.008467\n",
       "decktypeid                      0.007418\n",
       "fireplaceflag                   0.001545\n",
       "typeconstructiontypeid          0.001449\n",
       "architecturalstyletypeid        0.001335\n",
       "yardbuildingsqft26              0.001201\n",
       "basementsqft                    0.000896\n",
       "buildingclasstypeid             0.000000\n",
       "finishedsquarefeet15            0.000000\n",
       "dtype: float64"
      ]
     },
     "execution_count": 6,
     "metadata": {},
     "output_type": "execute_result"
    }
   ],
   "source": [
    "# dropping parcelid and checking for percentage of what is present in less than 1% of homes.\n",
    "# mostly all of them are not 1% percent so we may have to drop the ones that have many nulls.\n",
    "# but before we do so we can clean some data and impute/fill values for some of these features that are nor represented well in the raw data.\n",
    "df.drop('parcelid',axis=1).notnull().mean().sort_values(ascending = False)"
   ]
  },
  {
   "cell_type": "markdown",
   "id": "e0bd2153-375e-4711-ba18-3fe669b39022",
   "metadata": {},
   "source": [
    "## pool features edits"
   ]
  },
  {
   "cell_type": "code",
   "execution_count": 7,
   "id": "012f3a45-04a6-451d-9c3f-5789a2386e29",
   "metadata": {},
   "outputs": [],
   "source": [
    "# 0 pools\n",
    "df.poolcnt.fillna(0, inplace = True)"
   ]
  },
  {
   "cell_type": "code",
   "execution_count": 8,
   "id": "eba4d010-a854-44f4-861a-dcedde24597c",
   "metadata": {},
   "outputs": [],
   "source": [
    "# 0 hot tubs or spa\n",
    "df.hashottuborspa.fillna(0, inplace = True)"
   ]
  },
  {
   "cell_type": "code",
   "execution_count": 9,
   "id": "2e59e28c-2d83-4cfb-9204-8eefeeb147b5",
   "metadata": {},
   "outputs": [],
   "source": [
    "# convert True to 1\n",
    "df.hashottuborspa.replace(to_replace = True, value = 1,inplace = True)"
   ]
  },
  {
   "cell_type": "code",
   "execution_count": 10,
   "id": "e5f6d51a-ff57-4ded-ba0b-8040ecdbbac0",
   "metadata": {},
   "outputs": [
    {
     "name": "stdout",
     "output_type": "stream",
     "text": [
      "0.0    50926\n",
      "1.0     1515\n",
      "Name: hashottuborspa, dtype: int64\n"
     ]
    }
   ],
   "source": [
    "# checking feature column\n",
    "print(df['hashottuborspa'].value_counts())"
   ]
  },
  {
   "cell_type": "code",
   "execution_count": 11,
   "id": "9a6f8afe-0ca6-4c4f-9942-d0f762b35de1",
   "metadata": {},
   "outputs": [],
   "source": [
    "# setting properties that have a pool but no info on poolsize equal to the median poolsize value\n",
    "df.loc[df.poolcnt == 1, 'poolsizesum'] = df.loc[df.poolcnt == 1, 'poolsizesum'].fillna(df[df.poolcnt == 1].poolsizesum.median())\n",
    "\n",
    "# 0 pools = 0 sqft of poolsdf.loc[df.poolcnt == 0, 'poolsizesum'] = 0\n",
    "\n",
    "# 0 pools with a spa/hot tub\n",
    "df.pooltypeid2.fillna(0, inplace = True)\n",
    "\n",
    "# 0 pools without a hot tub\n",
    "df.pooltypeid7.fillna(0, inplace = True)\n",
    "\n",
    "# Drop redundant featire\n",
    "df.drop('pooltypeid10', axis=1, inplace=True)\n"
   ]
  },
  {
   "cell_type": "code",
   "execution_count": 12,
   "id": "aa4b3593-2a00-4124-b0a0-e10450815f6b",
   "metadata": {},
   "outputs": [
    {
     "data": {
      "text/plain": [
       "0.0    50926\n",
       "1.0     1515\n",
       "Name: hashottuborspa, dtype: int64"
      ]
     },
     "execution_count": 12,
     "metadata": {},
     "output_type": "execute_result"
    }
   ],
   "source": [
    "# checked all of the following and they have been fileld with values\n",
    "df.hashottuborspa.value_counts()"
   ]
  },
  {
   "cell_type": "code",
   "execution_count": 13,
   "id": "7deb0fd8-1bf8-4c66-972d-f965b7bc365f",
   "metadata": {},
   "outputs": [
    {
     "data": {
      "text/plain": [
       "0.0    41345\n",
       "1.0    11096\n",
       "Name: poolcnt, dtype: int64"
      ]
     },
     "execution_count": 13,
     "metadata": {},
     "output_type": "execute_result"
    }
   ],
   "source": [
    "df.poolcnt.value_counts()"
   ]
  },
  {
   "cell_type": "code",
   "execution_count": 14,
   "id": "72ff6c1f-718e-4cc1-9573-bbbb6e418873",
   "metadata": {},
   "outputs": [
    {
     "data": {
      "text/plain": [
       "0.0    51370\n",
       "1.0     1071\n",
       "Name: pooltypeid2, dtype: int64"
      ]
     },
     "execution_count": 14,
     "metadata": {},
     "output_type": "execute_result"
    }
   ],
   "source": [
    "df.pooltypeid2.value_counts() "
   ]
  },
  {
   "cell_type": "code",
   "execution_count": 15,
   "id": "fd2dc21b-f05a-471b-8abb-7a0499390358",
   "metadata": {},
   "outputs": [
    {
     "data": {
      "text/plain": [
       "0.0    42432\n",
       "1.0    10009\n",
       "Name: pooltypeid7, dtype: int64"
      ]
     },
     "execution_count": 15,
     "metadata": {},
     "output_type": "execute_result"
    }
   ],
   "source": [
    "df.pooltypeid7.value_counts()"
   ]
  },
  {
   "cell_type": "code",
   "execution_count": 16,
   "id": "74b590c2-a4fe-4083-8bd7-32c346cc1ed3",
   "metadata": {},
   "outputs": [
    {
     "data": {
      "text/plain": [
       "41345"
      ]
     },
     "execution_count": 16,
     "metadata": {},
     "output_type": "execute_result"
    }
   ],
   "source": [
    "df.poolsizesum.isna().sum()"
   ]
  },
  {
   "cell_type": "markdown",
   "id": "388f7733-cf65-44d5-8759-b8684b47d7cd",
   "metadata": {},
   "source": [
    "## Firelpace feature edits"
   ]
  },
  {
   "cell_type": "code",
   "execution_count": 17,
   "id": "1cc7193e-0a21-48b1-b4a1-526eaa081bbc",
   "metadata": {},
   "outputs": [
    {
     "name": "stdout",
     "output_type": "stream",
     "text": [
      "1.0    81\n",
      "Name: fireplaceflag, dtype: int64\n"
     ]
    }
   ],
   "source": [
    "print(df['fireplaceflag'].value_counts())"
   ]
  },
  {
   "cell_type": "code",
   "execution_count": 18,
   "id": "e0b51515-0166-461d-84ee-be9aa8fef253",
   "metadata": {},
   "outputs": [],
   "source": [
    "# If fireplaceflag is True and fireplacecnt is NaN, \"fireplacecnt\" will be equal to the median value of 1.\n",
    "df.loc[(df['fireplaceflag'] == True) & (df['fireplacecnt'].isnull()), ['fireplacecnt']] = 1"
   ]
  },
  {
   "cell_type": "code",
   "execution_count": 19,
   "id": "cb6bcb43-e3a5-467a-8ba7-75d28ba27df6",
   "metadata": {},
   "outputs": [],
   "source": [
    "# If fireplacecnt is NaN, replace with 0\n",
    "df.fireplacecnt.fillna(0,inplace = True)"
   ]
  },
  {
   "cell_type": "code",
   "execution_count": 20,
   "id": "f04cd861-4012-4486-b3b3-f0de4fc4e70c",
   "metadata": {},
   "outputs": [],
   "source": [
    "# If fireplacecnt is 1 or larger fireplaceflag is NaN, we will set fireplaceflag to True.\n",
    "df.loc[(df['fireplacecnt'] >= 1.0) & (df['fireplaceflag'].isnull()), ['fireplaceflag']] = True\n",
    "df.fireplaceflag.fillna(0,inplace = True)"
   ]
  },
  {
   "cell_type": "code",
   "execution_count": 21,
   "id": "76bd2f2c-0c50-4df3-8abc-cde5c56c9e71",
   "metadata": {},
   "outputs": [
    {
     "name": "stdout",
     "output_type": "stream",
     "text": [
      "0       45117\n",
      "True     7324\n",
      "Name: fireplaceflag, dtype: int64\n"
     ]
    }
   ],
   "source": [
    "# printed output\n",
    "print (df['fireplaceflag'].value_counts())"
   ]
  },
  {
   "cell_type": "code",
   "execution_count": 22,
   "id": "c1bfdee7-1490-431c-bca9-43d81580fd26",
   "metadata": {},
   "outputs": [],
   "source": [
    "# changed True value to 1\n",
    "df.fireplaceflag.replace(to_replace = True, value = 1, inplace = True)"
   ]
  },
  {
   "cell_type": "code",
   "execution_count": 23,
   "id": "a5ab8e63-7b00-48fd-b16c-ffd4b4fdf349",
   "metadata": {},
   "outputs": [
    {
     "name": "stdout",
     "output_type": "stream",
     "text": [
      "0    45117\n",
      "1     7324\n",
      "Name: fireplaceflag, dtype: int64\n"
     ]
    }
   ],
   "source": [
    "# printed output\n",
    "print (df['fireplaceflag'].value_counts())"
   ]
  },
  {
   "cell_type": "markdown",
   "id": "f59eaa59-6571-4287-907b-5eba9eb55ea9",
   "metadata": {},
   "source": [
    "## Garage feature edits"
   ]
  },
  {
   "cell_type": "markdown",
   "id": "82a73ef3-b598-48f9-a0a6-355dc62fa9d2",
   "metadata": {},
   "source": [
    "- garagecarcnt and garagetotalsqft have nanas that can be replace with 0 to fix if a home has a garage and if there is a value associated with it.\n",
    "\n",
    "-  There are some type II errors , we donl't want our data to show garagecarcnt with NaN but have some sq ft value."
   ]
  },
  {
   "cell_type": "code",
   "execution_count": 24,
   "id": "4ef66641-8b85-4d1c-a7fb-8e2c3bee8a03",
   "metadata": {},
   "outputs": [],
   "source": [
    "# filled features garage features\n",
    "df.garagecarcnt.fillna(0,inplace = True)\n",
    "df.garagetotalsqft.fillna(0,inplace = True)"
   ]
  },
  {
   "cell_type": "code",
   "execution_count": 25,
   "id": "ac1c07d6-9fad-44b1-9c66-8f091542ccfb",
   "metadata": {},
   "outputs": [
    {
     "data": {
      "text/plain": [
       "0.0     34491\n",
       "2.0     14802\n",
       "1.0      2202\n",
       "3.0       621\n",
       "4.0       254\n",
       "5.0        45\n",
       "6.0        13\n",
       "7.0         3\n",
       "10.0        3\n",
       "8.0         2\n",
       "9.0         2\n",
       "11.0        1\n",
       "13.0        1\n",
       "14.0        1\n",
       "Name: garagecarcnt, dtype: int64"
      ]
     },
     "execution_count": 25,
     "metadata": {},
     "output_type": "execute_result"
    }
   ],
   "source": [
    "# checking feature column\n",
    "df.garagecarcnt.value_counts()"
   ]
  },
  {
   "cell_type": "code",
   "execution_count": 26,
   "id": "1bc449be-96d7-46f5-99c5-17f1c9d766e4",
   "metadata": {},
   "outputs": [
    {
     "data": {
      "text/plain": [
       "0.0       34621\n",
       "400.0       788\n",
       "441.0       678\n",
       "462.0       660\n",
       "360.0       648\n",
       "          ...  \n",
       "275.0         1\n",
       "1056.0        1\n",
       "261.0         1\n",
       "1155.0        1\n",
       "957.0         1\n",
       "Name: garagetotalsqft, Length: 839, dtype: int64"
      ]
     },
     "execution_count": 26,
     "metadata": {},
     "output_type": "execute_result"
    }
   ],
   "source": [
    "# checking feature column\n",
    "df.garagetotalsqft.value_counts()"
   ]
  },
  {
   "cell_type": "markdown",
   "id": "3197fa84-5f13-4fd1-ac89-2c465c449bee",
   "metadata": {},
   "source": [
    "## Tax delinquincy feature edits"
   ]
  },
  {
   "cell_type": "code",
   "execution_count": 27,
   "id": "235a6c8e-9084-472f-9ad7-549a4215a5b7",
   "metadata": {},
   "outputs": [
    {
     "name": "stdout",
     "output_type": "stream",
     "text": [
      "Y    2079\n",
      "Name: taxdelinquencyflag, dtype: int64\n"
     ]
    }
   ],
   "source": [
    "# checking tax deliquincy feature column\n",
    "print (df['taxdelinquencyflag'].value_counts())"
   ]
  },
  {
   "cell_type": "code",
   "execution_count": 28,
   "id": "1136ecf9-21e6-489b-9d91-2364d3c12ca2",
   "metadata": {},
   "outputs": [],
   "source": [
    "# replace Nan with 0 and 'Y' to 1\n",
    "df.taxdelinquencyflag.fillna(0, inplace = True)\n",
    "df.taxdelinquencyflag.replace(to_replace = 'Y', value = 1, inplace = True)"
   ]
  },
  {
   "cell_type": "code",
   "execution_count": 29,
   "id": "e19a5e8c-1de1-48c9-b79a-f8a4d87c2223",
   "metadata": {},
   "outputs": [
    {
     "name": "stdout",
     "output_type": "stream",
     "text": [
      "0    50362\n",
      "1     2079\n",
      "Name: taxdelinquencyflag, dtype: int64\n"
     ]
    }
   ],
   "source": [
    "# checking tax deliquincy feature column\n",
    "print (df['taxdelinquencyflag'].value_counts())"
   ]
  },
  {
   "cell_type": "code",
   "execution_count": 30,
   "id": "23a9330f-ffcf-49cc-aa1d-6f9a236192a0",
   "metadata": {},
   "outputs": [],
   "source": [
    "# filleddelinquencyyear column tax\n",
    "df.drop('taxdelinquencyyear', axis = 1, inplace = True)"
   ]
  },
  {
   "cell_type": "markdown",
   "id": "e540919a-1ac4-40ca-83da-8c0d4c1f2b5c",
   "metadata": {},
   "source": [
    "## other features"
   ]
  },
  {
   "cell_type": "code",
   "execution_count": 31,
   "id": "225e7556-0e4c-41d7-8783-e8cc65381818",
   "metadata": {},
   "outputs": [],
   "source": [
    "# filling basementsqft Nan values with 0\n",
    "df.basementsqft.fillna(0, inplace = True)"
   ]
  },
  {
   "cell_type": "code",
   "execution_count": 32,
   "id": "6b8b092c-a48a-466f-8b61-af8eb8b3ea48",
   "metadata": {},
   "outputs": [
    {
     "data": {
      "text/plain": [
       "52378"
      ]
     },
     "execution_count": 32,
     "metadata": {},
     "output_type": "execute_result"
    }
   ],
   "source": [
    "# checking for nulls\n",
    "df['yardbuildingsqft26'].isna().sum()"
   ]
  },
  {
   "cell_type": "code",
   "execution_count": 33,
   "id": "b9d4f21c-3636-47f5-b5d4-ba5ce7c6f740",
   "metadata": {},
   "outputs": [],
   "source": [
    "# filling yardbuildingsqft26 Nan values with 0\n",
    "df.yardbuildingsqft26.fillna(0, inplace = True)"
   ]
  },
  {
   "cell_type": "code",
   "execution_count": 34,
   "id": "23144938-7559-47fd-b75d-10e0d4282c5b",
   "metadata": {},
   "outputs": [
    {
     "data": {
      "text/plain": [
       "0"
      ]
     },
     "execution_count": 34,
     "metadata": {},
     "output_type": "execute_result"
    }
   ],
   "source": [
    "df['yardbuildingsqft26'].isna().sum()"
   ]
  },
  {
   "cell_type": "code",
   "execution_count": 35,
   "id": "92aa49fe-d9b4-453a-8d9f-6adb0c1f7bd2",
   "metadata": {},
   "outputs": [
    {
     "data": {
      "text/plain": [
       "7.0     62\n",
       "3.0      3\n",
       "2.0      2\n",
       "21.0     2\n",
       "8.0      1\n",
       "Name: architecturalstyletypeid, dtype: int64"
      ]
     },
     "execution_count": 35,
     "metadata": {},
     "output_type": "execute_result"
    }
   ],
   "source": [
    "# looking at column\n",
    "df.architecturalstyletypeid.value_counts()"
   ]
  },
  {
   "cell_type": "code",
   "execution_count": 36,
   "id": "01728189-1956-47f0-9a52-8493b2111961",
   "metadata": {},
   "outputs": [],
   "source": [
    "# dropping feature columns because not enough data to use it although to include in predicting price it would be cool\n",
    "df.drop('architecturalstyletypeid', axis = 1, inplace = True)"
   ]
  },
  {
   "cell_type": "code",
   "execution_count": 37,
   "id": "9943909b-0337-440f-9bf1-ba5db237cac9",
   "metadata": {},
   "outputs": [],
   "source": [
    "# dropping feature columns because not enough data to use a column with type of material the property is made of.\n",
    "df.drop('typeconstructiontypeid', axis = 1, inplace = True)"
   ]
  },
  {
   "cell_type": "code",
   "execution_count": 38,
   "id": "efdc570d-d3ef-47b7-8b71-f4e83c86b713",
   "metadata": {},
   "outputs": [],
   "source": [
    "# # dropping feature columns because its almost the same as calculated square foot column\n",
    "# df.drop('finishedsquarefeet12', axis = 1, inplace = True)"
   ]
  },
  {
   "cell_type": "code",
   "execution_count": 39,
   "id": "f59c3698-6fb2-41a1-8f8c-86696075a4bf",
   "metadata": {},
   "outputs": [
    {
     "data": {
      "text/html": [
       "<div>\n",
       "<style scoped>\n",
       "    .dataframe tbody tr th:only-of-type {\n",
       "        vertical-align: middle;\n",
       "    }\n",
       "\n",
       "    .dataframe tbody tr th {\n",
       "        vertical-align: top;\n",
       "    }\n",
       "\n",
       "    .dataframe thead th {\n",
       "        text-align: right;\n",
       "    }\n",
       "</style>\n",
       "<table border=\"1\" class=\"dataframe\">\n",
       "  <thead>\n",
       "    <tr style=\"text-align: right;\">\n",
       "      <th></th>\n",
       "      <th>parcelid</th>\n",
       "      <th>latitude</th>\n",
       "      <th>longitude</th>\n",
       "      <th>lotsizesquarefeet</th>\n",
       "      <th>regionidcounty</th>\n",
       "      <th>regionidcity</th>\n",
       "      <th>regionidzip</th>\n",
       "      <th>propertycountylandusecode</th>\n",
       "      <th>propertyzoningdesc</th>\n",
       "      <th>bathroomcnt</th>\n",
       "      <th>...</th>\n",
       "      <th>fireplacecnt</th>\n",
       "      <th>fireplaceflag</th>\n",
       "      <th>hashottuborspa</th>\n",
       "      <th>yardbuildingsqft17</th>\n",
       "      <th>yardbuildingsqft26</th>\n",
       "      <th>threequarterbathnbr</th>\n",
       "      <th>taxvaluedollarcnt</th>\n",
       "      <th>taxdelinquencyflag</th>\n",
       "      <th>rawcensustractandblock</th>\n",
       "      <th>censustractandblock</th>\n",
       "    </tr>\n",
       "  </thead>\n",
       "  <tbody>\n",
       "    <tr>\n",
       "      <th>0</th>\n",
       "      <td>14297519</td>\n",
       "      <td>33634931.0</td>\n",
       "      <td>-117869207.0</td>\n",
       "      <td>4506.0</td>\n",
       "      <td>1286.0</td>\n",
       "      <td>53571.0</td>\n",
       "      <td>96978.0</td>\n",
       "      <td>122</td>\n",
       "      <td>None</td>\n",
       "      <td>3.5</td>\n",
       "      <td>...</td>\n",
       "      <td>0.0</td>\n",
       "      <td>0</td>\n",
       "      <td>0.0</td>\n",
       "      <td>NaN</td>\n",
       "      <td>0.0</td>\n",
       "      <td>1.0</td>\n",
       "      <td>1023282.0</td>\n",
       "      <td>0</td>\n",
       "      <td>6.059063e+07</td>\n",
       "      <td>6.059063e+13</td>\n",
       "    </tr>\n",
       "    <tr>\n",
       "      <th>1</th>\n",
       "      <td>17052889</td>\n",
       "      <td>34449266.0</td>\n",
       "      <td>-119281531.0</td>\n",
       "      <td>12647.0</td>\n",
       "      <td>2061.0</td>\n",
       "      <td>13091.0</td>\n",
       "      <td>97099.0</td>\n",
       "      <td>1110</td>\n",
       "      <td>None</td>\n",
       "      <td>1.0</td>\n",
       "      <td>...</td>\n",
       "      <td>1.0</td>\n",
       "      <td>1</td>\n",
       "      <td>0.0</td>\n",
       "      <td>NaN</td>\n",
       "      <td>0.0</td>\n",
       "      <td>NaN</td>\n",
       "      <td>464000.0</td>\n",
       "      <td>0</td>\n",
       "      <td>6.111001e+07</td>\n",
       "      <td>6.111001e+13</td>\n",
       "    </tr>\n",
       "    <tr>\n",
       "      <th>2</th>\n",
       "      <td>14186244</td>\n",
       "      <td>33886168.0</td>\n",
       "      <td>-117823170.0</td>\n",
       "      <td>8432.0</td>\n",
       "      <td>1286.0</td>\n",
       "      <td>21412.0</td>\n",
       "      <td>97078.0</td>\n",
       "      <td>122</td>\n",
       "      <td>None</td>\n",
       "      <td>2.0</td>\n",
       "      <td>...</td>\n",
       "      <td>0.0</td>\n",
       "      <td>0</td>\n",
       "      <td>0.0</td>\n",
       "      <td>NaN</td>\n",
       "      <td>0.0</td>\n",
       "      <td>NaN</td>\n",
       "      <td>564778.0</td>\n",
       "      <td>0</td>\n",
       "      <td>6.059022e+07</td>\n",
       "      <td>6.059022e+13</td>\n",
       "    </tr>\n",
       "    <tr>\n",
       "      <th>3</th>\n",
       "      <td>12177905</td>\n",
       "      <td>34245180.0</td>\n",
       "      <td>-118240722.0</td>\n",
       "      <td>13038.0</td>\n",
       "      <td>3101.0</td>\n",
       "      <td>396551.0</td>\n",
       "      <td>96330.0</td>\n",
       "      <td>0101</td>\n",
       "      <td>LCR110000*</td>\n",
       "      <td>3.0</td>\n",
       "      <td>...</td>\n",
       "      <td>0.0</td>\n",
       "      <td>0</td>\n",
       "      <td>0.0</td>\n",
       "      <td>NaN</td>\n",
       "      <td>0.0</td>\n",
       "      <td>NaN</td>\n",
       "      <td>145143.0</td>\n",
       "      <td>0</td>\n",
       "      <td>6.037300e+07</td>\n",
       "      <td>6.037300e+13</td>\n",
       "    </tr>\n",
       "    <tr>\n",
       "      <th>4</th>\n",
       "      <td>12095076</td>\n",
       "      <td>34145202.0</td>\n",
       "      <td>-118179824.0</td>\n",
       "      <td>63000.0</td>\n",
       "      <td>3101.0</td>\n",
       "      <td>47019.0</td>\n",
       "      <td>96293.0</td>\n",
       "      <td>0101</td>\n",
       "      <td>PSR2</td>\n",
       "      <td>3.0</td>\n",
       "      <td>...</td>\n",
       "      <td>0.0</td>\n",
       "      <td>0</td>\n",
       "      <td>0.0</td>\n",
       "      <td>NaN</td>\n",
       "      <td>0.0</td>\n",
       "      <td>NaN</td>\n",
       "      <td>773303.0</td>\n",
       "      <td>0</td>\n",
       "      <td>6.037461e+07</td>\n",
       "      <td>6.037461e+13</td>\n",
       "    </tr>\n",
       "  </tbody>\n",
       "</table>\n",
       "<p>5 rows × 45 columns</p>\n",
       "</div>"
      ],
      "text/plain": [
       "   parcelid    latitude    longitude  lotsizesquarefeet  regionidcounty  \\\n",
       "0  14297519  33634931.0 -117869207.0             4506.0          1286.0   \n",
       "1  17052889  34449266.0 -119281531.0            12647.0          2061.0   \n",
       "2  14186244  33886168.0 -117823170.0             8432.0          1286.0   \n",
       "3  12177905  34245180.0 -118240722.0            13038.0          3101.0   \n",
       "4  12095076  34145202.0 -118179824.0            63000.0          3101.0   \n",
       "\n",
       "   regionidcity  regionidzip propertycountylandusecode propertyzoningdesc  \\\n",
       "0       53571.0      96978.0                       122               None   \n",
       "1       13091.0      97099.0                      1110               None   \n",
       "2       21412.0      97078.0                       122               None   \n",
       "3      396551.0      96330.0                      0101         LCR110000*   \n",
       "4       47019.0      96293.0                      0101               PSR2   \n",
       "\n",
       "   bathroomcnt  ...  fireplacecnt  fireplaceflag  hashottuborspa  \\\n",
       "0          3.5  ...           0.0              0             0.0   \n",
       "1          1.0  ...           1.0              1             0.0   \n",
       "2          2.0  ...           0.0              0             0.0   \n",
       "3          3.0  ...           0.0              0             0.0   \n",
       "4          3.0  ...           0.0              0             0.0   \n",
       "\n",
       "   yardbuildingsqft17  yardbuildingsqft26  threequarterbathnbr  \\\n",
       "0                 NaN                 0.0                  1.0   \n",
       "1                 NaN                 0.0                  NaN   \n",
       "2                 NaN                 0.0                  NaN   \n",
       "3                 NaN                 0.0                  NaN   \n",
       "4                 NaN                 0.0                  NaN   \n",
       "\n",
       "  taxvaluedollarcnt  taxdelinquencyflag  rawcensustractandblock  \\\n",
       "0         1023282.0                   0            6.059063e+07   \n",
       "1          464000.0                   0            6.111001e+07   \n",
       "2          564778.0                   0            6.059022e+07   \n",
       "3          145143.0                   0            6.037300e+07   \n",
       "4          773303.0                   0            6.037461e+07   \n",
       "\n",
       "   censustractandblock  \n",
       "0         6.059063e+13  \n",
       "1         6.111001e+13  \n",
       "2         6.059022e+13  \n",
       "3         6.037300e+13  \n",
       "4         6.037461e+13  \n",
       "\n",
       "[5 rows x 45 columns]"
      ]
     },
     "execution_count": 39,
     "metadata": {},
     "output_type": "execute_result"
    }
   ],
   "source": [
    "# check df\n",
    "df.head()"
   ]
  },
  {
   "cell_type": "code",
   "execution_count": 40,
   "id": "13d8da96-beea-4a63-9e86-c51eaf53f360",
   "metadata": {},
   "outputs": [],
   "source": [
    "# dropping feature column missing way too much information\n",
    "df.drop('buildingclasstypeid', axis = 1, inplace = True)"
   ]
  },
  {
   "cell_type": "code",
   "execution_count": 41,
   "id": "a3592f9a-2517-4937-aa6e-dbd8c5a6ab53",
   "metadata": {},
   "outputs": [
    {
     "data": {
      "text/plain": [
       "parcelid                        1.000000\n",
       "fips                            1.000000\n",
       "rawcensustractandblock          1.000000\n",
       "taxdelinquencyflag              1.000000\n",
       "yardbuildingsqft26              1.000000\n",
       "hashottuborspa                  1.000000\n",
       "fireplaceflag                   1.000000\n",
       "fireplacecnt                    1.000000\n",
       "pooltypeid7                     1.000000\n",
       "pooltypeid2                     1.000000\n",
       "poolcnt                         1.000000\n",
       "garagetotalsqft                 1.000000\n",
       "garagecarcnt                    1.000000\n",
       "latitude                        1.000000\n",
       "roomcnt                         1.000000\n",
       "propertylandusetypeid           1.000000\n",
       "bedroomcnt                      1.000000\n",
       "bathroomcnt                     1.000000\n",
       "longitude                       1.000000\n",
       "basementsqft                    1.000000\n",
       "regionidcounty                  1.000000\n",
       "propertycountylandusecode       1.000000\n",
       "taxvaluedollarcnt               0.999981\n",
       "regionidzip                     0.999504\n",
       "calculatedfinishedsquarefeet    0.998436\n",
       "yearbuilt                       0.997788\n",
       "censustractandblock             0.997655\n",
       "fullbathcnt                     0.997388\n",
       "calculatedbathnbr               0.997388\n",
       "finishedsquarefeet12            0.995290\n",
       "lotsizesquarefeet               0.992964\n",
       "regionidcity                    0.980225\n",
       "heatingorsystemtypeid           0.647108\n",
       "propertyzoningdesc              0.645449\n",
       "unitcnt                         0.645430\n",
       "buildingqualitytypeid           0.643390\n",
       "numberofstories                 0.277664\n",
       "airconditioningtypeid           0.260064\n",
       "poolsizesum                     0.211590\n",
       "threequarterbathnbr             0.128220\n",
       "finishedsquarefeet50            0.083542\n",
       "yardbuildingsqft17              0.036937\n",
       "decktypeid                      0.007418\n",
       "finishedsquarefeet15            0.000000\n",
       "dtype: float64"
      ]
     },
     "execution_count": 41,
     "metadata": {},
     "output_type": "execute_result"
    }
   ],
   "source": [
    "# check shape and not null mean values of df.\n",
    "df.shape\n",
    "df.notnull().mean().sort_values(ascending = False)"
   ]
  },
  {
   "cell_type": "code",
   "execution_count": 42,
   "id": "5315ffe3-871a-475f-ad43-72af42f7ac45",
   "metadata": {},
   "outputs": [
    {
     "data": {
      "text/plain": [
       "66.0    389\n",
       "Name: decktypeid, dtype: int64"
      ]
     },
     "execution_count": 42,
     "metadata": {},
     "output_type": "execute_result"
    }
   ],
   "source": [
    "# checking deck type id column\n",
    "df.decktypeid.value_counts()"
   ]
  },
  {
   "cell_type": "markdown",
   "id": "9dbe5925-954f-45c6-9f6e-0b6dcc837040",
   "metadata": {},
   "source": [
    "- can change decktypeid to 1 and 0 here too\n"
   ]
  },
  {
   "cell_type": "code",
   "execution_count": 43,
   "id": "6d2318b7-6e0e-40c6-b570-b1dd52081d33",
   "metadata": {},
   "outputs": [],
   "source": [
    "# NaN to 0\n",
    "df.decktypeid.fillna(0, inplace = True)\n",
    "\n",
    "# convert 66.0 to 1 \n",
    "df.decktypeid.replace(to_replace = 66.0, value = 1, inplace = True)"
   ]
  },
  {
   "cell_type": "code",
   "execution_count": 44,
   "id": "3aab6f0e-ec95-4a49-b1b7-8bf292f333a4",
   "metadata": {},
   "outputs": [
    {
     "data": {
      "text/html": [
       "<div>\n",
       "<style scoped>\n",
       "    .dataframe tbody tr th:only-of-type {\n",
       "        vertical-align: middle;\n",
       "    }\n",
       "\n",
       "    .dataframe tbody tr th {\n",
       "        vertical-align: top;\n",
       "    }\n",
       "\n",
       "    .dataframe thead th {\n",
       "        text-align: right;\n",
       "    }\n",
       "</style>\n",
       "<table border=\"1\" class=\"dataframe\">\n",
       "  <thead>\n",
       "    <tr style=\"text-align: right;\">\n",
       "      <th></th>\n",
       "      <th>parcelid</th>\n",
       "      <th>latitude</th>\n",
       "      <th>longitude</th>\n",
       "      <th>lotsizesquarefeet</th>\n",
       "      <th>regionidcounty</th>\n",
       "      <th>regionidcity</th>\n",
       "      <th>regionidzip</th>\n",
       "      <th>propertycountylandusecode</th>\n",
       "      <th>propertyzoningdesc</th>\n",
       "      <th>bathroomcnt</th>\n",
       "      <th>...</th>\n",
       "      <th>fireplacecnt</th>\n",
       "      <th>fireplaceflag</th>\n",
       "      <th>hashottuborspa</th>\n",
       "      <th>yardbuildingsqft17</th>\n",
       "      <th>yardbuildingsqft26</th>\n",
       "      <th>threequarterbathnbr</th>\n",
       "      <th>taxvaluedollarcnt</th>\n",
       "      <th>taxdelinquencyflag</th>\n",
       "      <th>rawcensustractandblock</th>\n",
       "      <th>censustractandblock</th>\n",
       "    </tr>\n",
       "  </thead>\n",
       "  <tbody>\n",
       "    <tr>\n",
       "      <th>0</th>\n",
       "      <td>14297519</td>\n",
       "      <td>33634931.0</td>\n",
       "      <td>-117869207.0</td>\n",
       "      <td>4506.0</td>\n",
       "      <td>1286.0</td>\n",
       "      <td>53571.0</td>\n",
       "      <td>96978.0</td>\n",
       "      <td>122</td>\n",
       "      <td>None</td>\n",
       "      <td>3.5</td>\n",
       "      <td>...</td>\n",
       "      <td>0.0</td>\n",
       "      <td>0</td>\n",
       "      <td>0.0</td>\n",
       "      <td>NaN</td>\n",
       "      <td>0.0</td>\n",
       "      <td>1.0</td>\n",
       "      <td>1023282.0</td>\n",
       "      <td>0</td>\n",
       "      <td>6.059063e+07</td>\n",
       "      <td>6.059063e+13</td>\n",
       "    </tr>\n",
       "    <tr>\n",
       "      <th>1</th>\n",
       "      <td>17052889</td>\n",
       "      <td>34449266.0</td>\n",
       "      <td>-119281531.0</td>\n",
       "      <td>12647.0</td>\n",
       "      <td>2061.0</td>\n",
       "      <td>13091.0</td>\n",
       "      <td>97099.0</td>\n",
       "      <td>1110</td>\n",
       "      <td>None</td>\n",
       "      <td>1.0</td>\n",
       "      <td>...</td>\n",
       "      <td>1.0</td>\n",
       "      <td>1</td>\n",
       "      <td>0.0</td>\n",
       "      <td>NaN</td>\n",
       "      <td>0.0</td>\n",
       "      <td>NaN</td>\n",
       "      <td>464000.0</td>\n",
       "      <td>0</td>\n",
       "      <td>6.111001e+07</td>\n",
       "      <td>6.111001e+13</td>\n",
       "    </tr>\n",
       "    <tr>\n",
       "      <th>2</th>\n",
       "      <td>14186244</td>\n",
       "      <td>33886168.0</td>\n",
       "      <td>-117823170.0</td>\n",
       "      <td>8432.0</td>\n",
       "      <td>1286.0</td>\n",
       "      <td>21412.0</td>\n",
       "      <td>97078.0</td>\n",
       "      <td>122</td>\n",
       "      <td>None</td>\n",
       "      <td>2.0</td>\n",
       "      <td>...</td>\n",
       "      <td>0.0</td>\n",
       "      <td>0</td>\n",
       "      <td>0.0</td>\n",
       "      <td>NaN</td>\n",
       "      <td>0.0</td>\n",
       "      <td>NaN</td>\n",
       "      <td>564778.0</td>\n",
       "      <td>0</td>\n",
       "      <td>6.059022e+07</td>\n",
       "      <td>6.059022e+13</td>\n",
       "    </tr>\n",
       "  </tbody>\n",
       "</table>\n",
       "<p>3 rows × 44 columns</p>\n",
       "</div>"
      ],
      "text/plain": [
       "   parcelid    latitude    longitude  lotsizesquarefeet  regionidcounty  \\\n",
       "0  14297519  33634931.0 -117869207.0             4506.0          1286.0   \n",
       "1  17052889  34449266.0 -119281531.0            12647.0          2061.0   \n",
       "2  14186244  33886168.0 -117823170.0             8432.0          1286.0   \n",
       "\n",
       "   regionidcity  regionidzip propertycountylandusecode propertyzoningdesc  \\\n",
       "0       53571.0      96978.0                       122               None   \n",
       "1       13091.0      97099.0                      1110               None   \n",
       "2       21412.0      97078.0                       122               None   \n",
       "\n",
       "   bathroomcnt  ...  fireplacecnt  fireplaceflag  hashottuborspa  \\\n",
       "0          3.5  ...           0.0              0             0.0   \n",
       "1          1.0  ...           1.0              1             0.0   \n",
       "2          2.0  ...           0.0              0             0.0   \n",
       "\n",
       "   yardbuildingsqft17  yardbuildingsqft26  threequarterbathnbr  \\\n",
       "0                 NaN                 0.0                  1.0   \n",
       "1                 NaN                 0.0                  NaN   \n",
       "2                 NaN                 0.0                  NaN   \n",
       "\n",
       "  taxvaluedollarcnt  taxdelinquencyflag  rawcensustractandblock  \\\n",
       "0         1023282.0                   0            6.059063e+07   \n",
       "1          464000.0                   0            6.111001e+07   \n",
       "2          564778.0                   0            6.059022e+07   \n",
       "\n",
       "   censustractandblock  \n",
       "0         6.059063e+13  \n",
       "1         6.111001e+13  \n",
       "2         6.059022e+13  \n",
       "\n",
       "[3 rows x 44 columns]"
      ]
     },
     "execution_count": 44,
     "metadata": {},
     "output_type": "execute_result"
    }
   ],
   "source": [
    "# checking df\n",
    "df.head(3)"
   ]
  },
  {
   "cell_type": "code",
   "execution_count": 45,
   "id": "16bce82d-a5d8-47e2-a75a-ee28e84b5005",
   "metadata": {},
   "outputs": [
    {
     "data": {
      "text/html": [
       "<div>\n",
       "<style scoped>\n",
       "    .dataframe tbody tr th:only-of-type {\n",
       "        vertical-align: middle;\n",
       "    }\n",
       "\n",
       "    .dataframe tbody tr th {\n",
       "        vertical-align: top;\n",
       "    }\n",
       "\n",
       "    .dataframe thead th {\n",
       "        text-align: right;\n",
       "    }\n",
       "</style>\n",
       "<table border=\"1\" class=\"dataframe\">\n",
       "  <thead>\n",
       "    <tr style=\"text-align: right;\">\n",
       "      <th></th>\n",
       "      <th>parcelid</th>\n",
       "      <th>latitude</th>\n",
       "      <th>longitude</th>\n",
       "      <th>lotsizesquarefeet</th>\n",
       "      <th>regionidcounty</th>\n",
       "      <th>regionidcity</th>\n",
       "      <th>regionidzip</th>\n",
       "      <th>propertycountylandusecode</th>\n",
       "      <th>propertyzoningdesc</th>\n",
       "      <th>bathroomcnt</th>\n",
       "      <th>...</th>\n",
       "      <th>fireplacecnt</th>\n",
       "      <th>fireplaceflag</th>\n",
       "      <th>hashottuborspa</th>\n",
       "      <th>yardbuildingsqft17</th>\n",
       "      <th>yardbuildingsqft26</th>\n",
       "      <th>threequarterbathnbr</th>\n",
       "      <th>taxvaluedollarcnt</th>\n",
       "      <th>taxdelinquencyflag</th>\n",
       "      <th>rawcensustractandblock</th>\n",
       "      <th>censustractandblock</th>\n",
       "    </tr>\n",
       "  </thead>\n",
       "  <tbody>\n",
       "    <tr>\n",
       "      <th>0</th>\n",
       "      <td>14297519</td>\n",
       "      <td>33634931.0</td>\n",
       "      <td>-117869207.0</td>\n",
       "      <td>4506.0</td>\n",
       "      <td>1286.0</td>\n",
       "      <td>53571.0</td>\n",
       "      <td>96978.0</td>\n",
       "      <td>122</td>\n",
       "      <td>None</td>\n",
       "      <td>3.5</td>\n",
       "      <td>...</td>\n",
       "      <td>0.0</td>\n",
       "      <td>0</td>\n",
       "      <td>0.0</td>\n",
       "      <td>NaN</td>\n",
       "      <td>0.0</td>\n",
       "      <td>1.0</td>\n",
       "      <td>1023282.0</td>\n",
       "      <td>0</td>\n",
       "      <td>6.059063e+07</td>\n",
       "      <td>6.059063e+13</td>\n",
       "    </tr>\n",
       "    <tr>\n",
       "      <th>1</th>\n",
       "      <td>17052889</td>\n",
       "      <td>34449266.0</td>\n",
       "      <td>-119281531.0</td>\n",
       "      <td>12647.0</td>\n",
       "      <td>2061.0</td>\n",
       "      <td>13091.0</td>\n",
       "      <td>97099.0</td>\n",
       "      <td>1110</td>\n",
       "      <td>None</td>\n",
       "      <td>1.0</td>\n",
       "      <td>...</td>\n",
       "      <td>1.0</td>\n",
       "      <td>1</td>\n",
       "      <td>0.0</td>\n",
       "      <td>NaN</td>\n",
       "      <td>0.0</td>\n",
       "      <td>NaN</td>\n",
       "      <td>464000.0</td>\n",
       "      <td>0</td>\n",
       "      <td>6.111001e+07</td>\n",
       "      <td>6.111001e+13</td>\n",
       "    </tr>\n",
       "    <tr>\n",
       "      <th>2</th>\n",
       "      <td>14186244</td>\n",
       "      <td>33886168.0</td>\n",
       "      <td>-117823170.0</td>\n",
       "      <td>8432.0</td>\n",
       "      <td>1286.0</td>\n",
       "      <td>21412.0</td>\n",
       "      <td>97078.0</td>\n",
       "      <td>122</td>\n",
       "      <td>None</td>\n",
       "      <td>2.0</td>\n",
       "      <td>...</td>\n",
       "      <td>0.0</td>\n",
       "      <td>0</td>\n",
       "      <td>0.0</td>\n",
       "      <td>NaN</td>\n",
       "      <td>0.0</td>\n",
       "      <td>NaN</td>\n",
       "      <td>564778.0</td>\n",
       "      <td>0</td>\n",
       "      <td>6.059022e+07</td>\n",
       "      <td>6.059022e+13</td>\n",
       "    </tr>\n",
       "    <tr>\n",
       "      <th>3</th>\n",
       "      <td>12177905</td>\n",
       "      <td>34245180.0</td>\n",
       "      <td>-118240722.0</td>\n",
       "      <td>13038.0</td>\n",
       "      <td>3101.0</td>\n",
       "      <td>396551.0</td>\n",
       "      <td>96330.0</td>\n",
       "      <td>0101</td>\n",
       "      <td>LCR110000*</td>\n",
       "      <td>3.0</td>\n",
       "      <td>...</td>\n",
       "      <td>0.0</td>\n",
       "      <td>0</td>\n",
       "      <td>0.0</td>\n",
       "      <td>NaN</td>\n",
       "      <td>0.0</td>\n",
       "      <td>NaN</td>\n",
       "      <td>145143.0</td>\n",
       "      <td>0</td>\n",
       "      <td>6.037300e+07</td>\n",
       "      <td>6.037300e+13</td>\n",
       "    </tr>\n",
       "    <tr>\n",
       "      <th>4</th>\n",
       "      <td>12095076</td>\n",
       "      <td>34145202.0</td>\n",
       "      <td>-118179824.0</td>\n",
       "      <td>63000.0</td>\n",
       "      <td>3101.0</td>\n",
       "      <td>47019.0</td>\n",
       "      <td>96293.0</td>\n",
       "      <td>0101</td>\n",
       "      <td>PSR2</td>\n",
       "      <td>3.0</td>\n",
       "      <td>...</td>\n",
       "      <td>0.0</td>\n",
       "      <td>0</td>\n",
       "      <td>0.0</td>\n",
       "      <td>NaN</td>\n",
       "      <td>0.0</td>\n",
       "      <td>NaN</td>\n",
       "      <td>773303.0</td>\n",
       "      <td>0</td>\n",
       "      <td>6.037461e+07</td>\n",
       "      <td>6.037461e+13</td>\n",
       "    </tr>\n",
       "  </tbody>\n",
       "</table>\n",
       "<p>5 rows × 44 columns</p>\n",
       "</div>"
      ],
      "text/plain": [
       "   parcelid    latitude    longitude  lotsizesquarefeet  regionidcounty  \\\n",
       "0  14297519  33634931.0 -117869207.0             4506.0          1286.0   \n",
       "1  17052889  34449266.0 -119281531.0            12647.0          2061.0   \n",
       "2  14186244  33886168.0 -117823170.0             8432.0          1286.0   \n",
       "3  12177905  34245180.0 -118240722.0            13038.0          3101.0   \n",
       "4  12095076  34145202.0 -118179824.0            63000.0          3101.0   \n",
       "\n",
       "   regionidcity  regionidzip propertycountylandusecode propertyzoningdesc  \\\n",
       "0       53571.0      96978.0                       122               None   \n",
       "1       13091.0      97099.0                      1110               None   \n",
       "2       21412.0      97078.0                       122               None   \n",
       "3      396551.0      96330.0                      0101         LCR110000*   \n",
       "4       47019.0      96293.0                      0101               PSR2   \n",
       "\n",
       "   bathroomcnt  ...  fireplacecnt  fireplaceflag  hashottuborspa  \\\n",
       "0          3.5  ...           0.0              0             0.0   \n",
       "1          1.0  ...           1.0              1             0.0   \n",
       "2          2.0  ...           0.0              0             0.0   \n",
       "3          3.0  ...           0.0              0             0.0   \n",
       "4          3.0  ...           0.0              0             0.0   \n",
       "\n",
       "   yardbuildingsqft17  yardbuildingsqft26  threequarterbathnbr  \\\n",
       "0                 NaN                 0.0                  1.0   \n",
       "1                 NaN                 0.0                  NaN   \n",
       "2                 NaN                 0.0                  NaN   \n",
       "3                 NaN                 0.0                  NaN   \n",
       "4                 NaN                 0.0                  NaN   \n",
       "\n",
       "  taxvaluedollarcnt  taxdelinquencyflag  rawcensustractandblock  \\\n",
       "0         1023282.0                   0            6.059063e+07   \n",
       "1          464000.0                   0            6.111001e+07   \n",
       "2          564778.0                   0            6.059022e+07   \n",
       "3          145143.0                   0            6.037300e+07   \n",
       "4          773303.0                   0            6.037461e+07   \n",
       "\n",
       "   censustractandblock  \n",
       "0         6.059063e+13  \n",
       "1         6.111001e+13  \n",
       "2         6.059022e+13  \n",
       "3         6.037300e+13  \n",
       "4         6.037461e+13  \n",
       "\n",
       "[5 rows x 44 columns]"
      ]
     },
     "execution_count": 45,
     "metadata": {},
     "output_type": "execute_result"
    }
   ],
   "source": [
    "df.head()"
   ]
  },
  {
   "cell_type": "code",
   "execution_count": 46,
   "id": "ed06917a-d063-4e13-a1ce-e5c91deb4fde",
   "metadata": {},
   "outputs": [
    {
     "data": {
      "text/plain": [
       "['parcelid',\n",
       " 'latitude',\n",
       " 'longitude',\n",
       " 'lotsizesquarefeet',\n",
       " 'regionidcounty',\n",
       " 'regionidcity',\n",
       " 'regionidzip',\n",
       " 'propertycountylandusecode',\n",
       " 'propertyzoningdesc',\n",
       " 'bathroomcnt',\n",
       " 'bedroomcnt',\n",
       " 'calculatedbathnbr',\n",
       " 'fullbathcnt',\n",
       " 'calculatedfinishedsquarefeet',\n",
       " 'basementsqft',\n",
       " 'finishedsquarefeet12',\n",
       " 'finishedsquarefeet15',\n",
       " 'finishedsquarefeet50',\n",
       " 'fips',\n",
       " 'roomcnt',\n",
       " 'numberofstories',\n",
       " 'yearbuilt',\n",
       " 'propertylandusetypeid',\n",
       " 'airconditioningtypeid',\n",
       " 'buildingqualitytypeid',\n",
       " 'heatingorsystemtypeid',\n",
       " 'decktypeid',\n",
       " 'unitcnt',\n",
       " 'garagecarcnt',\n",
       " 'garagetotalsqft',\n",
       " 'poolcnt',\n",
       " 'poolsizesum',\n",
       " 'pooltypeid2',\n",
       " 'pooltypeid7',\n",
       " 'fireplacecnt',\n",
       " 'fireplaceflag',\n",
       " 'hashottuborspa',\n",
       " 'yardbuildingsqft17',\n",
       " 'yardbuildingsqft26',\n",
       " 'threequarterbathnbr',\n",
       " 'taxvaluedollarcnt',\n",
       " 'taxdelinquencyflag',\n",
       " 'rawcensustractandblock',\n",
       " 'censustractandblock']"
      ]
     },
     "execution_count": 46,
     "metadata": {},
     "output_type": "execute_result"
    }
   ],
   "source": [
    "df.columns.to_list()"
   ]
  },
  {
   "cell_type": "markdown",
   "id": "d774c952-79a2-484d-8c56-00c791634aa4",
   "metadata": {},
   "source": [
    "## Calculated area"
   ]
  },
  {
   "cell_type": "code",
   "execution_count": 47,
   "id": "69e9cc27-4061-497d-88f9-c67bcf851ba0",
   "metadata": {},
   "outputs": [
    {
     "data": {
      "text/html": [
       "<div>\n",
       "<style scoped>\n",
       "    .dataframe tbody tr th:only-of-type {\n",
       "        vertical-align: middle;\n",
       "    }\n",
       "\n",
       "    .dataframe tbody tr th {\n",
       "        vertical-align: top;\n",
       "    }\n",
       "\n",
       "    .dataframe thead th {\n",
       "        text-align: right;\n",
       "    }\n",
       "</style>\n",
       "<table border=\"1\" class=\"dataframe\">\n",
       "  <thead>\n",
       "    <tr style=\"text-align: right;\">\n",
       "      <th></th>\n",
       "      <th>calculatedfinishedsquarefeet</th>\n",
       "      <th>numberofstories</th>\n",
       "      <th>lotsizesquarefeet</th>\n",
       "    </tr>\n",
       "  </thead>\n",
       "  <tbody>\n",
       "    <tr>\n",
       "      <th>0</th>\n",
       "      <td>3100.0</td>\n",
       "      <td>NaN</td>\n",
       "      <td>4506.0</td>\n",
       "    </tr>\n",
       "    <tr>\n",
       "      <th>1</th>\n",
       "      <td>1465.0</td>\n",
       "      <td>1.0</td>\n",
       "      <td>12647.0</td>\n",
       "    </tr>\n",
       "    <tr>\n",
       "      <th>2</th>\n",
       "      <td>1243.0</td>\n",
       "      <td>1.0</td>\n",
       "      <td>8432.0</td>\n",
       "    </tr>\n",
       "    <tr>\n",
       "      <th>3</th>\n",
       "      <td>2376.0</td>\n",
       "      <td>NaN</td>\n",
       "      <td>13038.0</td>\n",
       "    </tr>\n",
       "    <tr>\n",
       "      <th>4</th>\n",
       "      <td>2962.0</td>\n",
       "      <td>NaN</td>\n",
       "      <td>63000.0</td>\n",
       "    </tr>\n",
       "    <tr>\n",
       "      <th>...</th>\n",
       "      <td>...</td>\n",
       "      <td>...</td>\n",
       "      <td>...</td>\n",
       "    </tr>\n",
       "    <tr>\n",
       "      <th>52436</th>\n",
       "      <td>1633.0</td>\n",
       "      <td>NaN</td>\n",
       "      <td>4630.0</td>\n",
       "    </tr>\n",
       "    <tr>\n",
       "      <th>52437</th>\n",
       "      <td>1286.0</td>\n",
       "      <td>NaN</td>\n",
       "      <td>47405.0</td>\n",
       "    </tr>\n",
       "    <tr>\n",
       "      <th>52438</th>\n",
       "      <td>1612.0</td>\n",
       "      <td>1.0</td>\n",
       "      <td>12105.0</td>\n",
       "    </tr>\n",
       "    <tr>\n",
       "      <th>52439</th>\n",
       "      <td>1032.0</td>\n",
       "      <td>NaN</td>\n",
       "      <td>5074.0</td>\n",
       "    </tr>\n",
       "    <tr>\n",
       "      <th>52440</th>\n",
       "      <td>1762.0</td>\n",
       "      <td>NaN</td>\n",
       "      <td>6347.0</td>\n",
       "    </tr>\n",
       "  </tbody>\n",
       "</table>\n",
       "<p>52441 rows × 3 columns</p>\n",
       "</div>"
      ],
      "text/plain": [
       "       calculatedfinishedsquarefeet  numberofstories  lotsizesquarefeet\n",
       "0                            3100.0              NaN             4506.0\n",
       "1                            1465.0              1.0            12647.0\n",
       "2                            1243.0              1.0             8432.0\n",
       "3                            2376.0              NaN            13038.0\n",
       "4                            2962.0              NaN            63000.0\n",
       "...                             ...              ...                ...\n",
       "52436                        1633.0              NaN             4630.0\n",
       "52437                        1286.0              NaN            47405.0\n",
       "52438                        1612.0              1.0            12105.0\n",
       "52439                        1032.0              NaN             5074.0\n",
       "52440                        1762.0              NaN             6347.0\n",
       "\n",
       "[52441 rows x 3 columns]"
      ]
     },
     "execution_count": 47,
     "metadata": {},
     "output_type": "execute_result"
    }
   ],
   "source": [
    "df[['calculatedfinishedsquarefeet','numberofstories','lotsizesquarefeet']]"
   ]
  },
  {
   "cell_type": "code",
   "execution_count": 48,
   "id": "c9b456d0-8465-48d0-a359-00591a9f7407",
   "metadata": {},
   "outputs": [],
   "source": [
    "# Replace NaN calculatedfinishedsquarefeet values with mean.\n",
    "df['calculatedfinishedsquarefeet'].fillna((df['calculatedfinishedsquarefeet'].mean()), inplace=True)"
   ]
  },
  {
   "cell_type": "code",
   "execution_count": 49,
   "id": "216de41c-e0ea-4634-8c83-3150505dfb02",
   "metadata": {},
   "outputs": [],
   "source": [
    "# Replace NaN finishedsquarefeet15 values with calculatedfinishedsquarefeet.\n",
    "df.loc[df['finishedsquarefeet15'].isnull(),'finishedsquarefeet15'] = df['calculatedfinishedsquarefeet']"
   ]
  },
  {
   "cell_type": "code",
   "execution_count": 50,
   "id": "c7788050-6d9e-48bb-bf72-f6cbeaa79654",
   "metadata": {},
   "outputs": [],
   "source": [
    "# Replace NaN finishedsquarefeet12 values with calculatedfinishedsquarefeet.\n",
    "df.loc[df['finishedsquarefeet12'].isnull(),'finishedsquarefeet12'] = df['calculatedfinishedsquarefeet']"
   ]
  },
  {
   "cell_type": "code",
   "execution_count": 51,
   "id": "c4deee43-1f5c-43f4-8523-756c88d4f7a8",
   "metadata": {},
   "outputs": [],
   "source": [
    "# fill in numberofstories Nan\n",
    "df.numberofstories.fillna(1,inplace = True)"
   ]
  },
  {
   "cell_type": "code",
   "execution_count": 52,
   "id": "145370aa-38c1-4926-b282-7e523b729153",
   "metadata": {},
   "outputs": [
    {
     "data": {
      "text/plain": [
       "parcelid                        1.000000\n",
       "pooltypeid2                     1.000000\n",
       "numberofstories                 1.000000\n",
       "latitude                        1.000000\n",
       "decktypeid                      1.000000\n",
       "garagecarcnt                    1.000000\n",
       "garagetotalsqft                 1.000000\n",
       "poolcnt                         1.000000\n",
       "pooltypeid7                     1.000000\n",
       "fips                            1.000000\n",
       "fireplacecnt                    1.000000\n",
       "fireplaceflag                   1.000000\n",
       "hashottuborspa                  1.000000\n",
       "yardbuildingsqft26              1.000000\n",
       "taxdelinquencyflag              1.000000\n",
       "rawcensustractandblock          1.000000\n",
       "roomcnt                         1.000000\n",
       "propertylandusetypeid           1.000000\n",
       "finishedsquarefeet15            1.000000\n",
       "finishedsquarefeet12            1.000000\n",
       "basementsqft                    1.000000\n",
       "regionidcounty                  1.000000\n",
       "longitude                       1.000000\n",
       "calculatedfinishedsquarefeet    1.000000\n",
       "propertycountylandusecode       1.000000\n",
       "bathroomcnt                     1.000000\n",
       "bedroomcnt                      1.000000\n",
       "taxvaluedollarcnt               0.999981\n",
       "regionidzip                     0.999504\n",
       "yearbuilt                       0.997788\n",
       "censustractandblock             0.997655\n",
       "calculatedbathnbr               0.997388\n",
       "fullbathcnt                     0.997388\n",
       "lotsizesquarefeet               0.992964\n",
       "regionidcity                    0.980225\n",
       "heatingorsystemtypeid           0.647108\n",
       "propertyzoningdesc              0.645449\n",
       "unitcnt                         0.645430\n",
       "buildingqualitytypeid           0.643390\n",
       "airconditioningtypeid           0.260064\n",
       "poolsizesum                     0.211590\n",
       "threequarterbathnbr             0.128220\n",
       "finishedsquarefeet50            0.083542\n",
       "yardbuildingsqft17              0.036937\n",
       "dtype: float64"
      ]
     },
     "execution_count": 52,
     "metadata": {},
     "output_type": "execute_result"
    }
   ],
   "source": [
    "df.shape\n",
    "df.notnull().mean().sort_values(ascending = False)"
   ]
  },
  {
   "cell_type": "code",
   "execution_count": 53,
   "id": "c3231008-2608-46ac-9943-0ec1b912a37a",
   "metadata": {},
   "outputs": [
    {
     "data": {
      "text/plain": [
       "1.0    46770\n",
       "2.0     5318\n",
       "3.0      352\n",
       "6.0        1\n",
       "Name: numberofstories, dtype: int64"
      ]
     },
     "execution_count": 53,
     "metadata": {},
     "output_type": "execute_result"
    }
   ],
   "source": [
    "df.numberofstories.value_counts()"
   ]
  },
  {
   "cell_type": "code",
   "execution_count": 54,
   "id": "b37b7234-b919-4416-981e-f8975ae02d7d",
   "metadata": {},
   "outputs": [],
   "source": [
    "# If numberofstories is equal to 1, then replace the NaNs with the calculatedfinishedsquarefeet value. Fill in the rest with the average values.\n",
    "df.loc[df['numberofstories'] == 1.0,'finishedsquarefeet50'] = df['calculatedfinishedsquarefeet']\n",
    "df['finishedsquarefeet50'].fillna((df['finishedsquarefeet50'].mean()), inplace=True)"
   ]
  },
  {
   "cell_type": "code",
   "execution_count": 55,
   "id": "0117678e-8481-4b7f-b329-2dd3c5400ea0",
   "metadata": {},
   "outputs": [
    {
     "data": {
      "text/plain": [
       "parcelid                        1.000000\n",
       "pooltypeid2                     1.000000\n",
       "numberofstories                 1.000000\n",
       "latitude                        1.000000\n",
       "decktypeid                      1.000000\n",
       "garagecarcnt                    1.000000\n",
       "garagetotalsqft                 1.000000\n",
       "poolcnt                         1.000000\n",
       "pooltypeid7                     1.000000\n",
       "fips                            1.000000\n",
       "fireplacecnt                    1.000000\n",
       "fireplaceflag                   1.000000\n",
       "hashottuborspa                  1.000000\n",
       "yardbuildingsqft26              1.000000\n",
       "taxdelinquencyflag              1.000000\n",
       "rawcensustractandblock          1.000000\n",
       "roomcnt                         1.000000\n",
       "propertylandusetypeid           1.000000\n",
       "finishedsquarefeet50            1.000000\n",
       "finishedsquarefeet15            1.000000\n",
       "finishedsquarefeet12            1.000000\n",
       "basementsqft                    1.000000\n",
       "longitude                       1.000000\n",
       "regionidcounty                  1.000000\n",
       "calculatedfinishedsquarefeet    1.000000\n",
       "propertycountylandusecode       1.000000\n",
       "bathroomcnt                     1.000000\n",
       "bedroomcnt                      1.000000\n",
       "taxvaluedollarcnt               0.999981\n",
       "regionidzip                     0.999504\n",
       "yearbuilt                       0.997788\n",
       "censustractandblock             0.997655\n",
       "calculatedbathnbr               0.997388\n",
       "fullbathcnt                     0.997388\n",
       "lotsizesquarefeet               0.992964\n",
       "regionidcity                    0.980225\n",
       "heatingorsystemtypeid           0.647108\n",
       "propertyzoningdesc              0.645449\n",
       "unitcnt                         0.645430\n",
       "buildingqualitytypeid           0.643390\n",
       "airconditioningtypeid           0.260064\n",
       "poolsizesum                     0.211590\n",
       "threequarterbathnbr             0.128220\n",
       "yardbuildingsqft17              0.036937\n",
       "dtype: float64"
      ]
     },
     "execution_count": 55,
     "metadata": {},
     "output_type": "execute_result"
    }
   ],
   "source": [
    "df.shape\n",
    "df.notnull().mean().sort_values(ascending = False)"
   ]
  },
  {
   "cell_type": "code",
   "execution_count": 56,
   "id": "c388eca7-8bc9-4257-8554-f05c874ed638",
   "metadata": {},
   "outputs": [],
   "source": [
    "# patio area also fill nan\n",
    "df.yardbuildingsqft17.fillna(0,inplace = True)"
   ]
  },
  {
   "cell_type": "code",
   "execution_count": 57,
   "id": "473311af-dcd9-4b26-8b70-c35b2d7d2467",
   "metadata": {},
   "outputs": [
    {
     "data": {
      "text/plain": [
       "parcelid                        1.000000\n",
       "fips                            1.000000\n",
       "numberofstories                 1.000000\n",
       "latitude                        1.000000\n",
       "decktypeid                      1.000000\n",
       "garagecarcnt                    1.000000\n",
       "garagetotalsqft                 1.000000\n",
       "poolcnt                         1.000000\n",
       "pooltypeid2                     1.000000\n",
       "pooltypeid7                     1.000000\n",
       "fireplacecnt                    1.000000\n",
       "fireplaceflag                   1.000000\n",
       "hashottuborspa                  1.000000\n",
       "yardbuildingsqft17              1.000000\n",
       "yardbuildingsqft26              1.000000\n",
       "taxdelinquencyflag              1.000000\n",
       "rawcensustractandblock          1.000000\n",
       "roomcnt                         1.000000\n",
       "propertylandusetypeid           1.000000\n",
       "finishedsquarefeet50            1.000000\n",
       "bedroomcnt                      1.000000\n",
       "finishedsquarefeet12            1.000000\n",
       "longitude                       1.000000\n",
       "regionidcounty                  1.000000\n",
       "basementsqft                    1.000000\n",
       "calculatedfinishedsquarefeet    1.000000\n",
       "propertycountylandusecode       1.000000\n",
       "bathroomcnt                     1.000000\n",
       "finishedsquarefeet15            1.000000\n",
       "taxvaluedollarcnt               0.999981\n",
       "regionidzip                     0.999504\n",
       "yearbuilt                       0.997788\n",
       "censustractandblock             0.997655\n",
       "calculatedbathnbr               0.997388\n",
       "fullbathcnt                     0.997388\n",
       "lotsizesquarefeet               0.992964\n",
       "regionidcity                    0.980225\n",
       "heatingorsystemtypeid           0.647108\n",
       "propertyzoningdesc              0.645449\n",
       "unitcnt                         0.645430\n",
       "buildingqualitytypeid           0.643390\n",
       "airconditioningtypeid           0.260064\n",
       "poolsizesum                     0.211590\n",
       "threequarterbathnbr             0.128220\n",
       "dtype: float64"
      ]
     },
     "execution_count": 57,
     "metadata": {},
     "output_type": "execute_result"
    }
   ],
   "source": [
    "# checking dataframe features\n",
    "df.shape\n",
    "df.notnull().mean().sort_values(ascending = False)"
   ]
  },
  {
   "cell_type": "code",
   "execution_count": 58,
   "id": "6326ec0f-0c36-40aa-b832-256ee03ea005",
   "metadata": {},
   "outputs": [
    {
     "data": {
      "text/html": [
       "<div>\n",
       "<style scoped>\n",
       "    .dataframe tbody tr th:only-of-type {\n",
       "        vertical-align: middle;\n",
       "    }\n",
       "\n",
       "    .dataframe tbody tr th {\n",
       "        vertical-align: top;\n",
       "    }\n",
       "\n",
       "    .dataframe thead th {\n",
       "        text-align: right;\n",
       "    }\n",
       "</style>\n",
       "<table border=\"1\" class=\"dataframe\">\n",
       "  <thead>\n",
       "    <tr style=\"text-align: right;\">\n",
       "      <th></th>\n",
       "      <th>fullbathcnt</th>\n",
       "      <th>threequarterbathnbr</th>\n",
       "      <th>calculatedbathnbr</th>\n",
       "    </tr>\n",
       "  </thead>\n",
       "  <tbody>\n",
       "    <tr>\n",
       "      <th>0</th>\n",
       "      <td>3.0</td>\n",
       "      <td>1.0</td>\n",
       "      <td>3.5</td>\n",
       "    </tr>\n",
       "    <tr>\n",
       "      <th>8</th>\n",
       "      <td>2.0</td>\n",
       "      <td>1.0</td>\n",
       "      <td>2.5</td>\n",
       "    </tr>\n",
       "    <tr>\n",
       "      <th>9</th>\n",
       "      <td>2.0</td>\n",
       "      <td>1.0</td>\n",
       "      <td>2.5</td>\n",
       "    </tr>\n",
       "    <tr>\n",
       "      <th>12</th>\n",
       "      <td>2.0</td>\n",
       "      <td>1.0</td>\n",
       "      <td>2.5</td>\n",
       "    </tr>\n",
       "    <tr>\n",
       "      <th>13</th>\n",
       "      <td>2.0</td>\n",
       "      <td>1.0</td>\n",
       "      <td>2.5</td>\n",
       "    </tr>\n",
       "    <tr>\n",
       "      <th>...</th>\n",
       "      <td>...</td>\n",
       "      <td>...</td>\n",
       "      <td>...</td>\n",
       "    </tr>\n",
       "    <tr>\n",
       "      <th>52040</th>\n",
       "      <td>4.0</td>\n",
       "      <td>1.0</td>\n",
       "      <td>4.5</td>\n",
       "    </tr>\n",
       "    <tr>\n",
       "      <th>52057</th>\n",
       "      <td>3.0</td>\n",
       "      <td>1.0</td>\n",
       "      <td>3.5</td>\n",
       "    </tr>\n",
       "    <tr>\n",
       "      <th>52072</th>\n",
       "      <td>2.0</td>\n",
       "      <td>1.0</td>\n",
       "      <td>2.5</td>\n",
       "    </tr>\n",
       "    <tr>\n",
       "      <th>52115</th>\n",
       "      <td>2.0</td>\n",
       "      <td>1.0</td>\n",
       "      <td>2.5</td>\n",
       "    </tr>\n",
       "    <tr>\n",
       "      <th>52169</th>\n",
       "      <td>4.0</td>\n",
       "      <td>1.0</td>\n",
       "      <td>4.5</td>\n",
       "    </tr>\n",
       "  </tbody>\n",
       "</table>\n",
       "<p>6724 rows × 3 columns</p>\n",
       "</div>"
      ],
      "text/plain": [
       "       fullbathcnt  threequarterbathnbr  calculatedbathnbr\n",
       "0              3.0                  1.0                3.5\n",
       "8              2.0                  1.0                2.5\n",
       "9              2.0                  1.0                2.5\n",
       "12             2.0                  1.0                2.5\n",
       "13             2.0                  1.0                2.5\n",
       "...            ...                  ...                ...\n",
       "52040          4.0                  1.0                4.5\n",
       "52057          3.0                  1.0                3.5\n",
       "52072          2.0                  1.0                2.5\n",
       "52115          2.0                  1.0                2.5\n",
       "52169          4.0                  1.0                4.5\n",
       "\n",
       "[6724 rows x 3 columns]"
      ]
     },
     "execution_count": 58,
     "metadata": {},
     "output_type": "execute_result"
    }
   ],
   "source": [
    "# checking bathrooms features\n",
    "bathrooms = df[df['fullbathcnt'].notnull() & df['threequarterbathnbr'].notnull() & df['calculatedbathnbr'].notnull()]\n",
    "bathrooms[['fullbathcnt','threequarterbathnbr','calculatedbathnbr']]"
   ]
  },
  {
   "cell_type": "code",
   "execution_count": 59,
   "id": "165e9b76-d753-4fea-8297-21b826f3a652",
   "metadata": {},
   "outputs": [],
   "source": [
    "# dropping column\n",
    "df.drop('threequarterbathnbr', axis = 1, inplace = True)"
   ]
  },
  {
   "cell_type": "code",
   "execution_count": 60,
   "id": "6a959e60-8c4a-4c3c-949f-e27f8ab2e3c8",
   "metadata": {},
   "outputs": [],
   "source": [
    "# dropping column\n",
    "df.drop('fullbathcnt', axis =1, inplace = True)"
   ]
  },
  {
   "cell_type": "code",
   "execution_count": 61,
   "id": "ee20279b-8816-404e-8c3d-fb204fa43126",
   "metadata": {},
   "outputs": [],
   "source": [
    "# Fill in \"NaN\" \"calculatedbathnbr\" with most common\n",
    "bathroommode = df['calculatedbathnbr'].value_counts().argmax() # should be 0\n",
    "df['calculatedbathnbr'] = df['calculatedbathnbr'].fillna(bathroommode)"
   ]
  },
  {
   "cell_type": "code",
   "execution_count": 62,
   "id": "3019046f-d210-4c47-aa69-e3d56cd1eed1",
   "metadata": {},
   "outputs": [
    {
     "data": {
      "text/plain": [
       "2.0     21893\n",
       "3.0     10673\n",
       "1.0      9568\n",
       "2.5      3926\n",
       "4.0      2227\n",
       "3.5       918\n",
       "1.5       834\n",
       "5.0       803\n",
       "4.5       687\n",
       "6.0       322\n",
       "5.5       223\n",
       "0.0       137\n",
       "7.0        88\n",
       "8.0        53\n",
       "6.5        47\n",
       "7.5        16\n",
       "9.0        13\n",
       "10.0        5\n",
       "11.0        3\n",
       "8.5         3\n",
       "18.0        1\n",
       "13.0        1\n",
       "Name: calculatedbathnbr, dtype: int64"
      ]
     },
     "execution_count": 62,
     "metadata": {},
     "output_type": "execute_result"
    }
   ],
   "source": [
    "# checking for null values\n",
    "df['calculatedbathnbr'].value_counts()"
   ]
  },
  {
   "cell_type": "code",
   "execution_count": 63,
   "id": "fb5f90ff-969b-4c55-964d-a8df1860acf9",
   "metadata": {},
   "outputs": [
    {
     "data": {
      "text/plain": [
       "0"
      ]
     },
     "execution_count": 63,
     "metadata": {},
     "output_type": "execute_result"
    }
   ],
   "source": [
    "# checked for nulls again\n",
    "df['calculatedbathnbr'].isna().sum()"
   ]
  },
  {
   "cell_type": "code",
   "execution_count": 64,
   "id": "1a4ce64b-e101-403c-976a-1ab8d3c6aee0",
   "metadata": {},
   "outputs": [],
   "source": [
    "# 5 is indicator of ac and 13 is an indicator of heating system reference: https://www.kaggle.com/code/nikunjm88/creating-additional-features/notebook\n",
    "df.airconditioningtypeid.fillna(5,inplace = True)"
   ]
  },
  {
   "cell_type": "code",
   "execution_count": 65,
   "id": "99680ce9-a1ce-4ac0-bca4-bd03b7f3b4ce",
   "metadata": {},
   "outputs": [],
   "source": [
    "# change nan to 13 for none\n",
    "df.heatingorsystemtypeid.fillna(13,inplace = True)"
   ]
  },
  {
   "cell_type": "code",
   "execution_count": 66,
   "id": "7b2230ff-9ded-4d63-9c8e-30cc3daabd66",
   "metadata": {},
   "outputs": [
    {
     "data": {
      "text/plain": [
       "6.0     10289\n",
       "8.0      8244\n",
       "4.0      8156\n",
       "7.0      3427\n",
       "5.0      1513\n",
       "9.0      1121\n",
       "11.0      514\n",
       "10.0      230\n",
       "3.0       152\n",
       "12.0       81\n",
       "1.0         8\n",
       "2.0         5\n",
       "Name: buildingqualitytypeid, dtype: int64"
      ]
     },
     "execution_count": 66,
     "metadata": {},
     "output_type": "execute_result"
    }
   ],
   "source": [
    "# changing buildingqualitytypeid to most common value\n",
    "df['buildingqualitytypeid'].value_counts()"
   ]
  },
  {
   "cell_type": "code",
   "execution_count": 67,
   "id": "00dfbebb-f2d4-4e8c-ad72-acfe35524f72",
   "metadata": {},
   "outputs": [],
   "source": [
    "# filled nan with most occuring unique value of column\n",
    "buildqual= df['buildingqualitytypeid'].value_counts().argmax()\n",
    "df['buildingqualitytypeid'] = df['buildingqualitytypeid'].fillna(buildqual)"
   ]
  },
  {
   "cell_type": "code",
   "execution_count": 68,
   "id": "cdb67ba0-ab95-4d6b-b199-842cb5316a8e",
   "metadata": {},
   "outputs": [],
   "source": [
    "# filled in Nan values of unitcnt of property to be equal to 1\n",
    "df.unitcnt.fillna(1, inplace = True)"
   ]
  },
  {
   "cell_type": "code",
   "execution_count": 69,
   "id": "36148d50-9f08-4854-86b1-afe59b321622",
   "metadata": {},
   "outputs": [
    {
     "data": {
      "text/plain": [
       "LAR1          6498\n",
       "LARS          1385\n",
       "LBR1N         1111\n",
       "SCUR2          712\n",
       "LARE11         612\n",
       "              ... \n",
       "LCR3800015       1\n",
       "PSR6*            1\n",
       "LARE             1\n",
       "MYR3PY           1\n",
       "BFA15000*        1\n",
       "Name: propertyzoningdesc, Length: 1286, dtype: int64"
      ]
     },
     "execution_count": 69,
     "metadata": {},
     "output_type": "execute_result"
    }
   ],
   "source": [
    "df['propertyzoningdesc'].value_counts()"
   ]
  },
  {
   "cell_type": "code",
   "execution_count": 70,
   "id": "0e3f7cc9-fdbc-4f98-be90-51cc8077239a",
   "metadata": {},
   "outputs": [],
   "source": [
    "# filled in NaN vules with most occurring unique value\n",
    "pzd = df['propertyzoningdesc'].value_counts().argmax()\n",
    "df['propertyzoningdesc'] = df['propertyzoningdesc'].fillna(pzd)"
   ]
  },
  {
   "cell_type": "code",
   "execution_count": 71,
   "id": "596949c8-c361-405b-901c-da0bbeb176bb",
   "metadata": {},
   "outputs": [
    {
     "data": {
      "text/plain": [
       "369"
      ]
     },
     "execution_count": 71,
     "metadata": {},
     "output_type": "execute_result"
    }
   ],
   "source": [
    "# looking at this feature column and will do the same to fill\n",
    "df['lotsizesquarefeet'].isna().sum()"
   ]
  },
  {
   "cell_type": "code",
   "execution_count": 72,
   "id": "ce072409-94d1-4776-a593-7f8905c082c3",
   "metadata": {},
   "outputs": [],
   "source": [
    "lssf = df['lotsizesquarefeet'].value_counts().argmax()\n",
    "df['lotsizesquarefeet'] = df['lotsizesquarefeet'].fillna(lssf)"
   ]
  },
  {
   "cell_type": "code",
   "execution_count": 73,
   "id": "c6ea6fe0-65dd-4328-b359-25ff62bf36b1",
   "metadata": {},
   "outputs": [
    {
     "data": {
      "text/plain": [
       "parcelid                        1.000000\n",
       "pooltypeid2                     1.000000\n",
       "buildingqualitytypeid           1.000000\n",
       "heatingorsystemtypeid           1.000000\n",
       "decktypeid                      1.000000\n",
       "unitcnt                         1.000000\n",
       "garagecarcnt                    1.000000\n",
       "garagetotalsqft                 1.000000\n",
       "poolcnt                         1.000000\n",
       "pooltypeid7                     1.000000\n",
       "latitude                        1.000000\n",
       "fireplacecnt                    1.000000\n",
       "fireplaceflag                   1.000000\n",
       "hashottuborspa                  1.000000\n",
       "yardbuildingsqft17              1.000000\n",
       "yardbuildingsqft26              1.000000\n",
       "taxdelinquencyflag              1.000000\n",
       "rawcensustractandblock          1.000000\n",
       "airconditioningtypeid           1.000000\n",
       "propertylandusetypeid           1.000000\n",
       "bedroomcnt                      1.000000\n",
       "calculatedfinishedsquarefeet    1.000000\n",
       "lotsizesquarefeet               1.000000\n",
       "propertycountylandusecode       1.000000\n",
       "propertyzoningdesc              1.000000\n",
       "bathroomcnt                     1.000000\n",
       "numberofstories                 1.000000\n",
       "longitude                       1.000000\n",
       "calculatedbathnbr               1.000000\n",
       "basementsqft                    1.000000\n",
       "finishedsquarefeet12            1.000000\n",
       "finishedsquarefeet15            1.000000\n",
       "finishedsquarefeet50            1.000000\n",
       "fips                            1.000000\n",
       "roomcnt                         1.000000\n",
       "regionidcounty                  1.000000\n",
       "taxvaluedollarcnt               0.999981\n",
       "regionidzip                     0.999504\n",
       "yearbuilt                       0.997788\n",
       "censustractandblock             0.997655\n",
       "regionidcity                    0.980225\n",
       "poolsizesum                     0.211590\n",
       "dtype: float64"
      ]
     },
     "execution_count": 73,
     "metadata": {},
     "output_type": "execute_result"
    }
   ],
   "source": [
    "df.shape\n",
    "df.notnull().mean().sort_values(ascending = False)"
   ]
  },
  {
   "cell_type": "code",
   "execution_count": 74,
   "id": "8572ec8a-84ea-402f-b572-a45f622278b2",
   "metadata": {},
   "outputs": [],
   "source": [
    "# dropping column; it matches up with raw counterpart\n",
    "df.drop('censustractandblock', axis=1, inplace = True)"
   ]
  },
  {
   "cell_type": "code",
   "execution_count": 75,
   "id": "2fbaafdb-ad68-4eb5-8345-100e788bf92c",
   "metadata": {},
   "outputs": [
    {
     "data": {
      "text/html": [
       "<div>\n",
       "<style scoped>\n",
       "    .dataframe tbody tr th:only-of-type {\n",
       "        vertical-align: middle;\n",
       "    }\n",
       "\n",
       "    .dataframe tbody tr th {\n",
       "        vertical-align: top;\n",
       "    }\n",
       "\n",
       "    .dataframe thead th {\n",
       "        text-align: right;\n",
       "    }\n",
       "</style>\n",
       "<table border=\"1\" class=\"dataframe\">\n",
       "  <thead>\n",
       "    <tr style=\"text-align: right;\">\n",
       "      <th></th>\n",
       "      <th>parcelid</th>\n",
       "      <th>latitude</th>\n",
       "      <th>longitude</th>\n",
       "      <th>lotsizesquarefeet</th>\n",
       "      <th>regionidcounty</th>\n",
       "      <th>regionidcity</th>\n",
       "      <th>regionidzip</th>\n",
       "      <th>propertycountylandusecode</th>\n",
       "      <th>propertyzoningdesc</th>\n",
       "      <th>bathroomcnt</th>\n",
       "      <th>...</th>\n",
       "      <th>pooltypeid2</th>\n",
       "      <th>pooltypeid7</th>\n",
       "      <th>fireplacecnt</th>\n",
       "      <th>fireplaceflag</th>\n",
       "      <th>hashottuborspa</th>\n",
       "      <th>yardbuildingsqft17</th>\n",
       "      <th>yardbuildingsqft26</th>\n",
       "      <th>taxvaluedollarcnt</th>\n",
       "      <th>taxdelinquencyflag</th>\n",
       "      <th>rawcensustractandblock</th>\n",
       "    </tr>\n",
       "  </thead>\n",
       "  <tbody>\n",
       "    <tr>\n",
       "      <th>42299</th>\n",
       "      <td>14006983</td>\n",
       "      <td>33792921.0</td>\n",
       "      <td>-117982046.0</td>\n",
       "      <td>7210.0</td>\n",
       "      <td>1286.0</td>\n",
       "      <td>24832.0</td>\n",
       "      <td>97048.0</td>\n",
       "      <td>122</td>\n",
       "      <td>0</td>\n",
       "      <td>2.0</td>\n",
       "      <td>...</td>\n",
       "      <td>0.0</td>\n",
       "      <td>1.0</td>\n",
       "      <td>0.0</td>\n",
       "      <td>0</td>\n",
       "      <td>0.0</td>\n",
       "      <td>0.0</td>\n",
       "      <td>0.0</td>\n",
       "      <td>NaN</td>\n",
       "      <td>0</td>\n",
       "      <td>6.059088e+07</td>\n",
       "    </tr>\n",
       "  </tbody>\n",
       "</table>\n",
       "<p>1 rows × 41 columns</p>\n",
       "</div>"
      ],
      "text/plain": [
       "       parcelid    latitude    longitude  lotsizesquarefeet  regionidcounty  \\\n",
       "42299  14006983  33792921.0 -117982046.0             7210.0          1286.0   \n",
       "\n",
       "       regionidcity  regionidzip propertycountylandusecode propertyzoningdesc  \\\n",
       "42299       24832.0      97048.0                       122                  0   \n",
       "\n",
       "       bathroomcnt  ...  pooltypeid2  pooltypeid7  fireplacecnt  \\\n",
       "42299          2.0  ...          0.0          1.0           0.0   \n",
       "\n",
       "       fireplaceflag  hashottuborspa  yardbuildingsqft17  yardbuildingsqft26  \\\n",
       "42299              0             0.0                 0.0                 0.0   \n",
       "\n",
       "       taxvaluedollarcnt  taxdelinquencyflag  rawcensustractandblock  \n",
       "42299                NaN                   0            6.059088e+07  \n",
       "\n",
       "[1 rows x 41 columns]"
      ]
     },
     "execution_count": 75,
     "metadata": {},
     "output_type": "execute_result"
    }
   ],
   "source": [
    "# taxvaluedollarcent \n",
    "df[df['taxvaluedollarcnt'].isna()]\n",
    "# df[['taxvaluedollarcnt']]"
   ]
  },
  {
   "cell_type": "code",
   "execution_count": 76,
   "id": "5eb4bba1-3e76-483e-a1c4-5b0f7ac841b8",
   "metadata": {},
   "outputs": [],
   "source": [
    "# filling in the NaN with mean\n",
    "df['taxvaluedollarcnt'].fillna((df['taxvaluedollarcnt'].mean()), inplace=True)"
   ]
  },
  {
   "cell_type": "code",
   "execution_count": 77,
   "id": "1c69f9ab-bd72-49b3-bddf-ba1a61c0e2dd",
   "metadata": {},
   "outputs": [],
   "source": [
    "# Fill in NaN \"yearbuilt\" with most common number\n",
    "yearbuilt = df['yearbuilt'].value_counts().argmax()\n",
    "df['yearbuilt'] = df['yearbuilt'].fillna(yearbuilt)"
   ]
  },
  {
   "cell_type": "code",
   "execution_count": 78,
   "id": "895cbf64-42dd-4772-b94f-c20af6d3565e",
   "metadata": {},
   "outputs": [
    {
     "name": "stdout",
     "output_type": "stream",
     "text": [
      "(52441, 41)\n",
      "parcelid                          int64\n",
      "latitude                        float64\n",
      "longitude                       float64\n",
      "lotsizesquarefeet               float64\n",
      "regionidcounty                  float64\n",
      "regionidcity                    float64\n",
      "regionidzip                     float64\n",
      "propertycountylandusecode        object\n",
      "propertyzoningdesc               object\n",
      "bathroomcnt                     float64\n",
      "bedroomcnt                      float64\n",
      "calculatedbathnbr               float64\n",
      "calculatedfinishedsquarefeet    float64\n",
      "basementsqft                    float64\n",
      "finishedsquarefeet12            float64\n",
      "finishedsquarefeet15            float64\n",
      "finishedsquarefeet50            float64\n",
      "fips                            float64\n",
      "roomcnt                         float64\n",
      "numberofstories                 float64\n",
      "yearbuilt                       float64\n",
      "propertylandusetypeid             int64\n",
      "airconditioningtypeid           float64\n",
      "buildingqualitytypeid           float64\n",
      "heatingorsystemtypeid           float64\n",
      "decktypeid                      float64\n",
      "unitcnt                         float64\n",
      "garagecarcnt                    float64\n",
      "garagetotalsqft                 float64\n",
      "poolcnt                         float64\n",
      "poolsizesum                     float64\n",
      "pooltypeid2                     float64\n",
      "pooltypeid7                     float64\n",
      "fireplacecnt                    float64\n",
      "fireplaceflag                     int64\n",
      "hashottuborspa                  float64\n",
      "yardbuildingsqft17              float64\n",
      "yardbuildingsqft26              float64\n",
      "taxvaluedollarcnt               float64\n",
      "taxdelinquencyflag                int64\n",
      "rawcensustractandblock          float64\n",
      "dtype: object\n"
     ]
    },
    {
     "data": {
      "text/plain": [
       "parcelid                        1.000000\n",
       "latitude                        1.000000\n",
       "airconditioningtypeid           1.000000\n",
       "buildingqualitytypeid           1.000000\n",
       "heatingorsystemtypeid           1.000000\n",
       "decktypeid                      1.000000\n",
       "unitcnt                         1.000000\n",
       "garagecarcnt                    1.000000\n",
       "garagetotalsqft                 1.000000\n",
       "poolcnt                         1.000000\n",
       "pooltypeid2                     1.000000\n",
       "pooltypeid7                     1.000000\n",
       "fireplacecnt                    1.000000\n",
       "fireplaceflag                   1.000000\n",
       "hashottuborspa                  1.000000\n",
       "yardbuildingsqft17              1.000000\n",
       "yardbuildingsqft26              1.000000\n",
       "taxvaluedollarcnt               1.000000\n",
       "taxdelinquencyflag              1.000000\n",
       "propertylandusetypeid           1.000000\n",
       "yearbuilt                       1.000000\n",
       "numberofstories                 1.000000\n",
       "roomcnt                         1.000000\n",
       "longitude                       1.000000\n",
       "lotsizesquarefeet               1.000000\n",
       "regionidcounty                  1.000000\n",
       "propertycountylandusecode       1.000000\n",
       "propertyzoningdesc              1.000000\n",
       "bathroomcnt                     1.000000\n",
       "bedroomcnt                      1.000000\n",
       "calculatedbathnbr               1.000000\n",
       "calculatedfinishedsquarefeet    1.000000\n",
       "basementsqft                    1.000000\n",
       "finishedsquarefeet12            1.000000\n",
       "finishedsquarefeet15            1.000000\n",
       "finishedsquarefeet50            1.000000\n",
       "fips                            1.000000\n",
       "rawcensustractandblock          1.000000\n",
       "regionidzip                     0.999504\n",
       "regionidcity                    0.980225\n",
       "poolsizesum                     0.211590\n",
       "dtype: float64"
      ]
     },
     "execution_count": 78,
     "metadata": {},
     "output_type": "execute_result"
    }
   ],
   "source": [
    "\n",
    "print(df.shape)\n",
    "print(df.dtypes)\n",
    "df.notnull().mean().sort_values(ascending = False)"
   ]
  },
  {
   "cell_type": "code",
   "execution_count": 79,
   "id": "4ff6f735-b28c-4973-9841-b1b640f2b55c",
   "metadata": {},
   "outputs": [],
   "source": [
    "# city is already part of fips so we can drop\n",
    "df.drop('regionidcity', axis=1, inplace=True)"
   ]
  },
  {
   "cell_type": "code",
   "execution_count": 80,
   "id": "78777fb8-d65f-4c43-8815-54494de34976",
   "metadata": {},
   "outputs": [],
   "source": [
    "# we can fill nan of this column qith most occurring unique value\n",
    "regionidzip = df['regionidzip'].value_counts().argmax()\n",
    "df['regionidzip'] = df['regionidzip'].fillna(regionidzip)"
   ]
  },
  {
   "cell_type": "code",
   "execution_count": 81,
   "id": "2636cff4-4c40-446a-81a7-4634ae0081fb",
   "metadata": {},
   "outputs": [
    {
     "name": "stdout",
     "output_type": "stream",
     "text": [
      "(52441, 40)\n"
     ]
    },
    {
     "data": {
      "text/plain": [
       "parcelid                        1.00000\n",
       "pooltypeid2                     1.00000\n",
       "buildingqualitytypeid           1.00000\n",
       "heatingorsystemtypeid           1.00000\n",
       "decktypeid                      1.00000\n",
       "unitcnt                         1.00000\n",
       "garagecarcnt                    1.00000\n",
       "garagetotalsqft                 1.00000\n",
       "poolcnt                         1.00000\n",
       "pooltypeid7                     1.00000\n",
       "latitude                        1.00000\n",
       "fireplacecnt                    1.00000\n",
       "fireplaceflag                   1.00000\n",
       "hashottuborspa                  1.00000\n",
       "yardbuildingsqft17              1.00000\n",
       "yardbuildingsqft26              1.00000\n",
       "taxvaluedollarcnt               1.00000\n",
       "taxdelinquencyflag              1.00000\n",
       "airconditioningtypeid           1.00000\n",
       "propertylandusetypeid           1.00000\n",
       "yearbuilt                       1.00000\n",
       "numberofstories                 1.00000\n",
       "longitude                       1.00000\n",
       "lotsizesquarefeet               1.00000\n",
       "regionidcounty                  1.00000\n",
       "regionidzip                     1.00000\n",
       "propertycountylandusecode       1.00000\n",
       "propertyzoningdesc              1.00000\n",
       "bathroomcnt                     1.00000\n",
       "bedroomcnt                      1.00000\n",
       "calculatedbathnbr               1.00000\n",
       "calculatedfinishedsquarefeet    1.00000\n",
       "basementsqft                    1.00000\n",
       "finishedsquarefeet12            1.00000\n",
       "finishedsquarefeet15            1.00000\n",
       "finishedsquarefeet50            1.00000\n",
       "fips                            1.00000\n",
       "roomcnt                         1.00000\n",
       "rawcensustractandblock          1.00000\n",
       "poolsizesum                     0.21159\n",
       "dtype: float64"
      ]
     },
     "execution_count": 81,
     "metadata": {},
     "output_type": "execute_result"
    }
   ],
   "source": [
    "# checking data shape and values\n",
    "print(df.shape)\n",
    "df.notnull().mean().sort_values(ascending = False)"
   ]
  },
  {
   "cell_type": "markdown",
   "id": "f422f07b-7476-42af-b262-115ca5217f5e",
   "metadata": {},
   "source": [
    "## Additional Features"
   ]
  },
  {
   "cell_type": "code",
   "execution_count": 82,
   "id": "bd632e77-7147-4726-97cc-7e306dfea273",
   "metadata": {},
   "outputs": [],
   "source": [
    "#life of property\n",
    "df['n-life'] = 2023 - df['yearbuilt']\n",
    "\n",
    "#error in calculation of the finished living area of home\n",
    "df['n-living_area_error'] = df['calculatedfinishedsquarefeet']/df['finishedsquarefeet12']\n",
    "\n",
    "#proportion of living area\n",
    "df['n-living_area_prop'] = df['calculatedfinishedsquarefeet']/df['lotsizesquarefeet']\n",
    "df['n-living_area_prop2'] = df['finishedsquarefeet12']/df['finishedsquarefeet15']\n",
    "\n",
    "#Amout of extra space\n",
    "df['n-extra_space'] = df['lotsizesquarefeet'] - df['calculatedfinishedsquarefeet'] \n",
    "df['n-extra_space-2'] = df['finishedsquarefeet15'] - df['finishedsquarefeet12'] \n",
    "\n",
    "#Total number of rooms\n",
    "df['n-total_rooms'] = df['bathroomcnt']*df['bedroomcnt']\n",
    "\n",
    "#Average room size\n",
    "df['n-av_room_size'] = df['calculatedfinishedsquarefeet']/df['roomcnt'] \n",
    "\n",
    "# Number of Extra rooms\n",
    "df['n-extra_rooms'] = df['roomcnt'] - df['n-total_rooms'] \n",
    "\n",
    "\n",
    "#Does property have a garage, pool or hot tub and AC?\n",
    "df['n-gar_pool_ac'] = ((df['garagecarcnt']>0) & (df['pooltypeid7']>0) & (df['airconditioningtypeid']!=5))*1 \n",
    "\n",
    "df[\"n-location\"] = df[\"latitude\"] + df[\"longitude\"]\n",
    "df[\"n-location-2\"] = df[\"latitude\"]*df[\"longitude\"]\n",
    "df[\"n-location-2round\"] = df[\"n-location-2\"].round(-4)\n",
    "\n",
    "df[\"n-latitude-round\"] = df[\"latitude\"].round(-4)\n",
    "df[\"n-longitude-round\"] = df[\"longitude\"].round(-4)"
   ]
  },
  {
   "cell_type": "code",
   "execution_count": 83,
   "id": "3722e73a-cde8-4355-8912-b5c9704ffd52",
   "metadata": {},
   "outputs": [],
   "source": [
    "#Number of properties in the zip\n",
    "zip_count = df['regionidzip'].value_counts().to_dict()\n",
    "df['n-zip_count'] = df['regionidzip'].map(zip_count)\n",
    "\n",
    "#Number of properties in the city\n",
    "region_count = df['regionidcounty'].value_counts().to_dict()\n",
    "df['n-county_count'] = df['regionidcounty'].map(region_count)"
   ]
  },
  {
   "cell_type": "code",
   "execution_count": 84,
   "id": "af9f633a-28bf-426f-a7ea-7bde21f7a6e9",
   "metadata": {},
   "outputs": [],
   "source": [
    "#Indicator whether it has AC or not\n",
    "df['n-ac_ind'] = (df['airconditioningtypeid']!=5)*1\n",
    "\n",
    "#Indicator whether it has Heating or not \n",
    "df['n-heat_ind'] = (df['heatingorsystemtypeid']!=13)*1\n",
    "\n",
    "#There's 25 different property uses - let's compress them down to 4 categories\n",
    "df['n-prop_type'] = df.propertylandusetypeid.replace({31 : \"Mixed\", 46 : \"Other\", 47 : \"Mixed\", 246 : \"Mixed\", 247 : \"Mixed\", 248 : \"Mixed\", 260 : \"Home\", 261 : \"Home\", 262 : \"Home\", 263 : \"Home\", 264 : \"Home\", 265 : \"Home\", 266 : \"Home\", 267 : \"Home\", 268 : \"Home\", 269 : \"Not Built\", 270 : \"Home\", 271 : \"Home\", 273 : \"Home\", 274 : \"Other\", 275 : \"Home\", 276 : \"Home\", 279 : \"Home\", 290 : \"Not Built\", 291 : \"Not Built\" })"
   ]
  },
  {
   "cell_type": "code",
   "execution_count": 85,
   "id": "cc16b735-b905-4148-9337-b688e8014ef0",
   "metadata": {},
   "outputs": [],
   "source": [
    "# renamed appropriately\n",
    "df = df.rename(columns={'parcelid' : 'parcel_id', 'pooltypeid2' : 'pool_type_id_2', 'bedroomcnt': 'bedrooms', 'bathroomcnt': 'bathrooms',\n",
    "                        'heatingorsystemtypeid' : 'heating_or_system_type_id', 'decktypeid' : 'deck_type_id', 'unitcnt' : 'unit_cnt',\n",
    "                        'garagecarcnt' : 'garage_car_cnt','calculatedfinishedsquarefeet': 'area', 'poolcnt' : 'pool_cnt', 'taxvaluedollarcnt': 'home_value', \n",
    "                        'garagetotalsqft' : 'garage_total_sqft', 'yearbuilt': 'year_built', 'fullbathcnt' : 'full_bath_cnt', 'lotsizesquarefeet' : 'lot_area', \n",
    "                        'regionidcounty' : 'region_id_county', 'roomcnt' : 'room_cnt', 'rawcensustractandblock' : 'raw_census_tract_and_block',\n",
    "                        'poolsizesum' : 'pool_size_sum', 'pooltypeid7' : 'pool_type_id_7', 'fireplacecnt' : 'fire_place_cnt', 'fireplaceflag' : 'fire_place_flag',\n",
    "                        'hashottuborspa' : 'has_hot_tub_or_spa', 'yardbuildingsqft17' : 'patio_sqft', 'yardbuildingsqft26' : 'storage_sqft',\n",
    "                        'taxdelinquencyflag' : 'tax_delinquency_flag', 'buildingqualitytypeid' : 'building_quality_type_id', 'airconditioningtypeid' : 'ac_type_id',\n",
    "                        'numberofstories' : 'num_stories', 'regionidzip' : 'region_id_zip', 'propertycountylandusecode' : 'property_county_landuse_code', \n",
    "                        'propertyzoningdesc' : 'property_zoning_desc', 'calculatedbathnbr' : 'calc_bath_count', 'basementsqft' : 'basement_sqft',\n",
    "                        'finishedsquarefeet15' : 'finished_sqft_15', 'finishedsquarefeet50' : 'finishedsqft50', 'roomcnt' : 'rooms', 'finishedsquarefeet12' : 'finished_square_feet_12',\n",
    "                        'finishedsqft50' : 'finished_sqft_50', 'propertylandusetypeid' : 'property_landuse_type_id'\n",
    "                        })"
   ]
  },
  {
   "cell_type": "code",
   "execution_count": 86,
   "id": "6f202c93-2180-423b-bfc9-99aeba1b876a",
   "metadata": {},
   "outputs": [
    {
     "name": "stdout",
     "output_type": "stream",
     "text": [
      "(52441, 60)\n"
     ]
    },
    {
     "data": {
      "text/plain": [
       "parcel_id                       1.00000\n",
       "latitude                        1.00000\n",
       "fire_place_cnt                  1.00000\n",
       "fire_place_flag                 1.00000\n",
       "has_hot_tub_or_spa              1.00000\n",
       "patio_sqft                      1.00000\n",
       "storage_sqft                    1.00000\n",
       "home_value                      1.00000\n",
       "tax_delinquency_flag            1.00000\n",
       "raw_census_tract_and_block      1.00000\n",
       "n-life                          1.00000\n",
       "n-living_area_error             1.00000\n",
       "n-living_area_prop              1.00000\n",
       "n-living_area_prop2             1.00000\n",
       "n-extra_space                   1.00000\n",
       "n-extra_space-2                 1.00000\n",
       "n-total_rooms                   1.00000\n",
       "n-av_room_size                  1.00000\n",
       "n-extra_rooms                   1.00000\n",
       "n-gar_pool_ac                   1.00000\n",
       "n-location                      1.00000\n",
       "n-location-2                    1.00000\n",
       "n-location-2round               1.00000\n",
       "n-latitude-round                1.00000\n",
       "n-longitude-round               1.00000\n",
       "n-zip_count                     1.00000\n",
       "n-county_count                  1.00000\n",
       "n-ac_ind                        1.00000\n",
       "n-heat_ind                      1.00000\n",
       "pool_type_id_7                  1.00000\n",
       "pool_type_id_2                  1.00000\n",
       "finishedsqft50                  1.00000\n",
       "finished_sqft_15                1.00000\n",
       "longitude                       1.00000\n",
       "lot_area                        1.00000\n",
       "region_id_county                1.00000\n",
       "region_id_zip                   1.00000\n",
       "property_county_landuse_code    1.00000\n",
       "property_zoning_desc            1.00000\n",
       "bathrooms                       1.00000\n",
       "bedrooms                        1.00000\n",
       "calc_bath_count                 1.00000\n",
       "area                            1.00000\n",
       "basement_sqft                   1.00000\n",
       "finished_square_feet_12         1.00000\n",
       "n-prop_type                     1.00000\n",
       "pool_cnt                        1.00000\n",
       "fips                            1.00000\n",
       "rooms                           1.00000\n",
       "num_stories                     1.00000\n",
       "year_built                      1.00000\n",
       "property_landuse_type_id        1.00000\n",
       "ac_type_id                      1.00000\n",
       "building_quality_type_id        1.00000\n",
       "heating_or_system_type_id       1.00000\n",
       "deck_type_id                    1.00000\n",
       "unit_cnt                        1.00000\n",
       "garage_car_cnt                  1.00000\n",
       "garage_total_sqft               1.00000\n",
       "pool_size_sum                   0.21159\n",
       "dtype: float64"
      ]
     },
     "execution_count": 86,
     "metadata": {},
     "output_type": "execute_result"
    }
   ],
   "source": [
    "# checking data shape and values\n",
    "print(df.shape)\n",
    "df.notnull().mean().sort_values(ascending = False)"
   ]
  },
  {
   "cell_type": "code",
   "execution_count": 88,
   "id": "1a1033c7-79db-419c-ac63-3cc202338e27",
   "metadata": {},
   "outputs": [],
   "source": [
    "# Convert selected columns to integer type\n",
    "int_columns = ['fips', 'year_built', 'home_value', 'area', 'bedrooms', 'rooms',\n",
    "                   'region_id_county', 'region_id_zip', 'lot_area']\n",
    "df[int_columns] = df[int_columns].astype(int)"
   ]
  },
  {
   "cell_type": "code",
   "execution_count": 90,
   "id": "5685f937-7b63-4bf8-b9c6-5bc1d3c526c4",
   "metadata": {},
   "outputs": [
    {
     "name": "stdout",
     "output_type": "stream",
     "text": [
      "(52441, 60)\n",
      "parcel_id                         int64\n",
      "latitude                        float64\n",
      "longitude                       float64\n",
      "lot_area                          int64\n",
      "region_id_county                  int64\n",
      "region_id_zip                     int64\n",
      "property_county_landuse_code     object\n",
      "property_zoning_desc             object\n",
      "bathrooms                       float64\n",
      "bedrooms                          int64\n",
      "calc_bath_count                 float64\n",
      "area                              int64\n",
      "basement_sqft                   float64\n",
      "finished_square_feet_12         float64\n",
      "finished_sqft_15                float64\n",
      "finishedsqft50                  float64\n",
      "fips                              int64\n",
      "rooms                             int64\n",
      "num_stories                     float64\n",
      "year_built                        int64\n",
      "property_landuse_type_id          int64\n",
      "ac_type_id                      float64\n",
      "building_quality_type_id        float64\n",
      "heating_or_system_type_id       float64\n",
      "deck_type_id                    float64\n",
      "unit_cnt                        float64\n",
      "garage_car_cnt                  float64\n",
      "garage_total_sqft               float64\n",
      "pool_cnt                        float64\n",
      "pool_size_sum                   float64\n",
      "pool_type_id_2                  float64\n",
      "pool_type_id_7                  float64\n",
      "fire_place_cnt                  float64\n",
      "fire_place_flag                   int64\n",
      "has_hot_tub_or_spa              float64\n",
      "patio_sqft                      float64\n",
      "storage_sqft                    float64\n",
      "home_value                        int64\n",
      "tax_delinquency_flag              int64\n",
      "raw_census_tract_and_block      float64\n",
      "n-life                          float64\n",
      "n-living_area_error             float64\n",
      "n-living_area_prop              float64\n",
      "n-living_area_prop2             float64\n",
      "n-extra_space                   float64\n",
      "n-extra_space-2                 float64\n",
      "n-total_rooms                   float64\n",
      "n-av_room_size                  float64\n",
      "n-extra_rooms                   float64\n",
      "n-gar_pool_ac                     int64\n",
      "n-location                      float64\n",
      "n-location-2                    float64\n",
      "n-location-2round               float64\n",
      "n-latitude-round                float64\n",
      "n-longitude-round               float64\n",
      "n-zip_count                       int64\n",
      "n-county_count                    int64\n",
      "n-ac_ind                          int64\n",
      "n-heat_ind                        int64\n",
      "n-prop_type                      object\n",
      "dtype: object\n"
     ]
    },
    {
     "data": {
      "text/plain": [
       "parcel_id                       1.00000\n",
       "latitude                        1.00000\n",
       "fire_place_cnt                  1.00000\n",
       "fire_place_flag                 1.00000\n",
       "has_hot_tub_or_spa              1.00000\n",
       "patio_sqft                      1.00000\n",
       "storage_sqft                    1.00000\n",
       "home_value                      1.00000\n",
       "tax_delinquency_flag            1.00000\n",
       "raw_census_tract_and_block      1.00000\n",
       "n-life                          1.00000\n",
       "n-living_area_error             1.00000\n",
       "n-living_area_prop              1.00000\n",
       "n-living_area_prop2             1.00000\n",
       "n-extra_space                   1.00000\n",
       "n-extra_space-2                 1.00000\n",
       "n-total_rooms                   1.00000\n",
       "n-av_room_size                  1.00000\n",
       "n-extra_rooms                   1.00000\n",
       "n-gar_pool_ac                   1.00000\n",
       "n-location                      1.00000\n",
       "n-location-2                    1.00000\n",
       "n-location-2round               1.00000\n",
       "n-latitude-round                1.00000\n",
       "n-longitude-round               1.00000\n",
       "n-zip_count                     1.00000\n",
       "n-county_count                  1.00000\n",
       "n-ac_ind                        1.00000\n",
       "n-heat_ind                      1.00000\n",
       "pool_type_id_7                  1.00000\n",
       "pool_type_id_2                  1.00000\n",
       "finishedsqft50                  1.00000\n",
       "finished_sqft_15                1.00000\n",
       "longitude                       1.00000\n",
       "lot_area                        1.00000\n",
       "region_id_county                1.00000\n",
       "region_id_zip                   1.00000\n",
       "property_county_landuse_code    1.00000\n",
       "property_zoning_desc            1.00000\n",
       "bathrooms                       1.00000\n",
       "bedrooms                        1.00000\n",
       "calc_bath_count                 1.00000\n",
       "area                            1.00000\n",
       "basement_sqft                   1.00000\n",
       "finished_square_feet_12         1.00000\n",
       "n-prop_type                     1.00000\n",
       "pool_cnt                        1.00000\n",
       "fips                            1.00000\n",
       "rooms                           1.00000\n",
       "num_stories                     1.00000\n",
       "year_built                      1.00000\n",
       "property_landuse_type_id        1.00000\n",
       "ac_type_id                      1.00000\n",
       "building_quality_type_id        1.00000\n",
       "heating_or_system_type_id       1.00000\n",
       "deck_type_id                    1.00000\n",
       "unit_cnt                        1.00000\n",
       "garage_car_cnt                  1.00000\n",
       "garage_total_sqft               1.00000\n",
       "pool_size_sum                   0.21159\n",
       "dtype: float64"
      ]
     },
     "execution_count": 90,
     "metadata": {},
     "output_type": "execute_result"
    }
   ],
   "source": [
    "# checking data shape and values\n",
    "print(df.shape)\n",
    "print(df.dtypes)\n",
    "df.notnull().mean().sort_values(ascending = False)"
   ]
  },
  {
   "cell_type": "code",
   "execution_count": null,
   "id": "6307fb14-f078-495c-90d4-8ca7aab889de",
   "metadata": {},
   "outputs": [],
   "source": []
  }
 ],
 "metadata": {
  "kernelspec": {
   "display_name": "Python 3 (ipykernel)",
   "language": "python",
   "name": "python3"
  },
  "language_info": {
   "codemirror_mode": {
    "name": "ipython",
    "version": 3
   },
   "file_extension": ".py",
   "mimetype": "text/x-python",
   "name": "python",
   "nbconvert_exporter": "python",
   "pygments_lexer": "ipython3",
   "version": "3.10.9"
  }
 },
 "nbformat": 4,
 "nbformat_minor": 5
}
