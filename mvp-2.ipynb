{
 "cells": [
  {
   "cell_type": "markdown",
   "id": "24cecc0a-1755-4e3c-883e-e5cbc5b29f79",
   "metadata": {},
   "source": [
    "# Project Zillow"
   ]
  },
  {
   "cell_type": "markdown",
   "id": "e0a1d7e8-714b-4259-b1b3-3fcb0ce6fc08",
   "metadata": {},
   "source": [
    "- Predict the tax assessed property value of Zillow Single Family Residential properties with transaction dates in 2017.\n"
   ]
  },
  {
   "cell_type": "markdown",
   "id": "f0fb2cf7-4836-4fe9-ad28-e0eb2573ce69",
   "metadata": {
    "jp-MarkdownHeadingCollapsed": true
   },
   "source": [
    "# Goal"
   ]
  },
  {
   "cell_type": "markdown",
   "id": "f9baa552-c300-4d47-bff3-e87ee6c6b44c",
   "metadata": {},
   "source": [
    "- Identify drivers of property value.\n",
    "- Use drivers to develop a machine learning model to predict Single Family Residential property value."
   ]
  },
  {
   "cell_type": "markdown",
   "id": "44d6b0e9-aa33-416e-ab2e-6834ce1fa1c9",
   "metadata": {},
   "source": [
    "# Imports"
   ]
  },
  {
   "cell_type": "code",
   "execution_count": 1,
   "id": "6200bae8-2fc8-475e-b70e-4f19580b1464",
   "metadata": {},
   "outputs": [],
   "source": [
    "import warnings\n",
    "\n",
    "warnings.filterwarnings(\"ignore\")\n",
    "\n",
    "import os\n",
    "import numpy as np\n",
    "import pandas as pd\n",
    "import matplotlib.pyplot as plt\n",
    "import seaborn as sns\n",
    "from scipy import stats\n",
    "from sklearn.model_selection import train_test_split\n",
    "from sklearn.metrics import mean_squared_error, r2_score, explained_variance_score\n",
    "from sklearn.linear_model import LinearRegression, LassoLars, TweedieRegressor\n",
    "from sklearn.ensemble import RandomForestRegressor\n",
    "from xgboost import XGBRegressor\n",
    "from sklearn.feature_selection import SelectKBest, RFE, f_regression, SequentialFeatureSelector\n",
    "from sklearn.preprocessing import MinMaxScaler, StandardScaler, RobustScaler, PolynomialFeatures\n",
    "\n",
    "# local\n",
    "from wrangle import acquire_zillow, clean_zil, wrangle_zillow, train_val_test, xy_split\n",
    "from explore import dist_of_nums, plot_variable_pairs, plot_categorical_and_continuous_vars, evaluate_correlation\n",
    "from evaluate import plot_residuals, regression_errors, baseline_mean_errors, better_than_baseline\n",
    "from model import eval_model, train_model, train_and_evaluate_model, scale_data\n",
    "from math import sqrt"
   ]
  },
  {
   "cell_type": "markdown",
   "id": "cfde8ce8-3602-442a-be6e-41346fad5fea",
   "metadata": {},
   "source": [
    "# Acquire"
   ]
  },
  {
   "cell_type": "markdown",
   "id": "7ea76931-2e38-45ec-afdc-1f0d33fd054d",
   "metadata": {},
   "source": [
    "- Data acquired from Codeup MySQL DB\n",
    "- Data initially acquired on 7 Sep, 2023.\n",
    "- It contained 52,441 rows and 15 columns before cleaning.\n",
    "- Each row represents a unique parcel for each transaction it had in 2017.\n",
    "- Each column represents an element of the parcel."
   ]
  },
  {
   "cell_type": "markdown",
   "id": "facf86ba-c479-47a8-9250-c5a8be697165",
   "metadata": {},
   "source": [
    "# Prepare"
   ]
  },
  {
   "cell_type": "markdown",
   "id": "e7c9ca07-5252-4b37-a02b-947bab9914f6",
   "metadata": {},
   "source": [
    "**Prepare Actions:**\n",
    " - list actions taken"
   ]
  },
  {
   "cell_type": "code",
   "execution_count": 2,
   "id": "2cb4aa3b-39d3-41ac-9cfd-a6d9afafe77f",
   "metadata": {},
   "outputs": [],
   "source": [
    "# function (wrangle) and split maybe\n",
    "df = wrangle_zillow_2()"
   ]
  },
  {
   "cell_type": "code",
   "execution_count": 3,
   "id": "c8923b48-f7a4-4c75-98ff-4664544a1106",
   "metadata": {},
   "outputs": [
    {
     "data": {
      "text/html": [
       "<div>\n",
       "<style scoped>\n",
       "    .dataframe tbody tr th:only-of-type {\n",
       "        vertical-align: middle;\n",
       "    }\n",
       "\n",
       "    .dataframe tbody tr th {\n",
       "        vertical-align: top;\n",
       "    }\n",
       "\n",
       "    .dataframe thead th {\n",
       "        text-align: right;\n",
       "    }\n",
       "</style>\n",
       "<table border=\"1\" class=\"dataframe\">\n",
       "  <thead>\n",
       "    <tr style=\"text-align: right;\">\n",
       "      <th></th>\n",
       "      <th>parcel_id</th>\n",
       "      <th>bathrooms</th>\n",
       "      <th>bedrooms</th>\n",
       "      <th>area</th>\n",
       "      <th>full_bath_cnt</th>\n",
       "      <th>latitude</th>\n",
       "      <th>longitude</th>\n",
       "      <th>lot_area</th>\n",
       "      <th>region_id_county</th>\n",
       "      <th>regionidzip</th>\n",
       "      <th>room_cnt</th>\n",
       "      <th>year_built</th>\n",
       "      <th>home_value</th>\n",
       "      <th>census_tract_and_block</th>\n",
       "      <th>fips</th>\n",
       "      <th>state</th>\n",
       "      <th>county</th>\n",
       "    </tr>\n",
       "  </thead>\n",
       "  <tbody>\n",
       "    <tr>\n",
       "      <th>0</th>\n",
       "      <td>14297519</td>\n",
       "      <td>3.5</td>\n",
       "      <td>4</td>\n",
       "      <td>3100</td>\n",
       "      <td>3</td>\n",
       "      <td>33634931.0</td>\n",
       "      <td>-117869207.0</td>\n",
       "      <td>4506</td>\n",
       "      <td>1286</td>\n",
       "      <td>96978</td>\n",
       "      <td>0</td>\n",
       "      <td>1998</td>\n",
       "      <td>1023282</td>\n",
       "      <td>6.059063e+13</td>\n",
       "      <td>6059</td>\n",
       "      <td>California</td>\n",
       "      <td>Orange County</td>\n",
       "    </tr>\n",
       "    <tr>\n",
       "      <th>1</th>\n",
       "      <td>17052889</td>\n",
       "      <td>1.0</td>\n",
       "      <td>2</td>\n",
       "      <td>1465</td>\n",
       "      <td>1</td>\n",
       "      <td>34449266.0</td>\n",
       "      <td>-119281531.0</td>\n",
       "      <td>12647</td>\n",
       "      <td>2061</td>\n",
       "      <td>97099</td>\n",
       "      <td>5</td>\n",
       "      <td>1967</td>\n",
       "      <td>464000</td>\n",
       "      <td>6.111001e+13</td>\n",
       "      <td>6111</td>\n",
       "      <td>California</td>\n",
       "      <td>Ventura County</td>\n",
       "    </tr>\n",
       "    <tr>\n",
       "      <th>2</th>\n",
       "      <td>14186244</td>\n",
       "      <td>2.0</td>\n",
       "      <td>3</td>\n",
       "      <td>1243</td>\n",
       "      <td>2</td>\n",
       "      <td>33886168.0</td>\n",
       "      <td>-117823170.0</td>\n",
       "      <td>8432</td>\n",
       "      <td>1286</td>\n",
       "      <td>97078</td>\n",
       "      <td>6</td>\n",
       "      <td>1962</td>\n",
       "      <td>564778</td>\n",
       "      <td>6.059022e+13</td>\n",
       "      <td>6059</td>\n",
       "      <td>California</td>\n",
       "      <td>Orange County</td>\n",
       "    </tr>\n",
       "    <tr>\n",
       "      <th>3</th>\n",
       "      <td>12177905</td>\n",
       "      <td>3.0</td>\n",
       "      <td>4</td>\n",
       "      <td>2376</td>\n",
       "      <td>3</td>\n",
       "      <td>34245180.0</td>\n",
       "      <td>-118240722.0</td>\n",
       "      <td>13038</td>\n",
       "      <td>3101</td>\n",
       "      <td>96330</td>\n",
       "      <td>0</td>\n",
       "      <td>1970</td>\n",
       "      <td>145143</td>\n",
       "      <td>6.037300e+13</td>\n",
       "      <td>6037</td>\n",
       "      <td>California</td>\n",
       "      <td>Los Angeles County</td>\n",
       "    </tr>\n",
       "    <tr>\n",
       "      <th>4</th>\n",
       "      <td>12095076</td>\n",
       "      <td>3.0</td>\n",
       "      <td>4</td>\n",
       "      <td>2962</td>\n",
       "      <td>3</td>\n",
       "      <td>34145202.0</td>\n",
       "      <td>-118179824.0</td>\n",
       "      <td>63000</td>\n",
       "      <td>3101</td>\n",
       "      <td>96293</td>\n",
       "      <td>0</td>\n",
       "      <td>1950</td>\n",
       "      <td>773303</td>\n",
       "      <td>6.037461e+13</td>\n",
       "      <td>6037</td>\n",
       "      <td>California</td>\n",
       "      <td>Los Angeles County</td>\n",
       "    </tr>\n",
       "  </tbody>\n",
       "</table>\n",
       "</div>"
      ],
      "text/plain": [
       "   parcel_id  bathrooms  bedrooms  area  full_bath_cnt    latitude  \\\n",
       "0   14297519        3.5         4  3100              3  33634931.0   \n",
       "1   17052889        1.0         2  1465              1  34449266.0   \n",
       "2   14186244        2.0         3  1243              2  33886168.0   \n",
       "3   12177905        3.0         4  2376              3  34245180.0   \n",
       "4   12095076        3.0         4  2962              3  34145202.0   \n",
       "\n",
       "     longitude  lot_area  region_id_county  regionidzip  room_cnt  year_built  \\\n",
       "0 -117869207.0      4506              1286        96978         0        1998   \n",
       "1 -119281531.0     12647              2061        97099         5        1967   \n",
       "2 -117823170.0      8432              1286        97078         6        1962   \n",
       "3 -118240722.0     13038              3101        96330         0        1970   \n",
       "4 -118179824.0     63000              3101        96293         0        1950   \n",
       "\n",
       "   home_value  census_tract_and_block  fips       state              county  \n",
       "0     1023282            6.059063e+13  6059  California       Orange County  \n",
       "1      464000            6.111001e+13  6111  California      Ventura County  \n",
       "2      564778            6.059022e+13  6059  California       Orange County  \n",
       "3      145143            6.037300e+13  6037  California  Los Angeles County  \n",
       "4      773303            6.037461e+13  6037  California  Los Angeles County  "
      ]
     },
     "execution_count": 3,
     "metadata": {},
     "output_type": "execute_result"
    }
   ],
   "source": [
    "df.head()"
   ]
  },
  {
   "cell_type": "code",
   "execution_count": 4,
   "id": "eaa1f08a-bece-4bdd-8068-0ea73e859338",
   "metadata": {},
   "outputs": [],
   "source": [
    "train, val, test = train_val_test(df)"
   ]
  },
  {
   "cell_type": "markdown",
   "id": "3f1b0179-85e4-44a8-85ee-c537c299beb1",
   "metadata": {},
   "source": [
    "### Quick view of data,"
   ]
  },
  {
   "cell_type": "code",
   "execution_count": 5,
   "id": "775212ee-d158-4177-a7ec-860cb78784e8",
   "metadata": {},
   "outputs": [
    {
     "data": {
      "text/html": [
       "<div>\n",
       "<style scoped>\n",
       "    .dataframe tbody tr th:only-of-type {\n",
       "        vertical-align: middle;\n",
       "    }\n",
       "\n",
       "    .dataframe tbody tr th {\n",
       "        vertical-align: top;\n",
       "    }\n",
       "\n",
       "    .dataframe thead th {\n",
       "        text-align: right;\n",
       "    }\n",
       "</style>\n",
       "<table border=\"1\" class=\"dataframe\">\n",
       "  <thead>\n",
       "    <tr style=\"text-align: right;\">\n",
       "      <th></th>\n",
       "      <th>parcel_id</th>\n",
       "      <th>bathrooms</th>\n",
       "      <th>bedrooms</th>\n",
       "      <th>area</th>\n",
       "      <th>full_bath_cnt</th>\n",
       "      <th>latitude</th>\n",
       "      <th>longitude</th>\n",
       "      <th>lot_area</th>\n",
       "      <th>region_id_county</th>\n",
       "      <th>regionidzip</th>\n",
       "      <th>room_cnt</th>\n",
       "      <th>year_built</th>\n",
       "      <th>home_value</th>\n",
       "      <th>census_tract_and_block</th>\n",
       "      <th>fips</th>\n",
       "      <th>state</th>\n",
       "      <th>county</th>\n",
       "    </tr>\n",
       "  </thead>\n",
       "  <tbody>\n",
       "    <tr>\n",
       "      <th>40340</th>\n",
       "      <td>12115385</td>\n",
       "      <td>2.0</td>\n",
       "      <td>3</td>\n",
       "      <td>1218</td>\n",
       "      <td>2</td>\n",
       "      <td>34164673.0</td>\n",
       "      <td>-118126949.0</td>\n",
       "      <td>9251</td>\n",
       "      <td>3101</td>\n",
       "      <td>96292</td>\n",
       "      <td>0</td>\n",
       "      <td>1921</td>\n",
       "      <td>432527</td>\n",
       "      <td>6.037462e+13</td>\n",
       "      <td>6037</td>\n",
       "      <td>California</td>\n",
       "      <td>Los Angeles County</td>\n",
       "    </tr>\n",
       "    <tr>\n",
       "      <th>49528</th>\n",
       "      <td>12825439</td>\n",
       "      <td>2.0</td>\n",
       "      <td>3</td>\n",
       "      <td>1662</td>\n",
       "      <td>2</td>\n",
       "      <td>33931418.0</td>\n",
       "      <td>-118001601.0</td>\n",
       "      <td>6455</td>\n",
       "      <td>3101</td>\n",
       "      <td>96172</td>\n",
       "      <td>0</td>\n",
       "      <td>1954</td>\n",
       "      <td>169135</td>\n",
       "      <td>6.037504e+13</td>\n",
       "      <td>6037</td>\n",
       "      <td>California</td>\n",
       "      <td>Los Angeles County</td>\n",
       "    </tr>\n",
       "    <tr>\n",
       "      <th>24808</th>\n",
       "      <td>12668213</td>\n",
       "      <td>1.0</td>\n",
       "      <td>3</td>\n",
       "      <td>1580</td>\n",
       "      <td>1</td>\n",
       "      <td>33821835.0</td>\n",
       "      <td>-118387104.0</td>\n",
       "      <td>7509</td>\n",
       "      <td>3101</td>\n",
       "      <td>96123</td>\n",
       "      <td>0</td>\n",
       "      <td>1948</td>\n",
       "      <td>163387</td>\n",
       "      <td>6.037621e+13</td>\n",
       "      <td>6037</td>\n",
       "      <td>California</td>\n",
       "      <td>Los Angeles County</td>\n",
       "    </tr>\n",
       "    <tr>\n",
       "      <th>49262</th>\n",
       "      <td>12266229</td>\n",
       "      <td>1.0</td>\n",
       "      <td>3</td>\n",
       "      <td>1079</td>\n",
       "      <td>1</td>\n",
       "      <td>33906624.0</td>\n",
       "      <td>-118240829.0</td>\n",
       "      <td>6249</td>\n",
       "      <td>3101</td>\n",
       "      <td>96092</td>\n",
       "      <td>0</td>\n",
       "      <td>1954</td>\n",
       "      <td>163308</td>\n",
       "      <td>6.037541e+13</td>\n",
       "      <td>6037</td>\n",
       "      <td>California</td>\n",
       "      <td>Los Angeles County</td>\n",
       "    </tr>\n",
       "    <tr>\n",
       "      <th>5656</th>\n",
       "      <td>14379497</td>\n",
       "      <td>3.0</td>\n",
       "      <td>4</td>\n",
       "      <td>1986</td>\n",
       "      <td>3</td>\n",
       "      <td>33611735.0</td>\n",
       "      <td>-117688925.0</td>\n",
       "      <td>7560</td>\n",
       "      <td>1286</td>\n",
       "      <td>96995</td>\n",
       "      <td>8</td>\n",
       "      <td>1968</td>\n",
       "      <td>461551</td>\n",
       "      <td>6.059032e+13</td>\n",
       "      <td>6059</td>\n",
       "      <td>California</td>\n",
       "      <td>Orange County</td>\n",
       "    </tr>\n",
       "  </tbody>\n",
       "</table>\n",
       "</div>"
      ],
      "text/plain": [
       "       parcel_id  bathrooms  bedrooms  area  full_bath_cnt    latitude  \\\n",
       "40340   12115385        2.0         3  1218              2  34164673.0   \n",
       "49528   12825439        2.0         3  1662              2  33931418.0   \n",
       "24808   12668213        1.0         3  1580              1  33821835.0   \n",
       "49262   12266229        1.0         3  1079              1  33906624.0   \n",
       "5656    14379497        3.0         4  1986              3  33611735.0   \n",
       "\n",
       "         longitude  lot_area  region_id_county  regionidzip  room_cnt  \\\n",
       "40340 -118126949.0      9251              3101        96292         0   \n",
       "49528 -118001601.0      6455              3101        96172         0   \n",
       "24808 -118387104.0      7509              3101        96123         0   \n",
       "49262 -118240829.0      6249              3101        96092         0   \n",
       "5656  -117688925.0      7560              1286        96995         8   \n",
       "\n",
       "       year_built  home_value  census_tract_and_block  fips       state  \\\n",
       "40340        1921      432527            6.037462e+13  6037  California   \n",
       "49528        1954      169135            6.037504e+13  6037  California   \n",
       "24808        1948      163387            6.037621e+13  6037  California   \n",
       "49262        1954      163308            6.037541e+13  6037  California   \n",
       "5656         1968      461551            6.059032e+13  6059  California   \n",
       "\n",
       "                   county  \n",
       "40340  Los Angeles County  \n",
       "49528  Los Angeles County  \n",
       "24808  Los Angeles County  \n",
       "49262  Los Angeles County  \n",
       "5656        Orange County  "
      ]
     },
     "execution_count": 5,
     "metadata": {},
     "output_type": "execute_result"
    }
   ],
   "source": [
    "# displaying first five rows of zillow dataframe.\n",
    "train.head()"
   ]
  },
  {
   "cell_type": "markdown",
   "id": "5f5f8603-f11a-479a-8da1-a6bd93ebbc53",
   "metadata": {},
   "source": [
    "# Explore"
   ]
  },
  {
   "cell_type": "code",
   "execution_count": 6,
   "id": "b779827d-8fa3-4a25-bbb3-83908876006c",
   "metadata": {},
   "outputs": [],
   "source": [
    "## improve functions for these quesiton visuals"
   ]
  },
  {
   "cell_type": "markdown",
   "id": "57f6c037-ed19-4c42-9c7a-b2ef2f849e54",
   "metadata": {},
   "source": [
    "## Question 1\n",
    "\n",
    "* Does bedrooms have a relationship with home_value?\n",
    "  \n",
    "<!--bedrooms is categorical and home_value is continous-->"
   ]
  },
  {
   "cell_type": "code",
   "execution_count": 7,
   "id": "be3aa98e-4c42-4cf5-8cbb-ffe836db388f",
   "metadata": {},
   "outputs": [
    {
     "data": {
      "text/plain": [
       "3     16246\n",
       "4     10477\n",
       "2      5798\n",
       "5      2723\n",
       "6       430\n",
       "1       421\n",
       "7        73\n",
       "0        21\n",
       "8        15\n",
       "9         5\n",
       "10        2\n",
       "11        1\n",
       "Name: bedrooms, dtype: int64"
      ]
     },
     "execution_count": 7,
     "metadata": {},
     "output_type": "execute_result"
    }
   ],
   "source": [
    "train.bedrooms.value_counts()"
   ]
  },
  {
   "cell_type": "code",
   "execution_count": 8,
   "id": "e637a372-936e-4a1e-9032-c41fd3ae8a46",
   "metadata": {},
   "outputs": [
    {
     "data": {
      "text/html": [
       "<div>\n",
       "<style scoped>\n",
       "    .dataframe tbody tr th:only-of-type {\n",
       "        vertical-align: middle;\n",
       "    }\n",
       "\n",
       "    .dataframe tbody tr th {\n",
       "        vertical-align: top;\n",
       "    }\n",
       "\n",
       "    .dataframe thead th {\n",
       "        text-align: right;\n",
       "    }\n",
       "</style>\n",
       "<table border=\"1\" class=\"dataframe\">\n",
       "  <thead>\n",
       "    <tr style=\"text-align: right;\">\n",
       "      <th></th>\n",
       "      <th>parcel_id</th>\n",
       "      <th>bathrooms</th>\n",
       "      <th>bedrooms</th>\n",
       "      <th>area</th>\n",
       "      <th>full_bath_cnt</th>\n",
       "      <th>latitude</th>\n",
       "      <th>longitude</th>\n",
       "      <th>lot_area</th>\n",
       "      <th>region_id_county</th>\n",
       "      <th>regionidzip</th>\n",
       "      <th>room_cnt</th>\n",
       "      <th>year_built</th>\n",
       "      <th>home_value</th>\n",
       "      <th>census_tract_and_block</th>\n",
       "      <th>fips</th>\n",
       "      <th>state</th>\n",
       "      <th>county</th>\n",
       "    </tr>\n",
       "  </thead>\n",
       "  <tbody>\n",
       "    <tr>\n",
       "      <th>40340</th>\n",
       "      <td>12115385</td>\n",
       "      <td>2.0</td>\n",
       "      <td>3</td>\n",
       "      <td>1218</td>\n",
       "      <td>2</td>\n",
       "      <td>34164673.0</td>\n",
       "      <td>-118126949.0</td>\n",
       "      <td>9251</td>\n",
       "      <td>3101</td>\n",
       "      <td>96292</td>\n",
       "      <td>0</td>\n",
       "      <td>1921</td>\n",
       "      <td>432527</td>\n",
       "      <td>6.037462e+13</td>\n",
       "      <td>6037</td>\n",
       "      <td>California</td>\n",
       "      <td>Los Angeles County</td>\n",
       "    </tr>\n",
       "    <tr>\n",
       "      <th>49528</th>\n",
       "      <td>12825439</td>\n",
       "      <td>2.0</td>\n",
       "      <td>3</td>\n",
       "      <td>1662</td>\n",
       "      <td>2</td>\n",
       "      <td>33931418.0</td>\n",
       "      <td>-118001601.0</td>\n",
       "      <td>6455</td>\n",
       "      <td>3101</td>\n",
       "      <td>96172</td>\n",
       "      <td>0</td>\n",
       "      <td>1954</td>\n",
       "      <td>169135</td>\n",
       "      <td>6.037504e+13</td>\n",
       "      <td>6037</td>\n",
       "      <td>California</td>\n",
       "      <td>Los Angeles County</td>\n",
       "    </tr>\n",
       "    <tr>\n",
       "      <th>24808</th>\n",
       "      <td>12668213</td>\n",
       "      <td>1.0</td>\n",
       "      <td>3</td>\n",
       "      <td>1580</td>\n",
       "      <td>1</td>\n",
       "      <td>33821835.0</td>\n",
       "      <td>-118387104.0</td>\n",
       "      <td>7509</td>\n",
       "      <td>3101</td>\n",
       "      <td>96123</td>\n",
       "      <td>0</td>\n",
       "      <td>1948</td>\n",
       "      <td>163387</td>\n",
       "      <td>6.037621e+13</td>\n",
       "      <td>6037</td>\n",
       "      <td>California</td>\n",
       "      <td>Los Angeles County</td>\n",
       "    </tr>\n",
       "    <tr>\n",
       "      <th>49262</th>\n",
       "      <td>12266229</td>\n",
       "      <td>1.0</td>\n",
       "      <td>3</td>\n",
       "      <td>1079</td>\n",
       "      <td>1</td>\n",
       "      <td>33906624.0</td>\n",
       "      <td>-118240829.0</td>\n",
       "      <td>6249</td>\n",
       "      <td>3101</td>\n",
       "      <td>96092</td>\n",
       "      <td>0</td>\n",
       "      <td>1954</td>\n",
       "      <td>163308</td>\n",
       "      <td>6.037541e+13</td>\n",
       "      <td>6037</td>\n",
       "      <td>California</td>\n",
       "      <td>Los Angeles County</td>\n",
       "    </tr>\n",
       "    <tr>\n",
       "      <th>5656</th>\n",
       "      <td>14379497</td>\n",
       "      <td>3.0</td>\n",
       "      <td>4</td>\n",
       "      <td>1986</td>\n",
       "      <td>3</td>\n",
       "      <td>33611735.0</td>\n",
       "      <td>-117688925.0</td>\n",
       "      <td>7560</td>\n",
       "      <td>1286</td>\n",
       "      <td>96995</td>\n",
       "      <td>8</td>\n",
       "      <td>1968</td>\n",
       "      <td>461551</td>\n",
       "      <td>6.059032e+13</td>\n",
       "      <td>6059</td>\n",
       "      <td>California</td>\n",
       "      <td>Orange County</td>\n",
       "    </tr>\n",
       "    <tr>\n",
       "      <th>...</th>\n",
       "      <td>...</td>\n",
       "      <td>...</td>\n",
       "      <td>...</td>\n",
       "      <td>...</td>\n",
       "      <td>...</td>\n",
       "      <td>...</td>\n",
       "      <td>...</td>\n",
       "      <td>...</td>\n",
       "      <td>...</td>\n",
       "      <td>...</td>\n",
       "      <td>...</td>\n",
       "      <td>...</td>\n",
       "      <td>...</td>\n",
       "      <td>...</td>\n",
       "      <td>...</td>\n",
       "      <td>...</td>\n",
       "      <td>...</td>\n",
       "    </tr>\n",
       "    <tr>\n",
       "      <th>11468</th>\n",
       "      <td>11072771</td>\n",
       "      <td>4.0</td>\n",
       "      <td>6</td>\n",
       "      <td>2934</td>\n",
       "      <td>4</td>\n",
       "      <td>34259386.0</td>\n",
       "      <td>-118567370.0</td>\n",
       "      <td>17056</td>\n",
       "      <td>3101</td>\n",
       "      <td>96346</td>\n",
       "      <td>0</td>\n",
       "      <td>1965</td>\n",
       "      <td>425489</td>\n",
       "      <td>6.037113e+13</td>\n",
       "      <td>6037</td>\n",
       "      <td>California</td>\n",
       "      <td>Los Angeles County</td>\n",
       "    </tr>\n",
       "    <tr>\n",
       "      <th>45374</th>\n",
       "      <td>12126234</td>\n",
       "      <td>2.0</td>\n",
       "      <td>3</td>\n",
       "      <td>1652</td>\n",
       "      <td>2</td>\n",
       "      <td>34154017.0</td>\n",
       "      <td>-118074001.0</td>\n",
       "      <td>10642</td>\n",
       "      <td>3101</td>\n",
       "      <td>96295</td>\n",
       "      <td>0</td>\n",
       "      <td>1952</td>\n",
       "      <td>88797</td>\n",
       "      <td>6.037463e+13</td>\n",
       "      <td>6037</td>\n",
       "      <td>California</td>\n",
       "      <td>Los Angeles County</td>\n",
       "    </tr>\n",
       "    <tr>\n",
       "      <th>38712</th>\n",
       "      <td>12347988</td>\n",
       "      <td>1.0</td>\n",
       "      <td>3</td>\n",
       "      <td>1248</td>\n",
       "      <td>1</td>\n",
       "      <td>33902260.0</td>\n",
       "      <td>-118118617.0</td>\n",
       "      <td>5027</td>\n",
       "      <td>3101</td>\n",
       "      <td>96208</td>\n",
       "      <td>0</td>\n",
       "      <td>1952</td>\n",
       "      <td>142940</td>\n",
       "      <td>6.037553e+13</td>\n",
       "      <td>6037</td>\n",
       "      <td>California</td>\n",
       "      <td>Los Angeles County</td>\n",
       "    </tr>\n",
       "    <tr>\n",
       "      <th>872</th>\n",
       "      <td>11059395</td>\n",
       "      <td>2.0</td>\n",
       "      <td>4</td>\n",
       "      <td>1916</td>\n",
       "      <td>2</td>\n",
       "      <td>34256376.0</td>\n",
       "      <td>-118495653.0</td>\n",
       "      <td>7477</td>\n",
       "      <td>3101</td>\n",
       "      <td>96369</td>\n",
       "      <td>0</td>\n",
       "      <td>1959</td>\n",
       "      <td>169295</td>\n",
       "      <td>6.037111e+13</td>\n",
       "      <td>6037</td>\n",
       "      <td>California</td>\n",
       "      <td>Los Angeles County</td>\n",
       "    </tr>\n",
       "    <tr>\n",
       "      <th>16057</th>\n",
       "      <td>11008678</td>\n",
       "      <td>3.0</td>\n",
       "      <td>5</td>\n",
       "      <td>2493</td>\n",
       "      <td>3</td>\n",
       "      <td>34310957.0</td>\n",
       "      <td>-118501521.0</td>\n",
       "      <td>11583</td>\n",
       "      <td>3101</td>\n",
       "      <td>96370</td>\n",
       "      <td>0</td>\n",
       "      <td>1978</td>\n",
       "      <td>237353</td>\n",
       "      <td>6.037107e+13</td>\n",
       "      <td>6037</td>\n",
       "      <td>California</td>\n",
       "      <td>Los Angeles County</td>\n",
       "    </tr>\n",
       "  </tbody>\n",
       "</table>\n",
       "<p>36212 rows × 17 columns</p>\n",
       "</div>"
      ],
      "text/plain": [
       "       parcel_id  bathrooms  bedrooms  area  full_bath_cnt    latitude  \\\n",
       "40340   12115385        2.0         3  1218              2  34164673.0   \n",
       "49528   12825439        2.0         3  1662              2  33931418.0   \n",
       "24808   12668213        1.0         3  1580              1  33821835.0   \n",
       "49262   12266229        1.0         3  1079              1  33906624.0   \n",
       "5656    14379497        3.0         4  1986              3  33611735.0   \n",
       "...          ...        ...       ...   ...            ...         ...   \n",
       "11468   11072771        4.0         6  2934              4  34259386.0   \n",
       "45374   12126234        2.0         3  1652              2  34154017.0   \n",
       "38712   12347988        1.0         3  1248              1  33902260.0   \n",
       "872     11059395        2.0         4  1916              2  34256376.0   \n",
       "16057   11008678        3.0         5  2493              3  34310957.0   \n",
       "\n",
       "         longitude  lot_area  region_id_county  regionidzip  room_cnt  \\\n",
       "40340 -118126949.0      9251              3101        96292         0   \n",
       "49528 -118001601.0      6455              3101        96172         0   \n",
       "24808 -118387104.0      7509              3101        96123         0   \n",
       "49262 -118240829.0      6249              3101        96092         0   \n",
       "5656  -117688925.0      7560              1286        96995         8   \n",
       "...            ...       ...               ...          ...       ...   \n",
       "11468 -118567370.0     17056              3101        96346         0   \n",
       "45374 -118074001.0     10642              3101        96295         0   \n",
       "38712 -118118617.0      5027              3101        96208         0   \n",
       "872   -118495653.0      7477              3101        96369         0   \n",
       "16057 -118501521.0     11583              3101        96370         0   \n",
       "\n",
       "       year_built  home_value  census_tract_and_block  fips       state  \\\n",
       "40340        1921      432527            6.037462e+13  6037  California   \n",
       "49528        1954      169135            6.037504e+13  6037  California   \n",
       "24808        1948      163387            6.037621e+13  6037  California   \n",
       "49262        1954      163308            6.037541e+13  6037  California   \n",
       "5656         1968      461551            6.059032e+13  6059  California   \n",
       "...           ...         ...                     ...   ...         ...   \n",
       "11468        1965      425489            6.037113e+13  6037  California   \n",
       "45374        1952       88797            6.037463e+13  6037  California   \n",
       "38712        1952      142940            6.037553e+13  6037  California   \n",
       "872          1959      169295            6.037111e+13  6037  California   \n",
       "16057        1978      237353            6.037107e+13  6037  California   \n",
       "\n",
       "                   county  \n",
       "40340  Los Angeles County  \n",
       "49528  Los Angeles County  \n",
       "24808  Los Angeles County  \n",
       "49262  Los Angeles County  \n",
       "5656        Orange County  \n",
       "...                   ...  \n",
       "11468  Los Angeles County  \n",
       "45374  Los Angeles County  \n",
       "38712  Los Angeles County  \n",
       "872    Los Angeles County  \n",
       "16057  Los Angeles County  \n",
       "\n",
       "[36212 rows x 17 columns]"
      ]
     },
     "execution_count": 8,
     "metadata": {},
     "output_type": "execute_result"
    }
   ],
   "source": [
    "train"
   ]
  },
  {
   "cell_type": "code",
   "execution_count": 9,
   "id": "31a3d7cb-7be8-4da2-a784-3025d848187c",
   "metadata": {},
   "outputs": [
    {
     "data": {
      "image/png": "[encoded data removed]",
      "text/plain": [
       "<Figure size 640x480 with 1 Axes>"
      ]
     },
     "metadata": {},
     "output_type": "display_data"
    }
   ],
   "source": [
    "sns.barplot(data = train, x='bedrooms', y='home_value', color='orange').set(title='Bedrooms Drive Home Value')\n",
    "plt.show()"
   ]
  },
  {
   "cell_type": "markdown",
   "id": "d36bb49e-4df2-4284-9ef7-91d602fef0ac",
   "metadata": {},
   "source": [
    "**Takeaway:**  \n",
    "bedrooms clearly have a relationship that appears linear. This will be a good feature to use to predict single family residential properties in the modeling phase."
   ]
  },
  {
   "cell_type": "markdown",
   "id": "5c72c199-320f-4bec-b827-2ee65ea4487e",
   "metadata": {},
   "source": [
    "  "
   ]
  },
  {
   "cell_type": "markdown",
   "id": "ce1a7fd1-158a-42e8-b7a7-a1c40cacaecb",
   "metadata": {},
   "source": [
    "  "
   ]
  },
  {
   "cell_type": "markdown",
   "id": "e0ea5d24-d14d-422f-8cba-244612bd888b",
   "metadata": {},
   "source": [
    "  "
   ]
  },
  {
   "cell_type": "markdown",
   "id": "6c887dce-1f0d-421d-abda-b984279b4637",
   "metadata": {},
   "source": [
    "  "
   ]
  },
  {
   "cell_type": "markdown",
   "id": "7609be2a-f794-40cf-b67a-05ba1f9e1513",
   "metadata": {},
   "source": [
    "  "
   ]
  },
  {
   "cell_type": "markdown",
   "id": "3f4588e4-eed3-4a92-9854-dfbf21219398",
   "metadata": {},
   "source": [
    "## Question 2\n",
    "\n",
    "* Does home_value have a correlation with year built?\n",
    "\n",
    "home_value is continous and year_built is categorical"
   ]
  },
  {
   "cell_type": "code",
   "execution_count": 10,
   "id": "8ae58225-44f6-48db-9e11-8c927607feb7",
   "metadata": {},
   "outputs": [
    {
     "data": {
      "image/png": "[encoded data removed]",
      "text/plain": [
       "<Figure size 640x480 with 1 Axes>"
      ]
     },
     "metadata": {},
     "output_type": "display_data"
    }
   ],
   "source": [
    "# Create a new column 'decade' by binning 'year_built' values into decades\n",
    "train['decade'] = (train['year_built'] // 10) * 10\n",
    "\n",
    "# Create a bar plot to visualize the relationship between 'decade' and 'tax_amount'\n",
    "plt.figure()\n",
    "sns.barplot(data=train, x='decade', y='home_value', color='orange')\n",
    "plt.xlabel('Decade')\n",
    "plt.ylabel('Home Value')\n",
    "plt.title('Home Value by Decade Built')\n",
    "plt.xticks(rotation=45)\n",
    "plt.show()"
   ]
  },
  {
   "cell_type": "markdown",
   "id": "a4623a9f-2955-4bc0-91bf-90cd74a1df36",
   "metadata": {},
   "source": [
    "  "
   ]
  },
  {
   "cell_type": "markdown",
   "id": "e9e574a6-db17-4cbc-860f-0978210f3d4c",
   "metadata": {},
   "source": [
    "  "
   ]
  },
  {
   "cell_type": "markdown",
   "id": "2a701538-55df-47fd-b7f2-81fdb192eb26",
   "metadata": {},
   "source": [
    "  "
   ]
  },
  {
   "cell_type": "markdown",
   "id": "20096638-4fad-451e-aca6-47be5fae2966",
   "metadata": {},
   "source": [
    "  "
   ]
  },
  {
   "cell_type": "markdown",
   "id": "14a67207-ea5f-4a38-b949-2611329b4c11",
   "metadata": {},
   "source": [
    "  "
   ]
  },
  {
   "cell_type": "markdown",
   "id": "85c0d6e0-849f-4815-9b3e-34e17c33b2d3",
   "metadata": {},
   "source": [
    "# Question 3  \n",
    "\n",
    "- Does home_value have a correlation with area?  \n",
    "<!--homw_value and area is continous.-->\n",
    "\n",
    "**Null Hypothesis($H0$):** There is **a significant correlation** between the area of the property and home value.  \n",
    "\n",
    "**Alternative Hypothesis($Ha$):** There **is no significant correlation** between area of the property and home value."
   ]
  },
  {
   "cell_type": "code",
   "execution_count": 11,
   "id": "2953fca2-e6ce-464e-b07e-91c9d87ee1e0",
   "metadata": {},
   "outputs": [
    {
     "data": {
      "image/png": "[encoded data removed]",
      "text/plain": [
       "<Figure size 500x500 with 1 Axes>"
      ]
     },
     "metadata": {},
     "output_type": "display_data"
    }
   ],
   "source": [
    "sns.lmplot(data=train, x='home_value', y='area', scatter_kws={'color': 'orange'}, line_kws={'color': 'red'}).set(title='Property Area Drives Home Value')\n",
    "plt.ylabel('Area',rotation=0)\n",
    "plt.tight_layout()\n",
    "plt.show()"
   ]
  },
  {
   "cell_type": "code",
   "execution_count": 12,
   "id": "efc88269-8ddd-4a79-9795-9265ddb5e0c1",
   "metadata": {
    "scrolled": true
   },
   "outputs": [
    {
     "name": "stdout",
     "output_type": "stream",
     "text": [
      "Reject the null hypothesis.\n",
      "\n",
      "There is a significant linear correlation between area and home_value.\n",
      "\n",
      "p-value: 0.0\n"
     ]
    }
   ],
   "source": [
    "correlation_coefficient, p_value, conclusion = evaluate_correlation(train.area, train.home_value, method=\"Pearson\")\n",
    "print(f'{conclusion}\\n\\np-value: {p_value}')"
   ]
  },
  {
   "cell_type": "markdown",
   "id": "be5f34ec-ebc0-4183-aa7f-2b92600f9fd1",
   "metadata": {},
   "source": [
    "  "
   ]
  },
  {
   "cell_type": "markdown",
   "id": "65a3f12f-05df-44df-9b0d-15eefdd00106",
   "metadata": {},
   "source": [
    "  "
   ]
  },
  {
   "cell_type": "markdown",
   "id": "f4e345c8-359a-4d28-a2c1-c3c2b3c87441",
   "metadata": {},
   "source": [
    "  "
   ]
  },
  {
   "cell_type": "markdown",
   "id": "168342ee-190e-4cf0-943e-74b500fa20b6",
   "metadata": {},
   "source": [
    "  "
   ]
  },
  {
   "cell_type": "markdown",
   "id": "0eb4ed8e-fa49-420d-b79a-960f389a4cab",
   "metadata": {},
   "source": [
    "  "
   ]
  },
  {
   "cell_type": "markdown",
   "id": "44413c86-189a-4366-b07f-abf354511b44",
   "metadata": {},
   "source": [
    "# Question 4\n",
    "\n",
    "- Does home_value have a correlation with the property lot area?  \n",
    "<!--homw_value and area is continous.-->\n",
    "\n",
    "**Null Hypothesis($H0$):** There is **a significant correlation** between the lot area of the property and home value.  \n",
    "\n",
    "**Alternative Hypothesis($Ha$):** There **is no significant correlation** between lot area of the property and home value."
   ]
  },
  {
   "cell_type": "code",
   "execution_count": 13,
   "id": "4bb877a5-f04e-4b0e-af97-83dd49fe93d0",
   "metadata": {},
   "outputs": [
    {
     "data": {
      "image/png": "[encoded data removed]",
      "text/plain": [
       "<Figure size 500x500 with 1 Axes>"
      ]
     },
     "metadata": {},
     "output_type": "display_data"
    }
   ],
   "source": [
    "sns.lmplot(data=train, x='home_value', y='lot_area', scatter_kws={'color': 'orange'}, line_kws={'color': 'red'}).set(title='Property Lot_Area Drives Home Value')\n",
    "plt.ylabel('Lot Area')\n",
    "plt.tight_layout()\n",
    "plt.show()"
   ]
  },
  {
   "cell_type": "code",
   "execution_count": 14,
   "id": "b4d938ce-70e2-4303-b8d3-2c366969dd3b",
   "metadata": {},
   "outputs": [
    {
     "name": "stdout",
     "output_type": "stream",
     "text": [
      "Reject the null hypothesis.\n",
      "\n",
      "There is a significant linear correlation between lot_area and home_value.\n",
      "\n",
      "Correlation Coefficient: 0.1534\n",
      "\n",
      "p-value: 1.2190776018275202e-189\n"
     ]
    }
   ],
   "source": [
    "correlation_coefficient, p_value, conclusion = evaluate_correlation(train.lot_area, train.home_value, method=\"Spearman\")\n",
    "print(f'{conclusion}\\n\\nCorrelation Coefficient: {correlation_coefficient:.4f}\\n\\np-value: {p_value}')"
   ]
  },
  {
   "cell_type": "code",
   "execution_count": 15,
   "id": "d46ef741-f79c-4c82-8088-55c9394d7fb7",
   "metadata": {},
   "outputs": [],
   "source": [
    "# answer takeaway"
   ]
  },
  {
   "cell_type": "markdown",
   "id": "bca0b509-8d8f-4037-8e55-8e5d6babb083",
   "metadata": {},
   "source": [
    "# Explore Summary"
   ]
  },
  {
   "cell_type": "markdown",
   "id": "2aa74eda-a0ce-4744-9a65-2923e2ee37a7",
   "metadata": {},
   "source": [
    "- The datset consist of alot of LA county homes,\n",
    "- All counties are in the state of california.\n",
    "- There is a right skew to quite a few dsitributions between categorical and continuous data.\n",
    "- home value is on the lower range of the scale when they are all compared.\n",
    "- larger homes exists in ventura county as well as the number of room_cnt and lot_area versus the other counties.\n",
    "- most properties are listed with 0 in la county, i'm not entirely sure why, may be an issue\n",
    "- the data is proportionate with home detail features versus geolocation and outside markers for single residential properties."
   ]
  },
  {
   "cell_type": "markdown",
   "id": "eacb53ec-7239-42d4-9a19-f89bbe27c6e6",
   "metadata": {},
   "source": [
    "# Features for modeling"
   ]
  },
  {
   "cell_type": "markdown",
   "id": "7edeaf75-7d35-4c3a-8051-c1161a6a92c2",
   "metadata": {},
   "source": [
    "* **Features that will be used:**\n",
    "  * *home_value*(target)  \n",
    " "
   ]
  },
  {
   "cell_type": "markdown",
   "id": "8959b620-66dd-4fbd-9ef6-dd212010e9b1",
   "metadata": {},
   "source": [
    "* **Some features that may be useful:**  \n",
    "    * *parcel_id*\n",
    "    * *bathrooms*\n",
    "    * *bedrooms*\n",
    "    * *area*\n",
    "    * *full_bath_cnt*\n",
    "    * *latitude*\n",
    "    * *longitude*\n",
    "    * *lot_area*\n",
    "    * *region_id_county*\n",
    "    * *regionidzip*\n",
    "    * *room_cnt*\n",
    "    * *year_built*\n",
    "    * *census_tract_and_block*\n",
    "    * *fips*\n",
    "    * *state*\n",
    "    * *county*"
   ]
  },
  {
   "cell_type": "markdown",
   "id": "daa9ded6-ca62-45bf-a25d-151aa67e85ae",
   "metadata": {},
   "source": [
    "# Modeling"
   ]
  },
  {
   "cell_type": "markdown",
   "id": "f6224cbd-9bb7-4779-93c9-7ecb826d2440",
   "metadata": {},
   "source": [
    "Root Mean Squared Error Calculated Model Significance will be the evaluation metric\n",
    "\n",
    "Given more time I could gather more data and experiment with the hyperparameter configurations providing possibly a better significance and lower RMSE.\n",
    "\n",
    "Target feature is home_value\n",
    "\n",
    "Baseline RMSE is apprximately $716,000\n",
    "\n",
    "Models will be developed and evaluated using 2 model different hyperparameter set for different features used.\n",
    "\n",
    "RandomForestRegresssor\n",
    "XGBoostRegressor\n",
    "\n",
    "Models will be evaluated on train and validate datasets\n",
    "Best performing model will be the only one evaluated on the test dataset."
   ]
  },
  {
   "cell_type": "markdown",
   "id": "d370db29-df75-40cc-8d0f-c0a47b3bb228",
   "metadata": {},
   "source": [
    "## Best of 3 model configuration"
   ]
  },
  {
   "cell_type": "code",
   "execution_count": 16,
   "id": "4680fcd4-a6fd-4aef-a269-bf890c3efc6e",
   "metadata": {},
   "outputs": [],
   "source": [
    "# create a function to return baseline"
   ]
  },
  {
   "cell_type": "code",
   "execution_count": 17,
   "id": "85363bcd-100e-465a-b992-a423f411ed88",
   "metadata": {},
   "outputs": [
    {
     "ename": "KeyError",
     "evalue": "'poolcnt'",
     "output_type": "error",
     "traceback": [
      "\u001b[0;31m---------------------------------------------------------------------------\u001b[0m",
      "\u001b[0;31mKeyError\u001b[0m                                  Traceback (most recent call last)",
      "File \u001b[0;32m/opt/homebrew/anaconda3/lib/python3.10/site-packages/pandas/core/indexes/base.py:3802\u001b[0m, in \u001b[0;36mIndex.get_loc\u001b[0;34m(self, key, method, tolerance)\u001b[0m\n\u001b[1;32m   3801\u001b[0m \u001b[38;5;28;01mtry\u001b[39;00m:\n\u001b[0;32m-> 3802\u001b[0m     \u001b[38;5;28;01mreturn\u001b[39;00m \u001b[38;5;28;43mself\u001b[39;49m\u001b[38;5;241;43m.\u001b[39;49m\u001b[43m_engine\u001b[49m\u001b[38;5;241;43m.\u001b[39;49m\u001b[43mget_loc\u001b[49m\u001b[43m(\u001b[49m\u001b[43mcasted_key\u001b[49m\u001b[43m)\u001b[49m\n\u001b[1;32m   3803\u001b[0m \u001b[38;5;28;01mexcept\u001b[39;00m \u001b[38;5;167;01mKeyError\u001b[39;00m \u001b[38;5;28;01mas\u001b[39;00m err:\n",
      "File \u001b[0;32m/opt/homebrew/anaconda3/lib/python3.10/site-packages/pandas/_libs/index.pyx:138\u001b[0m, in \u001b[0;36mpandas._libs.index.IndexEngine.get_loc\u001b[0;34m()\u001b[0m\n",
      "File \u001b[0;32m/opt/homebrew/anaconda3/lib/python3.10/site-packages/pandas/_libs/index.pyx:165\u001b[0m, in \u001b[0;36mpandas._libs.index.IndexEngine.get_loc\u001b[0;34m()\u001b[0m\n",
      "File \u001b[0;32mpandas/_libs/hashtable_class_helper.pxi:5745\u001b[0m, in \u001b[0;36mpandas._libs.hashtable.PyObjectHashTable.get_item\u001b[0;34m()\u001b[0m\n",
      "File \u001b[0;32mpandas/_libs/hashtable_class_helper.pxi:5753\u001b[0m, in \u001b[0;36mpandas._libs.hashtable.PyObjectHashTable.get_item\u001b[0;34m()\u001b[0m\n",
      "\u001b[0;31mKeyError\u001b[0m: 'poolcnt'",
      "\nThe above exception was the direct cause of the following exception:\n",
      "\u001b[0;31mKeyError\u001b[0m                                  Traceback (most recent call last)",
      "Cell \u001b[0;32mIn[17], line 4\u001b[0m\n\u001b[1;32m      1\u001b[0m \u001b[38;5;66;03m# function (wrangle) and split maybe\u001b[39;00m\n\u001b[1;32m      2\u001b[0m df \u001b[38;5;241m=\u001b[39m acquire_zillow()\n\u001b[0;32m----> 4\u001b[0m df \u001b[38;5;241m=\u001b[39m \u001b[43mclean_zil\u001b[49m\u001b[43m(\u001b[49m\u001b[43mdf\u001b[49m\u001b[43m)\u001b[49m\n\u001b[1;32m      6\u001b[0m \u001b[38;5;66;03m#have to drop categorical features becasue regression model only uses numerical features.\u001b[39;00m\n\u001b[1;32m      7\u001b[0m df \u001b[38;5;241m=\u001b[39m df\u001b[38;5;241m.\u001b[39mdrop(columns\u001b[38;5;241m=\u001b[39m[\u001b[38;5;124m'\u001b[39m\u001b[38;5;124mproperty_county_landuse_code\u001b[39m\u001b[38;5;124m'\u001b[39m, \u001b[38;5;124m'\u001b[39m\u001b[38;5;124mproperty_zoning_desc\u001b[39m\u001b[38;5;124m'\u001b[39m, \u001b[38;5;124m'\u001b[39m\u001b[38;5;124mn-prop_type\u001b[39m\u001b[38;5;124m'\u001b[39m, \u001b[38;5;124m'\u001b[39m\u001b[38;5;124mn-av_room_size\u001b[39m\u001b[38;5;124m'\u001b[39m, \u001b[38;5;124m'\u001b[39m\u001b[38;5;124mcounty\u001b[39m\u001b[38;5;124m'\u001b[39m, \u001b[38;5;124m'\u001b[39m\u001b[38;5;124mstate\u001b[39m\u001b[38;5;124m'\u001b[39m])\n",
      "File \u001b[0;32m~/codeup-data-science/zillow_project/wrangle.py:156\u001b[0m, in \u001b[0;36mclean_zil\u001b[0;34m(df)\u001b[0m\n\u001b[1;32m    145\u001b[0m \u001b[38;5;250m\u001b[39m\u001b[38;5;124;03m\"\"\"\u001b[39;00m\n\u001b[1;32m    146\u001b[0m \u001b[38;5;124;03mCleans the Zillow data.\u001b[39;00m\n\u001b[1;32m    147\u001b[0m \u001b[38;5;124;03m\u001b[39;00m\n\u001b[0;32m   (...)\u001b[0m\n\u001b[1;32m    152\u001b[0m \u001b[38;5;124;03m- df (DataFrame): Cleaned Zillow data.\u001b[39;00m\n\u001b[1;32m    153\u001b[0m \u001b[38;5;124;03m\"\"\"\u001b[39;00m\n\u001b[1;32m    155\u001b[0m \u001b[38;5;66;03m# Pool features edits\u001b[39;00m\n\u001b[0;32m--> 156\u001b[0m \u001b[43mdf\u001b[49m\u001b[43m[\u001b[49m\u001b[38;5;124;43m'\u001b[39;49m\u001b[38;5;124;43mpoolcnt\u001b[39;49m\u001b[38;5;124;43m'\u001b[39;49m\u001b[43m]\u001b[49m\u001b[38;5;241m.\u001b[39mfillna(\u001b[38;5;241m0\u001b[39m, inplace\u001b[38;5;241m=\u001b[39m\u001b[38;5;28;01mTrue\u001b[39;00m)\n\u001b[1;32m    157\u001b[0m df[\u001b[38;5;124m'\u001b[39m\u001b[38;5;124mhashottuborspa\u001b[39m\u001b[38;5;124m'\u001b[39m]\u001b[38;5;241m.\u001b[39mfillna(\u001b[38;5;241m0\u001b[39m, inplace\u001b[38;5;241m=\u001b[39m\u001b[38;5;28;01mTrue\u001b[39;00m)\n\u001b[1;32m    158\u001b[0m df[\u001b[38;5;124m'\u001b[39m\u001b[38;5;124mhashottuborspa\u001b[39m\u001b[38;5;124m'\u001b[39m]\u001b[38;5;241m.\u001b[39mreplace(\u001b[38;5;28;01mTrue\u001b[39;00m, \u001b[38;5;241m1\u001b[39m, inplace\u001b[38;5;241m=\u001b[39m\u001b[38;5;28;01mTrue\u001b[39;00m)\n",
      "File \u001b[0;32m/opt/homebrew/anaconda3/lib/python3.10/site-packages/pandas/core/frame.py:3807\u001b[0m, in \u001b[0;36mDataFrame.__getitem__\u001b[0;34m(self, key)\u001b[0m\n\u001b[1;32m   3805\u001b[0m \u001b[38;5;28;01mif\u001b[39;00m \u001b[38;5;28mself\u001b[39m\u001b[38;5;241m.\u001b[39mcolumns\u001b[38;5;241m.\u001b[39mnlevels \u001b[38;5;241m>\u001b[39m \u001b[38;5;241m1\u001b[39m:\n\u001b[1;32m   3806\u001b[0m     \u001b[38;5;28;01mreturn\u001b[39;00m \u001b[38;5;28mself\u001b[39m\u001b[38;5;241m.\u001b[39m_getitem_multilevel(key)\n\u001b[0;32m-> 3807\u001b[0m indexer \u001b[38;5;241m=\u001b[39m \u001b[38;5;28;43mself\u001b[39;49m\u001b[38;5;241;43m.\u001b[39;49m\u001b[43mcolumns\u001b[49m\u001b[38;5;241;43m.\u001b[39;49m\u001b[43mget_loc\u001b[49m\u001b[43m(\u001b[49m\u001b[43mkey\u001b[49m\u001b[43m)\u001b[49m\n\u001b[1;32m   3808\u001b[0m \u001b[38;5;28;01mif\u001b[39;00m is_integer(indexer):\n\u001b[1;32m   3809\u001b[0m     indexer \u001b[38;5;241m=\u001b[39m [indexer]\n",
      "File \u001b[0;32m/opt/homebrew/anaconda3/lib/python3.10/site-packages/pandas/core/indexes/base.py:3804\u001b[0m, in \u001b[0;36mIndex.get_loc\u001b[0;34m(self, key, method, tolerance)\u001b[0m\n\u001b[1;32m   3802\u001b[0m     \u001b[38;5;28;01mreturn\u001b[39;00m \u001b[38;5;28mself\u001b[39m\u001b[38;5;241m.\u001b[39m_engine\u001b[38;5;241m.\u001b[39mget_loc(casted_key)\n\u001b[1;32m   3803\u001b[0m \u001b[38;5;28;01mexcept\u001b[39;00m \u001b[38;5;167;01mKeyError\u001b[39;00m \u001b[38;5;28;01mas\u001b[39;00m err:\n\u001b[0;32m-> 3804\u001b[0m     \u001b[38;5;28;01mraise\u001b[39;00m \u001b[38;5;167;01mKeyError\u001b[39;00m(key) \u001b[38;5;28;01mfrom\u001b[39;00m \u001b[38;5;21;01merr\u001b[39;00m\n\u001b[1;32m   3805\u001b[0m \u001b[38;5;28;01mexcept\u001b[39;00m \u001b[38;5;167;01mTypeError\u001b[39;00m:\n\u001b[1;32m   3806\u001b[0m     \u001b[38;5;66;03m# If we have a listlike key, _check_indexing_error will raise\u001b[39;00m\n\u001b[1;32m   3807\u001b[0m     \u001b[38;5;66;03m#  InvalidIndexError. Otherwise we fall through and re-raise\u001b[39;00m\n\u001b[1;32m   3808\u001b[0m     \u001b[38;5;66;03m#  the TypeError.\u001b[39;00m\n\u001b[1;32m   3809\u001b[0m     \u001b[38;5;28mself\u001b[39m\u001b[38;5;241m.\u001b[39m_check_indexing_error(key)\n",
      "\u001b[0;31mKeyError\u001b[0m: 'poolcnt'"
     ]
    }
   ],
   "source": [
    "# function (wrangle) and split maybe\n",
    "df = acquire_zillow()\n",
    "\n",
    "df = clean_zil(df)\n",
    "\n",
    "#have to drop categorical features becasue regression model only uses numerical features.\n",
    "df = df.drop(columns=['property_county_landuse_code', 'property_zoning_desc', 'n-prop_type', 'n-av_room_size', 'county', 'state'])\n",
    "\n",
    "train, val, test = train_val_test(df)\n",
    "\n",
    "# checking shape of subset dfs\n",
    "train.shape, val.shape, test.shape"
   ]
  },
  {
   "cell_type": "code",
   "execution_count": null,
   "id": "6ebb36f2-45d3-43f4-8435-92c7aec43117",
   "metadata": {},
   "outputs": [],
   "source": [
    "train.max()"
   ]
  },
  {
   "cell_type": "code",
   "execution_count": null,
   "id": "980cf8f1-d108-450a-a742-26d32f8235bc",
   "metadata": {},
   "outputs": [],
   "source": [
    "# # need to have the same shape before x, y split\n",
    "# train['decade'] = (train['year_built'] // 10) * 10\n",
    "# val['decade'] = (val['year_built'] // 10) * 10\n",
    "# test['decade'] = (test['year_built'] // 10) * 10"
   ]
  },
  {
   "cell_type": "code",
   "execution_count": null,
   "id": "1dbaf1f0-28ca-4425-833b-4b2c5e6da9e9",
   "metadata": {},
   "outputs": [],
   "source": [
    "# checking shape of subset df\n",
    "train.shape, val.shape, test.shape"
   ]
  },
  {
   "cell_type": "code",
   "execution_count": null,
   "id": "a18ef59f-7021-4238-933f-2fe8a7607836",
   "metadata": {},
   "outputs": [],
   "source": [
    "# additional manipulation\n",
    "train = train[(train['home_value'] < 3_000_000)]"
   ]
  },
  {
   "cell_type": "code",
   "execution_count": null,
   "id": "5f4f850d-e2dd-49c5-8515-f9c2e23d75ad",
   "metadata": {},
   "outputs": [],
   "source": [
    "#splitted subsets into x and y only for train and val, not doing test just yet\n",
    "X_train, y_train = xy_split(train, 'home_value')\n",
    "X_val, y_val = xy_split(val, 'home_value')"
   ]
  },
  {
   "cell_type": "code",
   "execution_count": null,
   "id": "5b053ee6-770c-4fc5-b02e-4fa519dda8f5",
   "metadata": {},
   "outputs": [],
   "source": [
    "# checking mean to see if it is good for baseline, doesn't seem like it so far.\n",
    "y_train.mean()"
   ]
  },
  {
   "cell_type": "code",
   "execution_count": null,
   "id": "2241b8b1-bf3c-4bfa-af66-703d53459afd",
   "metadata": {},
   "outputs": [],
   "source": [
    "# The baseline will be median, assigned bl as y_train median value\n",
    "bl = y_train.median()\n",
    "bl"
   ]
  },
  {
   "cell_type": "code",
   "execution_count": null,
   "id": "812499b4-8118-490e-bbf8-2707ced30fbb",
   "metadata": {},
   "outputs": [],
   "source": [
    "# created a DF to work with\n",
    "preds = pd.DataFrame({'y_actual' : y_train,\n",
    "              'y_baseline': y_train.median()})\n",
    "\n",
    "preds.head()"
   ]
  },
  {
   "cell_type": "code",
   "execution_count": null,
   "id": "9106c7a6-cb69-459f-ade4-6e248574c733",
   "metadata": {},
   "outputs": [],
   "source": [
    "preds['y_baseline_residuals'] = preds['y_baseline'] - preds['y_actual']\n",
    "preds.head()"
   ]
  },
  {
   "cell_type": "code",
   "execution_count": null,
   "id": "8840a76f-532a-4b17-835d-4753a2ba1c30",
   "metadata": {},
   "outputs": [],
   "source": [
    "lm = LinearRegression()\n",
    "\n",
    "lm.fit(X_train, y_train)\n",
    "\n",
    "preds['y_hat'] = lm.predict(X_train)"
   ]
  },
  {
   "cell_type": "code",
   "execution_count": null,
   "id": "09b766aa-dc4b-4abf-8f67-b884eee04c33",
   "metadata": {},
   "outputs": [],
   "source": [
    "lm"
   ]
  },
  {
   "cell_type": "code",
   "execution_count": null,
   "id": "c4e2db81-c797-4518-b774-9519b558476c",
   "metadata": {},
   "outputs": [],
   "source": [
    "# y-hat resids calc\n",
    "preds['y_hat_residuals'] = preds['y_hat'] - preds['y_actual']\n",
    "preds.head()"
   ]
  },
  {
   "cell_type": "code",
   "execution_count": null,
   "id": "63e131ec-b8cd-456d-a735-067171e2e5c0",
   "metadata": {},
   "outputs": [],
   "source": [
    "plot_residuals(preds.y_actual, preds.y_hat)\n",
    "\n",
    "print(f\"\\n-------------------------------------\")\n",
    "\n",
    "\n",
    "SSE, ESS, TSS, MSE, RMSE = regression_errors(preds.y_actual, preds.y_hat)\n",
    "\n",
    "print(f\"\\nModel SSE: {SSE:.2f}\\n\")\n",
    "\n",
    "print(f\"Model ESS: {ESS:.2f}\\n\")\n",
    "\n",
    "print(f\"Model TSS: {TSS:.2f}\\n\")\n",
    "\n",
    "print(f\"Model MSE: {MSE:.2f}\\n\")\n",
    "\n",
    "print(f\"Model RMSE: {RMSE:.2f}\\n\")\n",
    "\n",
    "print(f\"\\n-------------------------------------\")\n",
    "\n",
    "SSE_baseline, MSE_baseline, RMSE_baseline = baseline_mean_errors(preds.y_actual)\n",
    "\n",
    "print(f\"Baseline SSE: {SSE_baseline:.2f}\\n\")\n",
    "\n",
    "print(f\"Baseline MSE: {MSE_baseline:.2f}\\n\")\n",
    "\n",
    "print(f\"Baseline RMSE: {RMSE_baseline:.2f}\\n\")\n",
    "\n",
    "print(f\"\\n-------------------------------------\")\n",
    "\n",
    "print(f\"\\nIs the model better than the baseline? {better_than_baseline(preds.y_actual, preds.y_hat)}\")"
   ]
  },
  {
   "cell_type": "markdown",
   "id": "443fcf0f-7561-4d3b-88ee-04b83f1b3969",
   "metadata": {},
   "source": [
    "  "
   ]
  },
  {
   "cell_type": "markdown",
   "id": "a8cc0ae8-b845-45f7-9f05-5af236805415",
   "metadata": {},
   "source": [
    "  "
   ]
  },
  {
   "cell_type": "markdown",
   "id": "3b01ef8e-9295-4842-988d-2d65429900a7",
   "metadata": {},
   "source": [
    "  "
   ]
  },
  {
   "cell_type": "code",
   "execution_count": null,
   "id": "757499d3-433f-4150-9ea4-0072434fd181",
   "metadata": {},
   "outputs": [],
   "source": [
    "train.columns.to_list()"
   ]
  },
  {
   "cell_type": "code",
   "execution_count": null,
   "id": "4808eeb7-97b7-4856-bc44-420df70c8a5f",
   "metadata": {
    "scrolled": true
   },
   "outputs": [],
   "source": [
    "to_scale = ['parcel_id',\n",
    "            'latitude',\n",
    "            'longitude',\n",
    "            'lot_area',\n",
    "            'region_id_county',\n",
    "            'region_id_zip',\n",
    "            'bathrooms',\n",
    "            'bedrooms',\n",
    "            'calc_bath_count',\n",
    "            'area',\n",
    "            'basement_sqft',\n",
    "            'finished_square_feet_12',\n",
    "            'finished_sqft_15',\n",
    "            'finishedsqft50',\n",
    "            'fips',\n",
    "            'rooms',\n",
    "            'num_stories',\n",
    "            'year_built',\n",
    "            'property_landuse_type_id',\n",
    "            'ac_type_id',\n",
    "            'building_quality_type_id',\n",
    "            'heating_or_system_type_id',\n",
    "            'deck_type_id',\n",
    "            'unit_cnt',\n",
    "            'garage_car_cnt',\n",
    "            'garage_total_sqft',\n",
    "            'pool_cnt',\n",
    "            'pool_size_sum',\n",
    "            'pool_type_id_2',\n",
    "            'pool_type_id_7',\n",
    "            'fire_place_cnt',\n",
    "            'fire_place_flag',\n",
    "            'has_hot_tub_or_spa',\n",
    "            'patio_sqft',\n",
    "            'storage_sqft',\n",
    "            'tax_delinquency_flag',\n",
    "            'raw_census_tract_and_block',\n",
    "            'n-life',\n",
    "            'n-living_area_error',\n",
    "            'n-living_area_prop',\n",
    "            'n-living_area_prop2',\n",
    "            'n-extra_space',\n",
    "            'n-extra_space-2',\n",
    "            'n-total_rooms',\n",
    "            'n-extra_rooms',\n",
    "            'n-gar_pool_ac',\n",
    "            'n-location',\n",
    "            'n-location-2',\n",
    "            'n-location-2round',\n",
    "            'n-latitude-round',\n",
    "            'n-longitude-round',\n",
    "            'n-zip_count',\n",
    "            'n-county_count',\n",
    "            'n-ac_ind',\n",
    "            'n-heat_ind']\n",
    "train, val, test = scale_data(train, val, test, to_scale)\n",
    "train.head()"
   ]
  },
  {
   "cell_type": "code",
   "execution_count": null,
   "id": "3adc94c5-1de8-42e1-9501-d1a5becd3cf1",
   "metadata": {},
   "outputs": [],
   "source": [
    "#splitted subsets into x and y only for train and val, not doing test just yet\n",
    "X_train, y_train = xy_split(train, 'home_value')\n",
    "X_val, y_val = xy_split(val, 'home_value')"
   ]
  },
  {
   "cell_type": "code",
   "execution_count": null,
   "id": "539aa343-eb54-4143-88d9-bf40a7119940",
   "metadata": {},
   "outputs": [],
   "source": [
    "y_train.mean(), y_train.median()\n",
    "bl = pd.DataFrame({\"y_actual\" : y_train,\n",
    "                   \"y_mean\" : y_train.mean(),\n",
    "                   \"y_median\" : y_train.median()})\n",
    "bl.head()"
   ]
  },
  {
   "cell_type": "markdown",
   "id": "76d86199-00b4-4557-8164-beb1fe4a89c8",
   "metadata": {},
   "source": [
    "## Model 1"
   ]
  },
  {
   "cell_type": "code",
   "execution_count": null,
   "id": "f57292f4-b397-4a76-a7ab-1583869e6fa2",
   "metadata": {},
   "outputs": [],
   "source": [
    "rfr = RandomForestRegressor()\n",
    "trained_model, train_rmse, val_rmse = train_and_evaluate_model(rfr, X_train, y_train, X_val, y_val)"
   ]
  },
  {
   "cell_type": "code",
   "execution_count": null,
   "id": "e3539dc0-5bc1-4c30-8c85-d8944b7d8b26",
   "metadata": {},
   "outputs": [],
   "source": [
    "from sklearn.ensemble import RandomForestRegressor\n",
    "\n",
    "# Assuming you have trained your Random Forest Regression model (rf_model) using your train_and_evaluate_model function\n",
    "\n",
    "feature_names = X_train.columns.to_list()\n",
    "\n",
    "# Feature Importance Plot\n",
    "feature_importance = trained_model.feature_importances_\n",
    "plt.figure(figsize=(10, 6))\n",
    "sns.barplot(x=feature_importance, y=feature_names)\n",
    "plt.xlabel(\"Feature Importance\")\n",
    "plt.ylabel(\"Feature Names\")\n",
    "plt.title(\"Random Forest Feature Importance\")\n",
    "plt.show()\n",
    "\n",
    "# Scatterplot of Actual vs. Predicted Values\n",
    "predicted_val_rf = trained_model.predict(X_val)\n",
    "plt.figure(figsize=(8, 6))\n",
    "plt.scatter(y_val, predicted_val_rf, alpha=0.5)\n",
    "plt.xlabel(\"Actual Values (y_val)\")\n",
    "plt.ylabel(\"Predicted Values (Random Forest)\")\n",
    "plt.title(\"Scatterplot of Actual vs. Predicted Values (Random Forest)\")\n",
    "plt.plot([min(y_val), max(y_val)], [min(y_val), max(y_val)], linestyle='--', color='red', lw=2)\n",
    "plt.show()\n",
    "\n",
    "# Residual Plot\n",
    "residuals_rf = y_val - predicted_val_rf\n",
    "plt.figure(figsize=(8, 6))\n",
    "plt.scatter(predicted_val_rf, residuals_rf, alpha=0.5)\n",
    "plt.xlabel(\"Predicted Values (Random Forest)\")\n",
    "plt.ylabel(\"Residuals\")\n",
    "plt.title(\"Residual Plot (Random Forest)\")\n",
    "plt.axhline(y=0, color='red', linestyle='--', lw=2)\n",
    "plt.show()\n",
    "\n",
    "# Distribution of Residuals (Random Forest)\n",
    "plt.figure(figsize=(8, 6))\n",
    "sns.histplot(residuals_rf, kde=True)\n",
    "plt.xlabel(\"Residuals (Random Forest)\")\n",
    "plt.ylabel(\"Frequency\")\n",
    "plt.title(\"Distribution of Residuals (Random Forest)\")\n",
    "plt.show()\n"
   ]
  },
  {
   "cell_type": "markdown",
   "id": "cc10ee97-561d-4ecd-b443-f45b16fd31f8",
   "metadata": {},
   "source": [
    "## Model 2"
   ]
  },
  {
   "cell_type": "code",
   "execution_count": null,
   "id": "78920251-fd10-40d0-be45-dc677545dba5",
   "metadata": {},
   "outputs": [],
   "source": [
    "xgboost = XGBRegressor()\n",
    "trained_model, train_rmse, val_rmse = train_and_evaluate_model(xgboost, X_train, y_train, X_val, y_val)"
   ]
  },
  {
   "cell_type": "code",
   "execution_count": null,
   "id": "24c3cbc9-5c72-49d5-9e54-d50ea71bd4fe",
   "metadata": {},
   "outputs": [],
   "source": [
    "import xgboost as xgb\n",
    "\n",
    "# Assuming you have trained your XGBoost Regression model (xgb_model) using your train_and_evaluate_model function\n",
    "\n",
    "# Feature Importance Plot (XGBoost)\n",
    "plt.figure(figsize=(10, 6))\n",
    "xgb.plot_importance(trained_model, height=0.5)\n",
    "plt.title(\"XGBoost Feature Importance\")\n",
    "plt.show()\n",
    "\n",
    "# Scatterplot of Actual vs. Predicted Values (XGBoost)\n",
    "predicted_val_xgb = trained_model.predict(X_val)\n",
    "plt.figure(figsize=(8, 6))\n",
    "plt.scatter(y_val, predicted_val_xgb, alpha=0.5)\n",
    "plt.xlabel(\"Actual Values (y_val)\")\n",
    "plt.ylabel(\"Predicted Values (XGBoost)\")\n",
    "plt.title(\"Scatterplot of Actual vs. Predicted Values (XGBoost)\")\n",
    "plt.plot([min(y_val), max(y_val)], [min(y_val), max(y_val)], linestyle='--', color='red', lw=2)\n",
    "plt.show()\n",
    "\n",
    "# Residual Plot (XGBoost)\n",
    "residuals_xgb = y_val - predicted_val_xgb\n",
    "plt.figure(figsize=(8, 6))\n",
    "plt.scatter(predicted_val_xgb, residuals_xgb, alpha=0.5)\n",
    "plt.xlabel(\"Predicted Values (XGBoost)\")\n",
    "plt.ylabel(\"Residuals (XGBoost)\")\n",
    "plt.title(\"Residual Plot (XGBoost)\")\n",
    "plt.axhline(y=0, color='red', linestyle='--', lw=2)\n",
    "plt.show()\n",
    "\n",
    "# Distribution of Residuals (XGBoost)\n",
    "plt.figure(figsize=(8, 6))\n",
    "sns.histplot(residuals_xgb, kde=True)\n",
    "plt.xlabel(\"Residuals (XGBoost)\")\n",
    "plt.ylabel(\"Frequency\")\n",
    "plt.title(\"Distribution of Residuals (XGBoost)\")\n",
    "plt.show()\n"
   ]
  },
  {
   "cell_type": "markdown",
   "id": "4b62aa2a-6228-4275-bced-e4f92f9b3070",
   "metadata": {},
   "source": [
    "## Model 3"
   ]
  },
  {
   "cell_type": "code",
   "execution_count": null,
   "id": "db7f44b2-8d36-4f2e-944e-f8d66f7227e7",
   "metadata": {},
   "outputs": [],
   "source": [
    "poly = PolynomialFeatures()\n",
    "X_train = poly.fit_transform(X_train)\n",
    "X_val = poly.transform(X_val)"
   ]
  },
  {
   "cell_type": "code",
   "execution_count": null,
   "id": "3746616e-d1d1-4cfd-8d93-f551b79e1482",
   "metadata": {},
   "outputs": [],
   "source": [
    "lm = LinearRegression()\n",
    "trained_model, train_rmse, val_rmse = train_and_evaluate_model(lm, X_train, y_train, X_val, y_val)"
   ]
  },
  {
   "cell_type": "markdown",
   "id": "fcb93c20-35ca-4e5b-90b0-e9e2b44f62a3",
   "metadata": {},
   "source": [
    "## Best on Test"
   ]
  },
  {
   "cell_type": "markdown",
   "id": "90aa898d-9ec0-4723-89bb-28950f586ab2",
   "metadata": {},
   "source": [
    "- RandomForest maybe"
   ]
  },
  {
   "cell_type": "markdown",
   "id": "b0f9057c-b78a-4dfd-ab5f-e7ce86f48d36",
   "metadata": {},
   "source": [
    "## Model Results visualization"
   ]
  },
  {
   "cell_type": "code",
   "execution_count": null,
   "id": "fc3b5984-67ad-46c4-8335-b140e296c643",
   "metadata": {},
   "outputs": [],
   "source": [
    "# display visual call function"
   ]
  },
  {
   "cell_type": "code",
   "execution_count": null,
   "id": "a9c9dc67-7aeb-45fd-a353-2a743ced9032",
   "metadata": {},
   "outputs": [],
   "source": [
    "import matplotlib.pyplot as plt\n",
    "import seaborn as sns\n",
    "import numpy as np\n",
    "\n",
    "# Assuming you have trained your linear regression model (lm) using your train_and_evaluate_model function\n",
    "\n",
    "# Scatterplot of Actual vs. Predicted Values\n",
    "predicted_val = trained_model.predict(X_val)\n",
    "plt.figure(figsize=(8, 6))\n",
    "plt.scatter(y_val, predicted_val, alpha=0.5)\n",
    "plt.xlabel(\"Actual Values (y_val)\")\n",
    "plt.ylabel(\"Predicted Values\")\n",
    "plt.title(\"Scatterplot of Actual vs. Predicted Values\")\n",
    "plt.plot([min(y_val), max(y_val)], [min(y_val), max(y_val)], linestyle='--', color='red', lw=2)\n",
    "plt.show()\n",
    "\n",
    "# Residual Plot\n",
    "residuals = y_val - predicted_val\n",
    "plt.figure(figsize=(8, 6))\n",
    "plt.scatter(predicted_val, residuals, alpha=0.5)\n",
    "plt.xlabel(\"Predicted Values\")\n",
    "plt.ylabel(\"Residuals\")\n",
    "plt.title(\"Residual Plot\")\n",
    "plt.axhline(y=0, color='red', linestyle='--', lw=2)\n",
    "plt.show()\n",
    "\n",
    "# Distribution of Residuals\n",
    "plt.figure(figsize=(8, 6))\n",
    "sns.histplot(residuals, kde=True)\n",
    "plt.xlabel(\"Residuals\")\n",
    "plt.ylabel(\"Frequency\")\n",
    "plt.title(\"Distribution of Residuals\")\n",
    "plt.show()\n",
    "\n",
    "# Coefficient Plot\n",
    "coefficients = trained_model.coef_\n",
    "feature_names = X_train.columns\n",
    "plt.figure(figsize=(10, 6))\n",
    "sns.barplot(x=coefficients, y=feature_names)\n",
    "plt.xlabel(\"Coefficient Value\")\n",
    "plt.ylabel(\"Feature Names\")\n",
    "plt.title(\"Coefficient Plot\")\n",
    "plt.show()\n",
    "\n",
    "# Learning Curve (if you have this data)\n",
    "train_rmse_values = []  # Store training RMSE values for different sample sizes or iterations\n",
    "val_rmse_values = []    # Store validation RMSE values for different sample sizes or iterations\n",
    "\n",
    "# Loop through different sample sizes or iterations and record RMSE values\n",
    "for i in range(1, len(X_train) + 1):\n",
    "    lm.fit(X_train[:i], y_train[:i])  # Train on a subset of the data\n",
    "    train_rmse_values.append(np.sqrt(np.mean((y_train[:i] - lm.predict(X_train[:i]))**2)))\n",
    "    val_rmse_values.append(np.sqrt(np.mean((y_val - lm.predict(X_val))**2)))\n",
    "\n",
    "# Create learning curve plot\n",
    "plt.figure(figsize=(8, 6))\n",
    "plt.plot(range(1, len(X_train) + 1), train_rmse_values, label='Training RMSE')\n",
    "plt.plot(range(1, len(X_train) + 1), val_rmse_values, label='Validation RMSE')\n",
    "plt.xlabel(\"Sample Size or Iterations\")\n",
    "plt.ylabel(\"RMSE\")\n",
    "plt.title(\"Learning Curve\")\n",
    "plt.legend()\n",
    "plt.show()\n"
   ]
  },
  {
   "cell_type": "markdown",
   "id": "e80c7ad5-4ba2-4b85-8dd4-978f71a81b99",
   "metadata": {},
   "source": [
    "## Model Summary"
   ]
  },
  {
   "cell_type": "markdown",
   "id": "6f9a3f38-5754-4d26-84d9-90cfe55df6f3",
   "metadata": {},
   "source": [
    "- RandomForestRegression and XGBoostRegression had between 100,000 - 200,000 difference between train and validate.  \n",
    "- Best overall with the test done on RandomForestRegression with a  RMSE Calculated Significance Value of $459,000.\n",
    "  \n",
    "- RMSE Calculated Significance Value of $459,000$ dollars does better than the baseline with $716,000$ dollars.  "
   ]
  },
  {
   "cell_type": "markdown",
   "id": "7d0519dd-fa78-41df-b719-ca8fa3a4218b",
   "metadata": {},
   "source": [
    "# Conclusion"
   ]
  },
  {
   "cell_type": "markdown",
   "id": "d4d9ae15-9be2-4f6e-9d34-0a862f10f521",
   "metadata": {},
   "source": [
    "## Takeaways and Key findings"
   ]
  },
  {
   "cell_type": "markdown",
   "id": "fcd0beff-78e6-4a99-b472-d2245f5c55e1",
   "metadata": {},
   "source": [
    "- Home details like the calculated area of home, lot area, bedrooms, bathrooms, full bathrooms, year built drive home value.\n",
    "- Calculated area is the most important feature across all features.\n",
    "- There higher priced adn larger single redidential family properties seems to be concentrated in ventura county and less larger  homes are spread on ornage and los angeles county"
   ]
  },
  {
   "cell_type": "markdown",
   "id": "4de0a852-6f1e-4e4a-98b1-8c8568d96d00",
   "metadata": {},
   "source": [
    "## Recommendations"
   ]
  },
  {
   "cell_type": "markdown",
   "id": "aa06155f-cfee-4a01-bf5f-c906e9f7544c",
   "metadata": {},
   "source": [
    "- Gathering data on built years and lot sizes may improve price prediction for single residential family home values.\n",
    "- I would recommend confirming pool on a property as it may help determine true value for properties with this information."
   ]
  },
  {
   "cell_type": "markdown",
   "id": "74878f55-3cbe-4172-8091-7c444d639b12",
   "metadata": {},
   "source": [
    "## Next Steps"
   ]
  },
  {
   "cell_type": "markdown",
   "id": "fd0b9866-c04f-4cc0-97f9-623dd500b2bb",
   "metadata": {},
   "source": [
    "- If i had more time I would want to gatehr more data and maybe fill null values with imputations that closely resemble data and also feature engineer data to include new features and possibily fine tune parameter for these models.m"
   ]
  }
 ],
 "metadata": {
  "kernelspec": {
   "display_name": "Python 3 (ipykernel)",
   "language": "python",
   "name": "python3"
  },
  "language_info": {
   "codemirror_mode": {
    "name": "ipython",
    "version": 3
   },
   "file_extension": ".py",
   "mimetype": "text/x-python",
   "name": "python",
   "nbconvert_exporter": "python",
   "pygments_lexer": "ipython3",
   "version": "3.10.9"
  }
 },
 "nbformat": 4,
 "nbformat_minor": 5
}
